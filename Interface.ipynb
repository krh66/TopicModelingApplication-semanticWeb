{
 "cells": [
  {
   "cell_type": "code",
   "execution_count": null,
   "metadata": {},
   "outputs": [],
   "source": [
    "import rdflib\n",
    "import rdflib.plugins.sparql as sparql\n",
    "import tkinter as tk\n",
    "import pandas as pd\n",
    "import webbrowser\n",
    "def callback(url):\n",
    "    webbrowser.open_new(url)\n",
    "\n",
    "def search(id):\n",
    "    try:\n",
    "        val = int(id)\n",
    "        OTO = rdflib.URIRef(\"http://www.semanticweb.org/marcushsu/ontologies/2020/10/untitled-ontology-45#\")\n",
    "        XMLNS = rdflib.URIRef(\"http://www.semanticweb.org/marcushsu/ontologies/2020/10/ser531#\")\n",
    "        PRO = rdflib.URIRef(\"http://www.semanticweb.org/marcushsu/ontologies/2020/10/ser531#\")\n",
    "        XSD = rdflib.URIRef(\"http://www.w3.org/2001/XMLSchema#\")\n",
    "        RDF = rdflib.URIRef(\"http://www.w3.org/1999/02/22-rdf-syntax-ns#\")\n",
    "        q = sparql.prepareQuery(\n",
    "            'SELECT ?a ?title ?content WHERE { ?a xmlns:hasID ?v . ?a oto:hasTitle ?label . ?label xmlns:TitleContent ?title . ?a oto:hasBody ?body . ?body xmlns:BodyContent ?content}', \n",
    "            initNs = {\"oto\":OTO, \"xmlns\": XMLNS,\"xsd\":XSD,\"pro\":PRO})\n",
    "        g = rdflib.Graph()\n",
    "        g.parse(\"test1.owl\")\n",
    "        h = rdflib.URIRef(\"http://www.semanticweb.org/marcushsu/ontologies/2020/10/ser531#OWLNamedIndividual_0fa8cf3f_ab95_4e68_a468_b9424c4249d8\")\n",
    "        v = rdflib.term.Literal(id)\n",
    "        qres = g.query(q,initBindings = {'v' : v})\n",
    "        \n",
    "        test = 'y'\n",
    "        for row in qres:           \n",
    "            result_label = tk.Label(win,fg='blue',cursor='hand2',background='white')\n",
    "            result_label.configure(text=row[1])\n",
    "            url = \"https://coffee.meta.stackexchange.com/questions/\" + id + row[1]\n",
    "            result_label.bind(\"<Button-1>\", lambda e: callback(url))\n",
    "            result_label.pack()\n",
    "            test = row[1]\n",
    "            contentLabel = tk.Label(win,width=800,wraplength=800,justify='left',background='white')\n",
    "            contentLabel.configure(text=row[2])\n",
    "            contentLabel.pack()\n",
    "        for i in range(5):\n",
    "            resultlabel = tk.Label(win,background='white')\n",
    "            resultlabel.configure(text='Result' + str(i+1))\n",
    "            resultlabel.pack()\n",
    "            result1 = tk.Label(win,background='white')\n",
    "            result1.configure(text=test)\n",
    "            result1.pack()\n",
    "    except ValueError:\n",
    "        print(id)\n",
    "        \n",
    "win = tk.Tk()\n",
    "win.title('Ser531 Project')\n",
    "win.geometry('800x800')\n",
    "win.configure(background='white')\n",
    "search_panel = tk.Frame(win)\n",
    "search_panel.pack(side=tk.TOP)\n",
    "search_label = tk.Label(search_panel, text='Key/ID',background='white')\n",
    "search_label.pack(side=tk.LEFT)\n",
    "search_entry = tk.Entry(search_panel)\n",
    "search_entry.pack(side=tk.LEFT)\n",
    "\n",
    "search_btn = tk.Button(win, text='search', command= lambda: search(search_entry.get()))\n",
    "search_btn.pack()\n",
    "\n",
    "win.mainloop()\n",
    "   "
   ]
  },
  {
   "cell_type": "code",
   "execution_count": null,
   "metadata": {},
   "outputs": [],
   "source": []
  },
  {
   "cell_type": "code",
   "execution_count": null,
   "metadata": {
    "scrolled": true
   },
   "outputs": [],
   "source": []
  },
  {
   "cell_type": "code",
   "execution_count": null,
   "metadata": {},
   "outputs": [],
   "source": []
  },
  {
   "cell_type": "code",
   "execution_count": null,
   "metadata": {},
   "outputs": [],
   "source": []
  }
 ],
 "metadata": {
  "kernelspec": {
   "display_name": "Python 3",
   "language": "python",
   "name": "python3"
  },
  "language_info": {
   "codemirror_mode": {
    "name": "ipython",
    "version": 3
   },
   "file_extension": ".py",
   "mimetype": "text/x-python",
   "name": "python",
   "nbconvert_exporter": "python",
   "pygments_lexer": "ipython3",
   "version": "3.8.3"
  }
 },
 "nbformat": 4,
 "nbformat_minor": 4
}
