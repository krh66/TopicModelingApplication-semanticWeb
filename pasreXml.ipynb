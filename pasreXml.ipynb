{
 "cells": [
  {
   "cell_type": "code",
   "execution_count": 199,
   "metadata": {
    "scrolled": true
   },
   "outputs": [],
   "source": [
    "import csv \n",
    "import requests \n",
    "import xml.etree.ElementTree as ET \n",
    "from bs4 import BeautifulSoup as Soup"
   ]
  },
  {
   "cell_type": "code",
   "execution_count": 200,
   "metadata": {},
   "outputs": [],
   "source": [
    "def parseXML(xmlfile): \n",
    "    # create element tree object \n",
    "    tree = ET.parse(xmlfile) \n",
    "    \n",
    "    # get root element \n",
    "    root = tree.getroot() \n",
    "    \n",
    "    # create empty list for news items \n",
    "    coffeePosts = [] \n",
    "    \n",
    "    # iterate news items \n",
    "    for item in root.findall('./row'): \n",
    "    \n",
    "        # empty news dictionary \n",
    "        post = {} \n",
    "        post['Id'] = item.attrib['Id']\n",
    "        post['PostTypeId'] = item.attrib['PostTypeId']\n",
    "        post['CreationDate'] = item.attrib['CreationDate']\n",
    "        if 'ParentId' in item.attrib:\n",
    "            post['ParentId'] = item.attrib['ParentId']\n",
    "        if 'Title' in item.attrib:\n",
    "            post['Title'] = item.attrib['Title']\n",
    "        \n",
    "        #remove html tags in body\n",
    "        subroot = Soup(item.attrib['Body'], 'lxml')\n",
    "        post['Body'] = subroot.text\n",
    "        \n",
    "        # append news dictionary to news items list \n",
    "        coffeePosts.append(post)\n",
    "    \n",
    "    # return coffee post list \n",
    "    return coffeePosts "
   ]
  },
  {
   "cell_type": "code",
   "execution_count": 201,
   "metadata": {
    "scrolled": true
   },
   "outputs": [],
   "source": [
    "def savetoCSV(coffeePosts, filename): \n",
    "  \n",
    "    # specifying the fields for csv file \n",
    "    fields = ['Id', 'ParentId', 'PostTypeId','CreationDate', 'Title', 'Body'] \n",
    "  \n",
    "    # writing to csv file \n",
    "    with open(filename, 'w') as csvfile: \n",
    "  \n",
    "        # creating a csv dict writer object \n",
    "        writer = csv.DictWriter(csvfile, fieldnames = fields) \n",
    "  \n",
    "        # writing headers (field names) \n",
    "        writer.writeheader() \n",
    "  \n",
    "        # writing data rows \n",
    "        writer.writerows(coffeePosts) "
   ]
  },
  {
   "cell_type": "code",
   "execution_count": 202,
   "metadata": {
    "scrolled": true
   },
   "outputs": [
    {
     "ename": "NameError",
     "evalue": "name 'news' is not defined",
     "output_type": "error",
     "traceback": [
      "\u001b[0;31m---------------------------------------------------------------------------\u001b[0m",
      "\u001b[0;31mNameError\u001b[0m                                 Traceback (most recent call last)",
      "\u001b[0;32m<ipython-input-202-fb2e1aac7451>\u001b[0m in \u001b[0;36m<module>\u001b[0;34m\u001b[0m\n\u001b[1;32m      1\u001b[0m \u001b[0mdataSource\u001b[0m \u001b[0;34m=\u001b[0m \u001b[0mopen\u001b[0m\u001b[0;34m(\u001b[0m\u001b[0;34m\"../SER531TEAM/Data/Posts.xml\"\u001b[0m\u001b[0;34m)\u001b[0m\u001b[0;34m\u001b[0m\u001b[0;34m\u001b[0m\u001b[0m\n\u001b[0;32m----> 2\u001b[0;31m \u001b[0mcoffeePosts\u001b[0m \u001b[0;34m=\u001b[0m \u001b[0mparseXML\u001b[0m\u001b[0;34m(\u001b[0m\u001b[0mdataSource\u001b[0m\u001b[0;34m)\u001b[0m\u001b[0;34m\u001b[0m\u001b[0;34m\u001b[0m\u001b[0m\n\u001b[0m\u001b[1;32m      3\u001b[0m \u001b[0msavetoCSV\u001b[0m\u001b[0;34m(\u001b[0m\u001b[0mcoffeePosts\u001b[0m\u001b[0;34m,\u001b[0m \u001b[0;34m'dataset.csv'\u001b[0m\u001b[0;34m)\u001b[0m\u001b[0;34m\u001b[0m\u001b[0;34m\u001b[0m\u001b[0m\n",
      "\u001b[0;32m<ipython-input-200-09432d63f32b>\u001b[0m in \u001b[0;36mparseXML\u001b[0;34m(xmlfile)\u001b[0m\n\u001b[1;32m     20\u001b[0m             \u001b[0mnews\u001b[0m\u001b[0;34m[\u001b[0m\u001b[0;34m'ParentId'\u001b[0m\u001b[0;34m]\u001b[0m \u001b[0;34m=\u001b[0m \u001b[0mitem\u001b[0m\u001b[0;34m.\u001b[0m\u001b[0mattrib\u001b[0m\u001b[0;34m[\u001b[0m\u001b[0;34m'ParentId'\u001b[0m\u001b[0;34m]\u001b[0m\u001b[0;34m\u001b[0m\u001b[0;34m\u001b[0m\u001b[0m\n\u001b[1;32m     21\u001b[0m         \u001b[0;32mif\u001b[0m \u001b[0;34m'Title'\u001b[0m \u001b[0;32min\u001b[0m \u001b[0mitem\u001b[0m\u001b[0;34m.\u001b[0m\u001b[0mattrib\u001b[0m\u001b[0;34m:\u001b[0m\u001b[0;34m\u001b[0m\u001b[0;34m\u001b[0m\u001b[0m\n\u001b[0;32m---> 22\u001b[0;31m             \u001b[0mnews\u001b[0m\u001b[0;34m[\u001b[0m\u001b[0;34m'Title'\u001b[0m\u001b[0;34m]\u001b[0m \u001b[0;34m=\u001b[0m \u001b[0mitem\u001b[0m\u001b[0;34m.\u001b[0m\u001b[0mattrib\u001b[0m\u001b[0;34m[\u001b[0m\u001b[0;34m'Title'\u001b[0m\u001b[0;34m]\u001b[0m\u001b[0;34m\u001b[0m\u001b[0;34m\u001b[0m\u001b[0m\n\u001b[0m\u001b[1;32m     23\u001b[0m \u001b[0;34m\u001b[0m\u001b[0m\n\u001b[1;32m     24\u001b[0m         \u001b[0;31m#remove html tags in body\u001b[0m\u001b[0;34m\u001b[0m\u001b[0;34m\u001b[0m\u001b[0;34m\u001b[0m\u001b[0m\n",
      "\u001b[0;31mNameError\u001b[0m: name 'news' is not defined"
     ]
    }
   ],
   "source": [
    "dataSource = open(\"../SER531TEAM/Data/Posts.xml\")\n",
    "coffeePosts = parseXML(dataSource)\n",
    "savetoCSV(coffeePosts, 'dataset.csv') "
   ]
  },
  {
   "cell_type": "code",
   "execution_count": null,
   "metadata": {},
   "outputs": [],
   "source": []
  },
  {
   "cell_type": "code",
   "execution_count": null,
   "metadata": {},
   "outputs": [],
   "source": []
  }
 ],
 "metadata": {
  "kernelspec": {
   "display_name": "Python 3",
   "language": "python",
   "name": "python3"
  },
  "language_info": {
   "codemirror_mode": {
    "name": "ipython",
    "version": 3
   },
   "file_extension": ".py",
   "mimetype": "text/x-python",
   "name": "python",
   "nbconvert_exporter": "python",
   "pygments_lexer": "ipython3",
   "version": "3.8.3"
  }
 },
 "nbformat": 4,
 "nbformat_minor": 4
}
