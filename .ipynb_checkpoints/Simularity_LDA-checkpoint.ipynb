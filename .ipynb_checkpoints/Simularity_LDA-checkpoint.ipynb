{
 "cells": [
  {
   "cell_type": "code",
   "execution_count": 1,
   "metadata": {
    "scrolled": false
   },
   "outputs": [],
   "source": [
    "from sklearn.feature_extraction.text import TfidfVectorizer, CountVectorizer\n",
    "from sklearn.decomposition import NMF, LatentDirichletAllocation\n",
    "from sklearn.model_selection import GridSearchCV\n",
    "import pandas as pd\n",
    "import numpy as np\n",
    "import nltk\n",
    "from nltk.corpus import stopwords"
   ]
  },
  {
   "cell_type": "code",
   "execution_count": 2,
   "metadata": {},
   "outputs": [],
   "source": [
    "n_features = 1000\n",
    "n_top_words = 10"
   ]
  },
  {
   "cell_type": "code",
   "execution_count": 3,
   "metadata": {},
   "outputs": [],
   "source": [
    "def print_top_words(model, feature_names, n_top_words):\n",
    "    for topic_idx, topic in enumerate(model.components_):\n",
    "        message = \"Topic #%d: \" % topic_idx\n",
    "        message += \" \".join([feature_names[i]\n",
    "                             for i in topic.argsort()[:-n_top_words - 1:-1]])\n",
    "        print(message)\n",
    "    print()"
   ]
  },
  {
   "cell_type": "code",
   "execution_count": 4,
   "metadata": {},
   "outputs": [],
   "source": [
    "data = pd.read_csv(\"./data/dataset.csv\", encoding=\"utf_8\")"
   ]
  },
  {
   "cell_type": "code",
   "execution_count": 5,
   "metadata": {},
   "outputs": [],
   "source": [
    "stop_words = set(stopwords.words('english'))\n",
    "stop_words.update([\"coffee\", \"question\",\"questions\",\"answer\"])"
   ]
  },
  {
   "cell_type": "code",
   "execution_count": 6,
   "metadata": {},
   "outputs": [],
   "source": [
    "tf_vectorizer = CountVectorizer(max_df=0.95, min_df=2,\n",
    "                                max_features=n_features,\n",
    "                                stop_words=stop_words)\n",
    "tf = tf_vectorizer.fit_transform(data[\"Body\"])"
   ]
  },
  {
   "cell_type": "code",
   "execution_count": 7,
   "metadata": {},
   "outputs": [],
   "source": [
    "search_params = {'n_components': list(range(5,10)), 'learning_decay': np.arange(0.1, 1, 0.2).tolist()}"
   ]
  },
  {
   "cell_type": "code",
   "execution_count": 8,
   "metadata": {},
   "outputs": [],
   "source": [
    "model = GridSearchCV(LatentDirichletAllocation(), param_grid=search_params)"
   ]
  },
  {
   "cell_type": "code",
   "execution_count": 9,
   "metadata": {},
   "outputs": [
    {
     "data": {
      "text/plain": [
       "GridSearchCV(estimator=LatentDirichletAllocation(),\n",
       "             param_grid={'learning_decay': [0.1, 0.30000000000000004,\n",
       "                                            0.5000000000000001,\n",
       "                                            0.7000000000000001,\n",
       "                                            0.9000000000000001],\n",
       "                         'n_components': [5, 6, 7, 8, 9]})"
      ]
     },
     "execution_count": 9,
     "metadata": {},
     "output_type": "execute_result"
    }
   ],
   "source": [
    "model.fit(tf)"
   ]
  },
  {
   "cell_type": "code",
   "execution_count": 10,
   "metadata": {},
   "outputs": [
    {
     "name": "stdout",
     "output_type": "stream",
     "text": [
      "Best Model's Params:  {'learning_decay': 0.5000000000000001, 'n_components': 5}\n",
      "Best Log Likelihood Score:  -16090.539338363878\n",
      "Model Perplexity:  806.1662652578503\n"
     ]
    }
   ],
   "source": [
    "# Best Model\n",
    "best_lda_model = model.best_estimator_\n",
    "\n",
    "# Model Parameters\n",
    "print(\"Best Model's Params: \", model.best_params_)\n",
    "\n",
    "# Log Likelihood Score\n",
    "print(\"Best Log Likelihood Score: \", model.best_score_)\n",
    "\n",
    "# Perplexity\n",
    "print(\"Model Perplexity: \", best_lda_model.perplexity(tf))"
   ]
  },
  {
   "cell_type": "code",
   "execution_count": 11,
   "metadata": {},
   "outputs": [
    {
     "data": {
      "text/plain": [
       "[{'learning_decay': 0.1, 'n_components': 5},\n",
       " {'learning_decay': 0.1, 'n_components': 6},\n",
       " {'learning_decay': 0.1, 'n_components': 7},\n",
       " {'learning_decay': 0.1, 'n_components': 8},\n",
       " {'learning_decay': 0.1, 'n_components': 9},\n",
       " {'learning_decay': 0.30000000000000004, 'n_components': 5},\n",
       " {'learning_decay': 0.30000000000000004, 'n_components': 6},\n",
       " {'learning_decay': 0.30000000000000004, 'n_components': 7},\n",
       " {'learning_decay': 0.30000000000000004, 'n_components': 8},\n",
       " {'learning_decay': 0.30000000000000004, 'n_components': 9},\n",
       " {'learning_decay': 0.5000000000000001, 'n_components': 5},\n",
       " {'learning_decay': 0.5000000000000001, 'n_components': 6},\n",
       " {'learning_decay': 0.5000000000000001, 'n_components': 7},\n",
       " {'learning_decay': 0.5000000000000001, 'n_components': 8},\n",
       " {'learning_decay': 0.5000000000000001, 'n_components': 9},\n",
       " {'learning_decay': 0.7000000000000001, 'n_components': 5},\n",
       " {'learning_decay': 0.7000000000000001, 'n_components': 6},\n",
       " {'learning_decay': 0.7000000000000001, 'n_components': 7},\n",
       " {'learning_decay': 0.7000000000000001, 'n_components': 8},\n",
       " {'learning_decay': 0.7000000000000001, 'n_components': 9},\n",
       " {'learning_decay': 0.9000000000000001, 'n_components': 5},\n",
       " {'learning_decay': 0.9000000000000001, 'n_components': 6},\n",
       " {'learning_decay': 0.9000000000000001, 'n_components': 7},\n",
       " {'learning_decay': 0.9000000000000001, 'n_components': 8},\n",
       " {'learning_decay': 0.9000000000000001, 'n_components': 9}]"
      ]
     },
     "execution_count": 11,
     "metadata": {},
     "output_type": "execute_result"
    }
   ],
   "source": [
    "model.cv_results_['params']"
   ]
  },
  {
   "cell_type": "code",
   "execution_count": 12,
   "metadata": {},
   "outputs": [
    {
     "data": {
      "text/plain": [
       "array([-16099.46299639, -16728.83265508, -17279.45652649, -17802.15120507,\n",
       "       -18255.74517388, -16094.72698238, -16697.00281886, -17326.0352899 ,\n",
       "       -17754.69231214, -18229.99871361, -16090.53933836, -16725.09581055,\n",
       "       -17155.36496126, -17799.89281435, -18355.87646808, -16122.27541488,\n",
       "       -16638.86115975, -17219.88191386, -17819.28468584, -18251.67685134,\n",
       "       -16117.41686402, -16738.96571122, -17324.79792589, -17806.59606263,\n",
       "       -18389.81445643])"
      ]
     },
     "execution_count": 12,
     "metadata": {},
     "output_type": "execute_result"
    }
   ],
   "source": [
    "model.cv_results_['mean_test_score']"
   ]
  },
  {
   "cell_type": "code",
   "execution_count": 13,
   "metadata": {},
   "outputs": [
    {
     "data": {
      "text/plain": [
       "[]"
      ]
     },
     "execution_count": 13,
     "metadata": {},
     "output_type": "execute_result"
    }
   ],
   "source": [
    "[round(model.cv_results_['mean_test_score'][model.cv_results_['params'].index(gscore)]) for gscore in model.cv_results_['params'] if gscore['learning_decay']==0.2]"
   ]
  },
  {
   "cell_type": "code",
   "execution_count": 14,
   "metadata": {},
   "outputs": [
    {
     "data": {
      "image/png": "[encoded data removed]",
      "text/plain": [
       "<Figure size 864x576 with 1 Axes>"
      ]
     },
     "metadata": {
      "needs_background": "light"
     },
     "output_type": "display_data"
    }
   ],
   "source": [
    "import matplotlib.pyplot as plt\n",
    "# Get Log Likelyhoods from Grid Search Output\n",
    "# n_topics = [10, 15, 20, 25, 30]\n",
    "# log_likelyhoods_5 = [round(gscore.mean_validation_score) for gscore in model.grid_scores_ if gscore.parameters['learning_decay']==0.5]\n",
    "# log_likelyhoods_7 = [round(gscore.mean_validation_score) for gscore in model.grid_scores_ if gscore.parameters['learning_decay']==0.7]\n",
    "# log_likelyhoods_9 = [round(gscore.mean_validation_score) for gscore in model.grid_scores_ if gscore.parameters['learning_decay']==0.9]\n",
    "log_likelyhoods = {}\n",
    "plt.figure(figsize=(12, 8))\n",
    "for decay in search_params['learning_decay']:\n",
    "    log_likelyhoods = [round(model.cv_results_['mean_test_score'][model.cv_results_['params'].index(gscore)]) for gscore in model.cv_results_['params'] if gscore['learning_decay']==decay]\n",
    "    plt.plot(search_params['n_components'], log_likelyhoods, label=str(decay))\n",
    "\n",
    "# Show graph\n",
    "# plt.figure(figsize=(12, 8))\n",
    "# plt.plot(n_topics, log_likelyhoods_5, label='0.5')\n",
    "# plt.plot(n_topics, log_likelyhoods_7, label='0.7')\n",
    "# plt.plot(n_topics, log_likelyhoods_9, label='0.9')\n",
    "plt.title(\"Choosing Optimal LDA Model\")\n",
    "plt.xlabel(\"Num Topics\")\n",
    "plt.ylabel(\"Log Likelihood Score\")\n",
    "plt.legend(title='Learning decay', loc='best')\n",
    "plt.show()"
   ]
  },
  {
   "cell_type": "code",
   "execution_count": 15,
   "metadata": {},
   "outputs": [],
   "source": [
    "lda = best_lda_model"
   ]
  },
  {
   "cell_type": "code",
   "execution_count": 16,
   "metadata": {},
   "outputs": [
    {
     "name": "stdout",
     "output_type": "stream",
     "text": [
      "Topic #0: site sites meta would users like one new edit think\n",
      "Topic #1: answers think site topic good stack list could also se\n",
      "Topic #2: site topic would like community one product people answers think\n",
      "Topic #3: like think flavor bounty one luwak opinion taste based kopi\n",
      "Topic #4: tag hats use drip think one wiki stack like exchange\n",
      "\n"
     ]
    }
   ],
   "source": [
    "tf_feature_names = tf_vectorizer.get_feature_names()\n",
    "print_top_words(lda, tf_feature_names, n_top_words)"
   ]
  },
  {
   "cell_type": "code",
   "execution_count": 17,
   "metadata": {},
   "outputs": [],
   "source": [
    "test = tf_vectorizer.transform(\n",
    "    [\"While answering a few of EdChum's questions I discovered that what I/we in the USA call pour over coffee is referred to as drip coffee in the UK. I added the pour-over tag to both questions I encountered but figured we should decide as a community which tag to use to describe this brewing process and then properly document it because drip-coffee means something different in the US (which is apparently referred to as filter-cofee in the UK). For clarification the method in question is shown in the image below. \",\n",
    "    \"Being newly created we have zero feeds appearing in our main chat right now. What blogs, news sites, or other important coffee related things should appear in our main chat room's feed? Post your suggestions/submissions.  \"])"
   ]
  },
  {
   "cell_type": "code",
   "execution_count": 18,
   "metadata": {},
   "outputs": [],
   "source": [
    "doc_topic_dist_unnormalized = np.matrix(lda.transform(tf))"
   ]
  },
  {
   "cell_type": "code",
   "execution_count": 19,
   "metadata": {},
   "outputs": [],
   "source": [
    "doc_topic_dist = doc_topic_dist_unnormalized/doc_topic_dist_unnormalized.sum(axis=1)"
   ]
  },
  {
   "cell_type": "code",
   "execution_count": 20,
   "metadata": {},
   "outputs": [
    {
     "name": "stdout",
     "output_type": "stream",
     "text": [
      "[[4]\n",
      " [0]\n",
      " [3]\n",
      " [0]\n",
      " [2]\n",
      " [4]\n",
      " [4]\n",
      " [2]\n",
      " [2]\n",
      " [2]\n",
      " [2]\n",
      " [2]\n",
      " [0]\n",
      " [2]\n",
      " [2]\n",
      " [3]\n",
      " [2]\n",
      " [3]\n",
      " [2]\n",
      " [4]\n",
      " [3]\n",
      " [4]\n",
      " [3]\n",
      " [1]\n",
      " [2]\n",
      " [3]\n",
      " [0]\n",
      " [2]\n",
      " [1]\n",
      " [2]\n",
      " [2]\n",
      " [2]\n",
      " [0]\n",
      " [3]\n",
      " [1]\n",
      " [2]\n",
      " [4]\n",
      " [0]\n",
      " [1]\n",
      " [3]\n",
      " [2]\n",
      " [2]\n",
      " [2]\n",
      " [3]\n",
      " [2]\n",
      " [2]\n",
      " [1]\n",
      " [2]\n",
      " [3]\n",
      " [1]\n",
      " [0]\n",
      " [2]\n",
      " [1]\n",
      " [0]\n",
      " [2]\n",
      " [4]\n",
      " [4]\n",
      " [4]\n",
      " [2]\n",
      " [0]\n",
      " [4]\n",
      " [3]\n",
      " [0]\n",
      " [2]\n",
      " [2]\n",
      " [4]\n",
      " [2]\n",
      " [4]\n",
      " [0]\n",
      " [0]\n",
      " [4]\n",
      " [4]\n",
      " [1]\n",
      " [2]\n",
      " [2]\n",
      " [4]\n",
      " [3]\n",
      " [0]\n",
      " [1]\n",
      " [0]\n",
      " [0]\n",
      " [2]\n",
      " [2]\n",
      " [4]\n",
      " [2]\n",
      " [2]\n",
      " [2]\n",
      " [1]\n",
      " [2]\n",
      " [2]\n",
      " [0]\n",
      " [2]\n",
      " [4]\n",
      " [0]\n",
      " [3]\n",
      " [2]\n",
      " [2]\n",
      " [1]\n",
      " [2]\n",
      " [2]\n",
      " [0]\n",
      " [2]\n",
      " [2]\n",
      " [4]\n",
      " [2]\n",
      " [2]\n",
      " [3]\n",
      " [4]\n",
      " [3]\n",
      " [2]\n",
      " [2]\n",
      " [2]\n",
      " [3]\n",
      " [0]\n",
      " [4]\n",
      " [3]\n",
      " [1]\n",
      " [4]\n",
      " [3]\n",
      " [4]\n",
      " [2]\n",
      " [2]\n",
      " [0]\n",
      " [2]\n",
      " [0]\n",
      " [3]\n",
      " [0]\n",
      " [2]\n",
      " [2]\n",
      " [1]\n",
      " [2]\n",
      " [3]\n",
      " [2]\n",
      " [4]\n",
      " [2]\n",
      " [1]\n",
      " [2]\n",
      " [2]\n",
      " [1]\n",
      " [0]\n",
      " [4]\n",
      " [0]\n",
      " [3]\n",
      " [2]\n",
      " [2]\n",
      " [2]\n",
      " [0]\n",
      " [0]\n",
      " [2]\n",
      " [2]\n",
      " [2]\n",
      " [2]\n",
      " [1]\n",
      " [1]\n",
      " [2]\n",
      " [4]\n",
      " [4]\n",
      " [4]\n",
      " [3]\n",
      " [4]\n",
      " [2]\n",
      " [0]\n",
      " [4]\n",
      " [3]\n",
      " [4]\n",
      " [1]\n",
      " [2]\n",
      " [4]\n",
      " [0]\n",
      " [3]\n",
      " [2]\n",
      " [4]\n",
      " [0]\n",
      " [1]\n",
      " [1]\n",
      " [1]\n",
      " [2]\n",
      " [2]\n",
      " [1]\n",
      " [1]\n",
      " [1]\n",
      " [4]\n",
      " [4]\n",
      " [2]\n",
      " [1]\n",
      " [2]\n",
      " [1]\n",
      " [2]\n",
      " [4]\n",
      " [1]\n",
      " [2]\n",
      " [0]\n",
      " [2]\n",
      " [4]\n",
      " [4]\n",
      " [2]\n",
      " [2]\n",
      " [2]\n",
      " [4]\n",
      " [0]\n",
      " [4]\n",
      " [4]\n",
      " [4]\n",
      " [1]\n",
      " [2]\n",
      " [2]\n",
      " [2]\n",
      " [2]\n",
      " [1]\n",
      " [1]\n",
      " [3]\n",
      " [2]\n",
      " [3]\n",
      " [0]\n",
      " [3]\n",
      " [0]\n",
      " [0]\n",
      " [3]\n",
      " [2]\n",
      " [2]\n",
      " [0]\n",
      " [0]\n",
      " [1]\n",
      " [1]\n",
      " [4]\n",
      " [4]\n",
      " [2]\n",
      " [2]\n",
      " [3]\n",
      " [1]]\n"
     ]
    }
   ],
   "source": [
    "print(doc_topic_dist.argmax(axis=1))"
   ]
  },
  {
   "cell_type": "code",
   "execution_count": 21,
   "metadata": {},
   "outputs": [
    {
     "name": "stdout",
     "output_type": "stream",
     "text": [
      "[4, 0, 3, 0, 2, 4, 4, 2, 2, 2, 2, 2, 0, 2, 2, 3, 2, 3, 2, 4, 3, 4, 3, 1, 2, 3, 0, 2, 1, 2, 2, 2, 0, 3, 1, 2, 4, 0, 1, 3, 2, 2, 2, 3, 2, 2, 1, 2, 3, 1, 0, 2, 1, 0, 2, 4, 4, 4, 2, 0, 4, 3, 0, 2, 2, 4, 2, 4, 0, 0, 4, 4, 1, 2, 2, 4, 3, 0, 1, 0, 0, 2, 2, 4, 2, 2, 2, 1, 2, 2, 0, 2, 4, 0, 3, 2, 2, 1, 2, 2, 0, 2, 2, 4, 2, 2, 3, 4, 3, 2, 2, 2, 3, 0, 4, 3, 1, 4, 3, 4, 2, 2, 0, 2, 0, 3, 0, 2, 2, 1, 2, 3, 2, 4, 2, 1, 2, 2, 1, 0, 4, 0, 3, 2, 2, 2, 0, 0, 2, 2, 2, 2, 1, 1, 2, 4, 4, 4, 3, 4, 2, 0, 4, 3, 4, 1, 2, 4, 0, 3, 2, 4, 0, 1, 1, 1, 2, 2, 1, 1, 1, 4, 4, 2, 1, 2, 1, 2, 4, 1, 2, 0, 2, 4, 4, 2, 2, 2, 4, 0, 4, 4, 4, 1, 2, 2, 2, 2, 1, 1, 3, 2, 3, 0, 3, 0, 0, 3, 2, 2, 0, 0, 1, 1, 4, 4, 2, 2, 3, 1]\n"
     ]
    }
   ],
   "source": [
    "topics = []\n",
    "for n in doc_topic_dist.argmax(axis=1):\n",
    "    topics.append(n[0,0])\n",
    "print(topics)"
   ]
  },
  {
   "cell_type": "code",
   "execution_count": 22,
   "metadata": {},
   "outputs": [
    {
     "name": "stdout",
     "output_type": "stream",
     "text": [
      "Log Likelihood:  -59875.91868074684\n"
     ]
    }
   ],
   "source": [
    "print(\"Log Likelihood: \", lda.score(tf))"
   ]
  },
  {
   "cell_type": "code",
   "execution_count": 23,
   "metadata": {},
   "outputs": [
    {
     "name": "stdout",
     "output_type": "stream",
     "text": [
      "Perplexity:  806.1662652578503\n"
     ]
    }
   ],
   "source": [
    "print(\"Perplexity: \", lda.perplexity(tf))"
   ]
  },
  {
   "cell_type": "code",
   "execution_count": 24,
   "metadata": {},
   "outputs": [],
   "source": [
    "data['Topic']=pd.DataFrame(topics)"
   ]
  },
  {
   "cell_type": "code",
   "execution_count": 25,
   "metadata": {},
   "outputs": [
    {
     "data": {
      "text/html": [
       "<div>\n",
       "<style scoped>\n",
       "    .dataframe tbody tr th:only-of-type {\n",
       "        vertical-align: middle;\n",
       "    }\n",
       "\n",
       "    .dataframe tbody tr th {\n",
       "        vertical-align: top;\n",
       "    }\n",
       "\n",
       "    .dataframe thead th {\n",
       "        text-align: right;\n",
       "    }\n",
       "</style>\n",
       "<table border=\"1\" class=\"dataframe\">\n",
       "  <thead>\n",
       "    <tr style=\"text-align: right;\">\n",
       "      <th></th>\n",
       "      <th>Id</th>\n",
       "      <th>ParentId</th>\n",
       "      <th>PostTypeId</th>\n",
       "      <th>CreationDate</th>\n",
       "      <th>Title</th>\n",
       "      <th>Body</th>\n",
       "      <th>Topic</th>\n",
       "    </tr>\n",
       "  </thead>\n",
       "  <tbody>\n",
       "    <tr>\n",
       "      <th>0</th>\n",
       "      <td>1</td>\n",
       "      <td>NaN</td>\n",
       "      <td>1</td>\n",
       "      <td>2015-01-27T21:23:05.507</td>\n",
       "      <td>Should we describe the process of brewing a si...</td>\n",
       "      <td>While answering a few of EdChum's questions I ...</td>\n",
       "      <td>4</td>\n",
       "    </tr>\n",
       "    <tr>\n",
       "      <th>1</th>\n",
       "      <td>2</td>\n",
       "      <td>NaN</td>\n",
       "      <td>1</td>\n",
       "      <td>2015-01-27T21:26:10.227</td>\n",
       "      <td>What should go in our main chat feeds?</td>\n",
       "      <td>Being newly created we have zero feeds appeari...</td>\n",
       "      <td>0</td>\n",
       "    </tr>\n",
       "    <tr>\n",
       "      <th>2</th>\n",
       "      <td>3</td>\n",
       "      <td>1.0</td>\n",
       "      <td>2</td>\n",
       "      <td>2015-01-27T21:30:20.953</td>\n",
       "      <td>NaN</td>\n",
       "      <td>It looks like filter coffee has another, diffe...</td>\n",
       "      <td>3</td>\n",
       "    </tr>\n",
       "    <tr>\n",
       "      <th>3</th>\n",
       "      <td>4</td>\n",
       "      <td>NaN</td>\n",
       "      <td>1</td>\n",
       "      <td>2015-01-27T22:31:45.837</td>\n",
       "      <td>Let's think of a creative name for our chatroom</td>\n",
       "      <td>The chatroom name is so bland. \"Coffee.\" Look ...</td>\n",
       "      <td>0</td>\n",
       "    </tr>\n",
       "    <tr>\n",
       "      <th>4</th>\n",
       "      <td>5</td>\n",
       "      <td>NaN</td>\n",
       "      <td>1</td>\n",
       "      <td>2015-01-27T22:34:21.017</td>\n",
       "      <td>Should product recommendations be on-topic?</td>\n",
       "      <td>On most SE sites, product recommendations are ...</td>\n",
       "      <td>2</td>\n",
       "    </tr>\n",
       "    <tr>\n",
       "      <th>...</th>\n",
       "      <td>...</td>\n",
       "      <td>...</td>\n",
       "      <td>...</td>\n",
       "      <td>...</td>\n",
       "      <td>...</td>\n",
       "      <td>...</td>\n",
       "      <td>...</td>\n",
       "    </tr>\n",
       "    <tr>\n",
       "      <th>225</th>\n",
       "      <td>1234</td>\n",
       "      <td>1233.0</td>\n",
       "      <td>2</td>\n",
       "      <td>2020-01-24T17:38:53.693</td>\n",
       "      <td>NaN</td>\n",
       "      <td>I see no reason why a different rule should ap...</td>\n",
       "      <td>4</td>\n",
       "    </tr>\n",
       "    <tr>\n",
       "      <th>226</th>\n",
       "      <td>1235</td>\n",
       "      <td>NaN</td>\n",
       "      <td>5</td>\n",
       "      <td>2020-04-24T13:33:15.850</td>\n",
       "      <td>NaN</td>\n",
       "      <td>This tag is used by staff when sharing concept...</td>\n",
       "      <td>2</td>\n",
       "    </tr>\n",
       "    <tr>\n",
       "      <th>227</th>\n",
       "      <td>1236</td>\n",
       "      <td>NaN</td>\n",
       "      <td>4</td>\n",
       "      <td>2020-04-24T13:33:15.850</td>\n",
       "      <td>product-discovery</td>\n",
       "      <td>Indicates that the post shares product or conf...</td>\n",
       "      <td>2</td>\n",
       "    </tr>\n",
       "    <tr>\n",
       "      <th>228</th>\n",
       "      <td>1237</td>\n",
       "      <td>NaN</td>\n",
       "      <td>1</td>\n",
       "      <td>2020-06-03T08:54:22.113</td>\n",
       "      <td>Do we accept or close recipe requests?</td>\n",
       "      <td>Seasoned Advice has excluded recipe requests f...</td>\n",
       "      <td>3</td>\n",
       "    </tr>\n",
       "    <tr>\n",
       "      <th>229</th>\n",
       "      <td>1238</td>\n",
       "      <td>1237.0</td>\n",
       "      <td>2</td>\n",
       "      <td>2020-06-05T04:50:17.800</td>\n",
       "      <td>NaN</td>\n",
       "      <td>I appreciate the Seasoned Advice stance and th...</td>\n",
       "      <td>1</td>\n",
       "    </tr>\n",
       "  </tbody>\n",
       "</table>\n",
       "<p>230 rows × 7 columns</p>\n",
       "</div>"
      ],
      "text/plain": [
       "       Id  ParentId  PostTypeId             CreationDate  \\\n",
       "0       1       NaN           1  2015-01-27T21:23:05.507   \n",
       "1       2       NaN           1  2015-01-27T21:26:10.227   \n",
       "2       3       1.0           2  2015-01-27T21:30:20.953   \n",
       "3       4       NaN           1  2015-01-27T22:31:45.837   \n",
       "4       5       NaN           1  2015-01-27T22:34:21.017   \n",
       "..    ...       ...         ...                      ...   \n",
       "225  1234    1233.0           2  2020-01-24T17:38:53.693   \n",
       "226  1235       NaN           5  2020-04-24T13:33:15.850   \n",
       "227  1236       NaN           4  2020-04-24T13:33:15.850   \n",
       "228  1237       NaN           1  2020-06-03T08:54:22.113   \n",
       "229  1238    1237.0           2  2020-06-05T04:50:17.800   \n",
       "\n",
       "                                                 Title  \\\n",
       "0    Should we describe the process of brewing a si...   \n",
       "1               What should go in our main chat feeds?   \n",
       "2                                                  NaN   \n",
       "3      Let's think of a creative name for our chatroom   \n",
       "4          Should product recommendations be on-topic?   \n",
       "..                                                 ...   \n",
       "225                                                NaN   \n",
       "226                                                NaN   \n",
       "227                                  product-discovery   \n",
       "228             Do we accept or close recipe requests?   \n",
       "229                                                NaN   \n",
       "\n",
       "                                                  Body  Topic  \n",
       "0    While answering a few of EdChum's questions I ...      4  \n",
       "1    Being newly created we have zero feeds appeari...      0  \n",
       "2    It looks like filter coffee has another, diffe...      3  \n",
       "3    The chatroom name is so bland. \"Coffee.\" Look ...      0  \n",
       "4    On most SE sites, product recommendations are ...      2  \n",
       "..                                                 ...    ...  \n",
       "225  I see no reason why a different rule should ap...      4  \n",
       "226  This tag is used by staff when sharing concept...      2  \n",
       "227  Indicates that the post shares product or conf...      2  \n",
       "228  Seasoned Advice has excluded recipe requests f...      3  \n",
       "229  I appreciate the Seasoned Advice stance and th...      1  \n",
       "\n",
       "[230 rows x 7 columns]"
      ]
     },
     "execution_count": 25,
     "metadata": {},
     "output_type": "execute_result"
    }
   ],
   "source": [
    "data"
   ]
  },
  {
   "cell_type": "code",
   "execution_count": 26,
   "metadata": {},
   "outputs": [],
   "source": [
    "data.to_csv(\"./data/dataset_sklearn_LDA.csv\", encoding=\"utf_8\")\n",
    "data.to_excel(\"./data/dataset_sklearn_LDA.xlsx\", encoding=\"utf_8\")"
   ]
  },
  {
   "cell_type": "code",
   "execution_count": 27,
   "metadata": {},
   "outputs": [
    {
     "name": "stdout",
     "output_type": "stream",
     "text": [
      "{'Topic 0': ['site', 'sites', 'meta', 'would', 'users', 'like', 'one', 'new', 'edit', 'think'], 'Topic 1': ['answers', 'think', 'site', 'topic', 'good', 'stack', 'list', 'could', 'also', 'se'], 'Topic 2': ['site', 'topic', 'would', 'like', 'community', 'one', 'product', 'people', 'answers', 'think'], 'Topic 3': ['like', 'think', 'flavor', 'bounty', 'one', 'luwak', 'opinion', 'taste', 'based', 'kopi'], 'Topic 4': ['tag', 'hats', 'use', 'drip', 'think', 'one', 'wiki', 'stack', 'like', 'exchange']}\n"
     ]
    }
   ],
   "source": [
    "topic_words = {}\n",
    "for topic_idx, topic in enumerate(lda.components_):\n",
    "        topic_words[\"Topic \" + str(topic_idx)] = [tf_feature_names[i] for i in topic.argsort()[:-n_top_words - 1:-1]]\n",
    "print(topic_words)"
   ]
  },
  {
   "cell_type": "code",
   "execution_count": 28,
   "metadata": {},
   "outputs": [],
   "source": [
    "topic_top_words = pd.DataFrame(topic_words)"
   ]
  },
  {
   "cell_type": "code",
   "execution_count": 29,
   "metadata": {},
   "outputs": [
    {
     "data": {
      "text/html": [
       "<div>\n",
       "<style scoped>\n",
       "    .dataframe tbody tr th:only-of-type {\n",
       "        vertical-align: middle;\n",
       "    }\n",
       "\n",
       "    .dataframe tbody tr th {\n",
       "        vertical-align: top;\n",
       "    }\n",
       "\n",
       "    .dataframe thead th {\n",
       "        text-align: right;\n",
       "    }\n",
       "</style>\n",
       "<table border=\"1\" class=\"dataframe\">\n",
       "  <thead>\n",
       "    <tr style=\"text-align: right;\">\n",
       "      <th></th>\n",
       "      <th>Topic 0</th>\n",
       "      <th>Topic 1</th>\n",
       "      <th>Topic 2</th>\n",
       "      <th>Topic 3</th>\n",
       "      <th>Topic 4</th>\n",
       "    </tr>\n",
       "  </thead>\n",
       "  <tbody>\n",
       "    <tr>\n",
       "      <th>0</th>\n",
       "      <td>site</td>\n",
       "      <td>answers</td>\n",
       "      <td>site</td>\n",
       "      <td>like</td>\n",
       "      <td>tag</td>\n",
       "    </tr>\n",
       "    <tr>\n",
       "      <th>1</th>\n",
       "      <td>sites</td>\n",
       "      <td>think</td>\n",
       "      <td>topic</td>\n",
       "      <td>think</td>\n",
       "      <td>hats</td>\n",
       "    </tr>\n",
       "    <tr>\n",
       "      <th>2</th>\n",
       "      <td>meta</td>\n",
       "      <td>site</td>\n",
       "      <td>would</td>\n",
       "      <td>flavor</td>\n",
       "      <td>use</td>\n",
       "    </tr>\n",
       "    <tr>\n",
       "      <th>3</th>\n",
       "      <td>would</td>\n",
       "      <td>topic</td>\n",
       "      <td>like</td>\n",
       "      <td>bounty</td>\n",
       "      <td>drip</td>\n",
       "    </tr>\n",
       "    <tr>\n",
       "      <th>4</th>\n",
       "      <td>users</td>\n",
       "      <td>good</td>\n",
       "      <td>community</td>\n",
       "      <td>one</td>\n",
       "      <td>think</td>\n",
       "    </tr>\n",
       "    <tr>\n",
       "      <th>5</th>\n",
       "      <td>like</td>\n",
       "      <td>stack</td>\n",
       "      <td>one</td>\n",
       "      <td>luwak</td>\n",
       "      <td>one</td>\n",
       "    </tr>\n",
       "    <tr>\n",
       "      <th>6</th>\n",
       "      <td>one</td>\n",
       "      <td>list</td>\n",
       "      <td>product</td>\n",
       "      <td>opinion</td>\n",
       "      <td>wiki</td>\n",
       "    </tr>\n",
       "    <tr>\n",
       "      <th>7</th>\n",
       "      <td>new</td>\n",
       "      <td>could</td>\n",
       "      <td>people</td>\n",
       "      <td>taste</td>\n",
       "      <td>stack</td>\n",
       "    </tr>\n",
       "    <tr>\n",
       "      <th>8</th>\n",
       "      <td>edit</td>\n",
       "      <td>also</td>\n",
       "      <td>answers</td>\n",
       "      <td>based</td>\n",
       "      <td>like</td>\n",
       "    </tr>\n",
       "    <tr>\n",
       "      <th>9</th>\n",
       "      <td>think</td>\n",
       "      <td>se</td>\n",
       "      <td>think</td>\n",
       "      <td>kopi</td>\n",
       "      <td>exchange</td>\n",
       "    </tr>\n",
       "  </tbody>\n",
       "</table>\n",
       "</div>"
      ],
      "text/plain": [
       "  Topic 0  Topic 1    Topic 2  Topic 3   Topic 4\n",
       "0    site  answers       site     like       tag\n",
       "1   sites    think      topic    think      hats\n",
       "2    meta     site      would   flavor       use\n",
       "3   would    topic       like   bounty      drip\n",
       "4   users     good  community      one     think\n",
       "5    like    stack        one    luwak       one\n",
       "6     one     list    product  opinion      wiki\n",
       "7     new    could     people    taste     stack\n",
       "8    edit     also    answers    based      like\n",
       "9   think       se      think     kopi  exchange"
      ]
     },
     "execution_count": 29,
     "metadata": {},
     "output_type": "execute_result"
    }
   ],
   "source": [
    "topic_top_words"
   ]
  },
  {
   "cell_type": "code",
   "execution_count": 30,
   "metadata": {},
   "outputs": [],
   "source": [
    "topic_top_words.to_csv(\"./data/lda_topic_tops_words.csv\", encoding=\"utf_8\")\n",
    "topic_top_words.to_excel(\"./data/lda_topic_tops_words.xlsx\", encoding=\"utf_8\")"
   ]
  }
 ],
 "metadata": {
  "kernelspec": {
   "display_name": "Python 3",
   "language": "python",
   "name": "python3"
  },
  "language_info": {
   "codemirror_mode": {
    "name": "ipython",
    "version": 3
   },
   "file_extension": ".py",
   "mimetype": "text/x-python",
   "name": "python",
   "nbconvert_exporter": "python",
   "pygments_lexer": "ipython3",
   "version": "3.7.9"
  }
 },
 "nbformat": 4,
 "nbformat_minor": 4
}
