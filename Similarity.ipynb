{
 "cells": [
  {
   "cell_type": "code",
   "execution_count": 45,
   "metadata": {},
   "outputs": [
    {
     "name": "stderr",
     "output_type": "stream",
     "text": [
      "[nltk_data] Downloading package punkt to\n",
      "[nltk_data]     C:\\Users\\q4116\\AppData\\Roaming\\nltk_data...\n",
      "[nltk_data]   Package punkt is already up-to-date!\n",
      "[nltk_data] Downloading package stopwords to\n",
      "[nltk_data]     C:\\Users\\q4116\\AppData\\Roaming\\nltk_data...\n",
      "[nltk_data]   Package stopwords is already up-to-date!\n"
     ]
    }
   ],
   "source": [
    "  >>> import nltk\n",
    "  >>> nltk.download('punkt')\n",
    "  >>> nltk.download('stopwords')\n",
    "from nltk.corpus import stopwords\n",
    "from nltk.tokenize import word_tokenize\n",
    "from nltk.tokenize import RegexpTokenizer\n",
    "import pandas as pd"
   ]
  },
  {
   "cell_type": "code",
   "execution_count": 65,
   "metadata": {},
   "outputs": [
    {
     "name": "stdout",
     "output_type": "stream",
     "text": [
      "0      While answering a few of EdChum's questions I ...\n",
      "1      Being newly created we have zero feeds appeari...\n",
      "2      It looks like filter coffee has another, diffe...\n",
      "3      The chatroom name is so bland. \"Coffee.\" Look ...\n",
      "4      On most SE sites, product recommendations are ...\n",
      "                             ...                        \n",
      "229    Indicates that the post shares product or conf...\n",
      "230    Seasoned Advice has excluded recipe requests f...\n",
      "231    I appreciate the Seasoned Advice stance and th...\n",
      "232                                                  NaN\n",
      "233                                                  NaN\n",
      "Name: Body, Length: 234, dtype: object\n"
     ]
    }
   ],
   "source": [
    "data = pd.read_csv(\"./data/dataset.csv\", encoding=\"utf_8\")\n",
    "print(data[\"Body\"])"
   ]
  },
  {
   "cell_type": "code",
   "execution_count": 66,
   "metadata": {},
   "outputs": [
    {
     "data": {
      "text/plain": [
       "\"Being newly created we have zero feeds appearing in our main chat right now. What blogs, news sites, or other important coffee related things should appear in our main chat room's feed? Post your suggestions/submissions.  \\n\""
      ]
     },
     "execution_count": 66,
     "metadata": {},
     "output_type": "execute_result"
    }
   ],
   "source": [
    "data[\"Body\"][1]"
   ]
  },
  {
   "cell_type": "code",
   "execution_count": 67,
   "metadata": {},
   "outputs": [],
   "source": [
    "stop_words = set(stopwords.words('english'))\n",
    "def removeStopWords(words):\n",
    "    res = []\n",
    "    for word in words:\n",
    "        if word not in stop_words:\n",
    "            res.append(word)\n",
    "    return res"
   ]
  },
  {
   "cell_type": "code",
   "execution_count": 68,
   "metadata": {},
   "outputs": [],
   "source": [
    "tokenizer = RegexpTokenizer(r\"\\w+\")"
   ]
  },
  {
   "cell_type": "code",
   "execution_count": 69,
   "metadata": {},
   "outputs": [
    {
     "data": {
      "text/plain": [
       "['Being',\n",
       " 'newly',\n",
       " 'created',\n",
       " 'zero',\n",
       " 'feeds',\n",
       " 'appearing',\n",
       " 'main',\n",
       " 'chat',\n",
       " 'right',\n",
       " 'What',\n",
       " 'blogs',\n",
       " 'news',\n",
       " 'sites',\n",
       " 'important',\n",
       " 'coffee',\n",
       " 'related',\n",
       " 'things',\n",
       " 'appear',\n",
       " 'main',\n",
       " 'chat',\n",
       " 'room',\n",
       " 'feed',\n",
       " 'Post',\n",
       " 'suggestions',\n",
       " 'submissions']"
      ]
     },
     "execution_count": 69,
     "metadata": {},
     "output_type": "execute_result"
    }
   ],
   "source": [
    "removeStopWords(tokenizer.tokenize(data[\"Body\"][1]))"
   ]
  },
  {
   "cell_type": "code",
   "execution_count": 70,
   "metadata": {},
   "outputs": [],
   "source": [
    "from sklearn.feature_extraction.text import TfidfVectorizer\n",
    "import numpy as np\n",
    "tfidf = TfidfVectorizer().fit_transform(data[\"Body\"].values.astype('U'))\n",
    "pairwise_similarity = tfidf * tfidf.T"
   ]
  },
  {
   "cell_type": "code",
   "execution_count": 76,
   "metadata": {},
   "outputs": [
    {
     "data": {
      "text/plain": [
       "<234x3227 sparse matrix of type '<class 'numpy.float64'>'\n",
       "\twith 15170 stored elements in Compressed Sparse Row format>"
      ]
     },
     "execution_count": 76,
     "metadata": {},
     "output_type": "execute_result"
    }
   ],
   "source": [
    "tfidf"
   ]
  },
  {
   "cell_type": "code",
   "execution_count": 112,
   "metadata": {},
   "outputs": [
    {
     "data": {
      "text/plain": [
       "array([[1.        , 0.05440365, 0.23681405, ..., 0.17617061, 0.        ,\n",
       "        0.        ],\n",
       "       [0.05440365, 1.        , 0.01062189, ..., 0.05763601, 0.        ,\n",
       "        0.        ],\n",
       "       [0.23681405, 0.01062189, 1.        , ..., 0.06332468, 0.        ,\n",
       "        0.        ],\n",
       "       ...,\n",
       "       [0.17617061, 0.05763601, 0.06332468, ..., 1.        , 0.        ,\n",
       "        0.        ],\n",
       "       [0.        , 0.        , 0.        , ..., 0.        , 1.        ,\n",
       "        1.        ],\n",
       "       [0.        , 0.        , 0.        , ..., 0.        , 1.        ,\n",
       "        1.        ]])"
      ]
     },
     "execution_count": 112,
     "metadata": {},
     "output_type": "execute_result"
    }
   ],
   "source": [
    "arr = pairwise_similarity.toarray()\n",
    "arr"
   ]
  },
  {
   "cell_type": "code",
   "execution_count": 138,
   "metadata": {},
   "outputs": [
    {
     "data": {
      "text/plain": [
       "array([       nan, 0.05440365, 0.23681405, 0.12030234, 0.08192029,\n",
       "       0.37610701, 0.05028408, 0.10309927, 0.06338549, 0.0878695 ,\n",
       "       0.06163498, 0.11214021, 0.03825475, 0.15569057, 0.12604983,\n",
       "       0.08631264, 0.06311393, 0.14474037, 0.10119141, 0.11252782,\n",
       "       0.15433065, 0.37020463, 0.03483209, 0.05909022, 0.09488837,\n",
       "       0.08670355, 0.06534601, 0.05324763, 0.06824562, 0.14051901,\n",
       "       0.1759459 , 0.05176979, 0.09988282, 0.09321809, 0.11876043,\n",
       "       0.13996104, 0.06806276, 0.01684564, 0.17288732, 0.04626416,\n",
       "       0.07668257, 0.10587069, 0.11934832, 0.12764885, 0.19483323,\n",
       "       0.14571153, 0.120183  , 0.08336829, 0.19248817, 0.12295676,\n",
       "       0.07133096, 0.04490473, 0.10563782, 0.17413225, 0.18121644,\n",
       "       0.12531721, 0.17405907, 0.09553886, 0.09169296, 0.        ,\n",
       "       0.09993586, 0.10761409, 0.09601216, 0.1010435 , 0.09085352,\n",
       "       0.11103344, 0.11123084, 0.2167124 , 0.14152276, 0.08690805,\n",
       "       0.2473742 , 0.25444494, 0.11786805, 0.16851959, 0.10831889,\n",
       "       0.02704477, 0.18244183, 0.16720985, 0.13441792, 0.06070053,\n",
       "       0.10693038, 0.2169736 , 0.10425471, 0.22646409, 0.06821879,\n",
       "       0.11553647, 0.0154929 , 0.09419887, 0.09999789, 0.09323886,\n",
       "       0.10019565, 0.14349795, 0.08337334, 0.01131855, 0.09732693,\n",
       "       0.10210752, 0.15814061, 0.15826018, 0.09662961, 0.155975  ,\n",
       "       0.        , 0.05998411, 0.17170287, 0.15267553, 0.15008658,\n",
       "       0.14691363, 0.09432365, 0.16322471, 0.        , 0.12878978,\n",
       "       0.0575482 , 0.10656406, 0.08483414, 0.11564141, 0.17228433,\n",
       "       0.04498974, 0.06922516, 0.07626044, 0.17867707, 0.20176508,\n",
       "       0.14621836, 0.16978352, 0.19111771, 0.07087077, 0.14322251,\n",
       "       0.16874469, 0.14809675, 0.12610496, 0.12408366, 0.13435996,\n",
       "       0.02316919, 0.10779416, 0.09088359, 0.05947222, 0.11939149,\n",
       "       0.16752564, 0.17901113, 0.13109036, 0.11678549, 0.1954594 ,\n",
       "       0.18839779, 0.10510171, 0.11310743, 0.10389129, 0.1063613 ,\n",
       "       0.11578191, 0.12557017, 0.19173952, 0.19806402, 0.16790149,\n",
       "       0.18071344, 0.06019387, 0.10931385, 0.08449555, 0.11803451,\n",
       "       0.12026094, 0.16262078, 0.15091183, 0.07202507, 0.0629949 ,\n",
       "       0.05941195, 0.13441571, 0.14412807, 0.06952551, 0.0656644 ,\n",
       "       0.06050557, 0.04323162, 0.08269196, 0.11307393, 0.        ,\n",
       "       0.09285491, 0.1140865 , 0.13223536, 0.09849951, 0.09521667,\n",
       "       0.11265538, 0.15895987, 0.11588179, 0.08702394, 0.07951848,\n",
       "       0.07567434, 0.16152117, 0.14112758, 0.10163215, 0.18446974,\n",
       "       0.10790893, 0.07039001, 0.16754649, 0.10381314, 0.09779187,\n",
       "       0.04764884, 0.19726721, 0.08104048, 0.07615202, 0.09308437,\n",
       "       0.15852907, 0.21618845, 0.06126328, 0.06011632, 0.03319461,\n",
       "       0.07578739, 0.        , 0.04346026, 0.1244797 , 0.09800412,\n",
       "       0.07059096, 0.10829054, 0.08477766, 0.10903513, 0.01490014,\n",
       "       0.0774111 , 0.0527032 , 0.05930015, 0.04790725, 0.18427845,\n",
       "       0.07415919, 0.04231485, 0.02444616, 0.12674254, 0.13182742,\n",
       "       0.09401294, 0.13015891, 0.12794739, 0.13924292, 0.1263303 ,\n",
       "       0.12497964, 0.14652167, 0.11305618, 0.12556903, 0.05948432,\n",
       "       0.10506115, 0.17617061, 0.        , 0.        ])"
      ]
     },
     "execution_count": 138,
     "metadata": {},
     "output_type": "execute_result"
    }
   ],
   "source": [
    "np.fill_diagonal(arr, np.nan)\n",
    "input_idx = 0\n",
    "arr[input_idx]"
   ]
  },
  {
   "cell_type": "code",
   "execution_count": 144,
   "metadata": {},
   "outputs": [
    {
     "name": "stdout",
     "output_type": "stream",
     "text": [
      "While answering a few of EdChum's questions I discovered that what I/we in the USA call pour over coffee is referred to as drip coffee in the UK. I added the pour-over tag to both questions I encountered but figured we should decide as a community which tag to use to describe this brewing process and then properly document it because drip-coffee means something different in the US (which is apparently referred to as filter-cofee in the UK). For clarification the method in question is shown in the image below. \n",
      " \n",
      "\n",
      "-----------------------------------------------\n",
      "In the UK and Japan we refer to these:\n",
      "\n",
      "as drip coffee this is a fairly recent thing to invade UK espresso shops but they have been around for a while in Japan.\n",
      "Whilst this:\n",
      "\n",
      "is what we call filter coffee. I'm happy to use both terms but this could turn territorial perhaps as it's unclear what the correct term should be as this is not just a UK-ism.\n",
      "It may be better to just have a tag synonym in this case perhaps?\n",
      "Just to defend my corner a little hario is one of the main sellers of these kinds of products and they seem to be the main brand in use in UK and you can see that drip is the term used in their products.\n",
      "And again here: http://www.hario.co.jp/coffee/hario_coffee/dripdecanter.html although the page is in japanese the url itself uses the term drip.\n",
      "\n",
      "0.3761070117221526\n"
     ]
    }
   ],
   "source": [
    "result_idx = np.nanargmax(arr[input_idx])\n",
    "\n",
    "print(data[\"Body\"][input_idx])\n",
    "print(\"-----------------------------------------------\")\n",
    "print(data[\"Body\"][result_idx])\n",
    "print(arr[input_idx][result_idx])"
   ]
  },
  {
   "cell_type": "code",
   "execution_count": 140,
   "metadata": {},
   "outputs": [
    {
     "data": {
      "text/plain": [
       "array([233,  59, 201, 108, 100, 232, 169,  93, 209,  86,  37, 130, 217,\n",
       "        75, 199,  22,  12, 216, 166, 202,  51, 115,  39, 190, 213,   6,\n",
       "        31, 211,  27,   1, 110,  23, 212, 160, 133, 229, 101, 198, 151,\n",
       "       165,  79, 197,  10, 159,  16,   8,  26, 164,  36,  84,  28, 116,\n",
       "       163, 186, 205, 123,  50, 158, 215, 180, 200, 193, 117,  40, 210,\n",
       "       179, 192,   4, 167,  47,  92, 153, 207, 112,  15,  25,  69, 178,\n",
       "         9,  64, 132,  58, 170, 194,  33,  89, 220,  87, 106,  24, 174,\n",
       "        57,  62,  98,  94, 189, 204, 173,  32,  60,  88,  90,  63,  18,\n",
       "       183,  95,   7, 188, 143,  82, 230, 141,  52,  41, 144, 111,  80,\n",
       "        61, 131, 185, 206,  74, 208, 152,  65,  66,  11,  19, 175, 227,\n",
       "       168, 142, 171,  85, 113, 145, 177, 138,  72, 154,  34,  42, 134,\n",
       "        46, 155,   3,  49, 128, 203, 225,  55, 228, 146,  14, 127, 224,\n",
       "       218,  43, 222, 109, 221, 137, 219, 172, 129, 161,  78, 223,  35,\n",
       "        29, 182,  68, 124,  91, 162,  17,  45, 120, 226, 105, 126, 104,\n",
       "       157, 103,  20,  13,  99,  96,  97, 195, 176, 181, 156, 107,  77,\n",
       "       135, 187, 149,  73, 125, 121, 102, 114,  38,  56,  53,  30, 231,\n",
       "       118, 136, 150,  54,  76, 214, 184, 140, 122, 147,  48,  44, 139,\n",
       "       191, 148, 119, 196,  67,  81,  83,   2,  70,  71,  21,   5,   0],\n",
       "      dtype=int64)"
      ]
     },
     "execution_count": 140,
     "metadata": {},
     "output_type": "execute_result"
    }
   ],
   "source": [
    "np.argsort(arr[input_idx])"
   ]
  },
  {
   "cell_type": "code",
   "execution_count": 146,
   "metadata": {},
   "outputs": [
    {
     "data": {
      "text/plain": [
       "0.3761070117221526"
      ]
     },
     "execution_count": 146,
     "metadata": {},
     "output_type": "execute_result"
    }
   ],
   "source": [
    "arr[input_idx][np.argsort(arr[input_idx])[-2]]"
   ]
  },
  {
   "cell_type": "code",
   "execution_count": 147,
   "metadata": {},
   "outputs": [
    {
     "data": {
      "text/plain": [
       "\"In the UK and Japan we refer to these:\\n\\nas drip coffee this is a fairly recent thing to invade UK espresso shops but they have been around for a while in Japan.\\nWhilst this:\\n\\nis what we call filter coffee. I'm happy to use both terms but this could turn territorial perhaps as it's unclear what the correct term should be as this is not just a UK-ism.\\nIt may be better to just have a tag synonym in this case perhaps?\\nJust to defend my corner a little hario is one of the main sellers of these kinds of products and they seem to be the main brand in use in UK and you can see that drip is the term used in their products.\\nAnd again here: http://www.hario.co.jp/coffee/hario_coffee/dripdecanter.html although the page is in japanese the url itself uses the term drip.\\n\""
      ]
     },
     "execution_count": 147,
     "metadata": {},
     "output_type": "execute_result"
    }
   ],
   "source": [
    "data[\"Body\"][np.argsort(arr[input_idx])[-2]]"
   ]
  },
  {
   "cell_type": "code",
   "execution_count": 148,
   "metadata": {},
   "outputs": [
    {
     "data": {
      "text/plain": [
       "234"
      ]
     },
     "execution_count": 148,
     "metadata": {},
     "output_type": "execute_result"
    }
   ],
   "source": [
    "len(data[\"Body\"])"
   ]
  },
  {
   "cell_type": "code",
   "execution_count": 152,
   "metadata": {},
   "outputs": [
    {
     "data": {
      "text/plain": [
       "\"While answering a few of EdChum's questions I discovered that what I/we in the USA call pour over coffee is referred to as drip coffee in the UK. I added the pour-over tag to both questions I encountered but figured we should decide as a community which tag to use to describe this brewing process and then properly document it because drip-coffee means something different in the US (which is apparently referred to as filter-cofee in the UK). For clarification the method in question is shown in the image below. \\n \\n\""
      ]
     },
     "execution_count": 152,
     "metadata": {},
     "output_type": "execute_result"
    }
   ],
   "source": [
    "data[\"Body\"][0]"
   ]
  },
  {
   "cell_type": "code",
   "execution_count": 157,
   "metadata": {},
   "outputs": [
    {
     "name": "stdout",
     "output_type": "stream",
     "text": [
      "[6, 0.3761070117221526]\n",
      "[24, 0.3702046312789686]\n",
      "[78, 0.2544449361830786]\n",
      "[77, 0.24737419902783314]\n",
      "[3, 0.236814048261771]\n"
     ]
    }
   ],
   "source": [
    "first = []\n",
    "second = []\n",
    "third = []\n",
    "fourth = []\n",
    "fifth = []\n",
    "for index in range(0,len(data[\"Body\"])):\n",
    "    sim = np.argsort(arr[index])\n",
    "    first.append([data[\"Id\"][sim[-2]],arr[index][sim[-2]]])\n",
    "    second.append([data[\"Id\"][sim[-3]],arr[index][sim[-3]]])\n",
    "    third.append([data[\"Id\"][sim[-4]],arr[index][sim[-4]]])\n",
    "    fourth.append([data[\"Id\"][sim[-5]],arr[index][sim[-5]]])\n",
    "    fifth.append([data[\"Id\"][sim[-6]],arr[index][sim[-6]]])\n",
    "print(first[0])\n",
    "print(second[0])\n",
    "print(third[0])\n",
    "print(fourth[0])\n",
    "print(fifth[0])"
   ]
  },
  {
   "cell_type": "code",
   "execution_count": 160,
   "metadata": {},
   "outputs": [
    {
     "ename": "SyntaxError",
     "evalue": "invalid syntax (<ipython-input-160-e07360384a35>, line 1)",
     "output_type": "error",
     "traceback": [
      "\u001b[1;36m  File \u001b[1;32m\"<ipython-input-160-e07360384a35>\"\u001b[1;36m, line \u001b[1;32m1\u001b[0m\n\u001b[1;33m    first[,0]\u001b[0m\n\u001b[1;37m          ^\u001b[0m\n\u001b[1;31mSyntaxError\u001b[0m\u001b[1;31m:\u001b[0m invalid syntax\n"
     ]
    }
   ],
   "source": []
  },
  {
   "cell_type": "code",
   "execution_count": 161,
   "metadata": {},
   "outputs": [],
   "source": [
    "data[[\"first_Id\",\"first_sim\"]]= pd.DataFrame(first)"
   ]
  },
  {
   "cell_type": "code",
   "execution_count": 163,
   "metadata": {},
   "outputs": [],
   "source": [
    "data[[\"second_Id\",\"second_sim\"]]= pd.DataFrame(second)\n",
    "data[[\"third_Id\",\"third_sim\"]]= pd.DataFrame(third)\n",
    "data[[\"fourth_Id\",\"fourth_sim\"]]= pd.DataFrame(fourth)\n",
    "data[[\"fifth_Id\",\"fifth_sim\"]]= pd.DataFrame(fifth)"
   ]
  },
  {
   "cell_type": "code",
   "execution_count": 164,
   "metadata": {},
   "outputs": [
    {
     "data": {
      "text/html": [
       "<div>\n",
       "<style scoped>\n",
       "    .dataframe tbody tr th:only-of-type {\n",
       "        vertical-align: middle;\n",
       "    }\n",
       "\n",
       "    .dataframe tbody tr th {\n",
       "        vertical-align: top;\n",
       "    }\n",
       "\n",
       "    .dataframe thead th {\n",
       "        text-align: right;\n",
       "    }\n",
       "</style>\n",
       "<table border=\"1\" class=\"dataframe\">\n",
       "  <thead>\n",
       "    <tr style=\"text-align: right;\">\n",
       "      <th></th>\n",
       "      <th>Id</th>\n",
       "      <th>ParentId</th>\n",
       "      <th>PostTypeId</th>\n",
       "      <th>CreationDate</th>\n",
       "      <th>Title</th>\n",
       "      <th>Body</th>\n",
       "      <th>first_Id</th>\n",
       "      <th>first_sim</th>\n",
       "      <th>second_Id</th>\n",
       "      <th>second_sim</th>\n",
       "      <th>third_Id</th>\n",
       "      <th>third_sim</th>\n",
       "      <th>fourth_Id</th>\n",
       "      <th>fourth_sim</th>\n",
       "      <th>fifth_Id</th>\n",
       "      <th>fifth_sim</th>\n",
       "    </tr>\n",
       "  </thead>\n",
       "  <tbody>\n",
       "    <tr>\n",
       "      <th>0</th>\n",
       "      <td>1</td>\n",
       "      <td>NaN</td>\n",
       "      <td>1</td>\n",
       "      <td>2015-01-27T21:23:05.507</td>\n",
       "      <td>Should we describe the process of brewing a si...</td>\n",
       "      <td>While answering a few of EdChum's questions I ...</td>\n",
       "      <td>6</td>\n",
       "      <td>0.376107</td>\n",
       "      <td>24</td>\n",
       "      <td>0.370205</td>\n",
       "      <td>78</td>\n",
       "      <td>0.254445</td>\n",
       "      <td>77</td>\n",
       "      <td>0.247374</td>\n",
       "      <td>3</td>\n",
       "      <td>0.236814</td>\n",
       "    </tr>\n",
       "    <tr>\n",
       "      <th>1</th>\n",
       "      <td>2</td>\n",
       "      <td>NaN</td>\n",
       "      <td>1</td>\n",
       "      <td>2015-01-27T21:26:10.227</td>\n",
       "      <td>What should go in our main chat feeds?</td>\n",
       "      <td>Being newly created we have zero feeds appeari...</td>\n",
       "      <td>1223</td>\n",
       "      <td>0.329802</td>\n",
       "      <td>55</td>\n",
       "      <td>0.170883</td>\n",
       "      <td>1145</td>\n",
       "      <td>0.119142</td>\n",
       "      <td>1225</td>\n",
       "      <td>0.118048</td>\n",
       "      <td>1154</td>\n",
       "      <td>0.106399</td>\n",
       "    </tr>\n",
       "    <tr>\n",
       "      <th>2</th>\n",
       "      <td>3</td>\n",
       "      <td>1.0</td>\n",
       "      <td>2</td>\n",
       "      <td>2015-01-27T21:30:20.953</td>\n",
       "      <td>NaN</td>\n",
       "      <td>It looks like filter coffee has another, diffe...</td>\n",
       "      <td>24</td>\n",
       "      <td>0.307764</td>\n",
       "      <td>1</td>\n",
       "      <td>0.236814</td>\n",
       "      <td>77</td>\n",
       "      <td>0.172507</td>\n",
       "      <td>83</td>\n",
       "      <td>0.161722</td>\n",
       "      <td>1147</td>\n",
       "      <td>0.157606</td>\n",
       "    </tr>\n",
       "    <tr>\n",
       "      <th>3</th>\n",
       "      <td>4</td>\n",
       "      <td>NaN</td>\n",
       "      <td>1</td>\n",
       "      <td>2015-01-27T22:31:45.837</td>\n",
       "      <td>Let's think of a creative name for our chatroom</td>\n",
       "      <td>The chatroom name is so bland. \"Coffee.\" Look ...</td>\n",
       "      <td>84</td>\n",
       "      <td>0.194024</td>\n",
       "      <td>49</td>\n",
       "      <td>0.193155</td>\n",
       "      <td>1231</td>\n",
       "      <td>0.187702</td>\n",
       "      <td>75</td>\n",
       "      <td>0.182428</td>\n",
       "      <td>74</td>\n",
       "      <td>0.178000</td>\n",
       "    </tr>\n",
       "    <tr>\n",
       "      <th>4</th>\n",
       "      <td>5</td>\n",
       "      <td>NaN</td>\n",
       "      <td>1</td>\n",
       "      <td>2015-01-27T22:34:21.017</td>\n",
       "      <td>Should product recommendations be on-topic?</td>\n",
       "      <td>On most SE sites, product recommendations are ...</td>\n",
       "      <td>73</td>\n",
       "      <td>0.264509</td>\n",
       "      <td>10</td>\n",
       "      <td>0.230637</td>\n",
       "      <td>15</td>\n",
       "      <td>0.204680</td>\n",
       "      <td>36</td>\n",
       "      <td>0.199814</td>\n",
       "      <td>1154</td>\n",
       "      <td>0.198349</td>\n",
       "    </tr>\n",
       "    <tr>\n",
       "      <th>...</th>\n",
       "      <td>...</td>\n",
       "      <td>...</td>\n",
       "      <td>...</td>\n",
       "      <td>...</td>\n",
       "      <td>...</td>\n",
       "      <td>...</td>\n",
       "      <td>...</td>\n",
       "      <td>...</td>\n",
       "      <td>...</td>\n",
       "      <td>...</td>\n",
       "      <td>...</td>\n",
       "      <td>...</td>\n",
       "      <td>...</td>\n",
       "      <td>...</td>\n",
       "      <td>...</td>\n",
       "      <td>...</td>\n",
       "    </tr>\n",
       "    <tr>\n",
       "      <th>229</th>\n",
       "      <td>1236</td>\n",
       "      <td>NaN</td>\n",
       "      <td>4</td>\n",
       "      <td>2020-04-24T13:33:15.850</td>\n",
       "      <td>product-discovery</td>\n",
       "      <td>Indicates that the post shares product or conf...</td>\n",
       "      <td>1235</td>\n",
       "      <td>0.383766</td>\n",
       "      <td>15</td>\n",
       "      <td>0.118638</td>\n",
       "      <td>23</td>\n",
       "      <td>0.118598</td>\n",
       "      <td>1132</td>\n",
       "      <td>0.107572</td>\n",
       "      <td>73</td>\n",
       "      <td>0.103453</td>\n",
       "    </tr>\n",
       "    <tr>\n",
       "      <th>230</th>\n",
       "      <td>1237</td>\n",
       "      <td>NaN</td>\n",
       "      <td>1</td>\n",
       "      <td>2020-06-03T08:54:22.113</td>\n",
       "      <td>Do we accept or close recipe requests?</td>\n",
       "      <td>Seasoned Advice has excluded recipe requests f...</td>\n",
       "      <td>1238</td>\n",
       "      <td>0.235186</td>\n",
       "      <td>1146</td>\n",
       "      <td>0.204995</td>\n",
       "      <td>1231</td>\n",
       "      <td>0.204621</td>\n",
       "      <td>1155</td>\n",
       "      <td>0.200373</td>\n",
       "      <td>88</td>\n",
       "      <td>0.197876</td>\n",
       "    </tr>\n",
       "    <tr>\n",
       "      <th>231</th>\n",
       "      <td>1238</td>\n",
       "      <td>1237.0</td>\n",
       "      <td>2</td>\n",
       "      <td>2020-06-05T04:50:17.800</td>\n",
       "      <td>NaN</td>\n",
       "      <td>I appreciate the Seasoned Advice stance and th...</td>\n",
       "      <td>1146</td>\n",
       "      <td>0.331666</td>\n",
       "      <td>1147</td>\n",
       "      <td>0.312759</td>\n",
       "      <td>1155</td>\n",
       "      <td>0.310828</td>\n",
       "      <td>1154</td>\n",
       "      <td>0.290588</td>\n",
       "      <td>1169</td>\n",
       "      <td>0.271595</td>\n",
       "    </tr>\n",
       "    <tr>\n",
       "      <th>232</th>\n",
       "      <td>1239</td>\n",
       "      <td>NaN</td>\n",
       "      <td>5</td>\n",
       "      <td>2020-07-26T12:16:54.913</td>\n",
       "      <td>NaN</td>\n",
       "      <td>NaN</td>\n",
       "      <td>1240</td>\n",
       "      <td>1.000000</td>\n",
       "      <td>1120</td>\n",
       "      <td>0.000000</td>\n",
       "      <td>92</td>\n",
       "      <td>0.000000</td>\n",
       "      <td>90</td>\n",
       "      <td>0.000000</td>\n",
       "      <td>89</td>\n",
       "      <td>0.000000</td>\n",
       "    </tr>\n",
       "    <tr>\n",
       "      <th>233</th>\n",
       "      <td>1240</td>\n",
       "      <td>NaN</td>\n",
       "      <td>4</td>\n",
       "      <td>2020-07-26T12:16:54.913</td>\n",
       "      <td>NaN</td>\n",
       "      <td>NaN</td>\n",
       "      <td>1239</td>\n",
       "      <td>1.000000</td>\n",
       "      <td>1120</td>\n",
       "      <td>0.000000</td>\n",
       "      <td>92</td>\n",
       "      <td>0.000000</td>\n",
       "      <td>90</td>\n",
       "      <td>0.000000</td>\n",
       "      <td>89</td>\n",
       "      <td>0.000000</td>\n",
       "    </tr>\n",
       "  </tbody>\n",
       "</table>\n",
       "<p>234 rows × 16 columns</p>\n",
       "</div>"
      ],
      "text/plain": [
       "       Id  ParentId  PostTypeId             CreationDate  \\\n",
       "0       1       NaN           1  2015-01-27T21:23:05.507   \n",
       "1       2       NaN           1  2015-01-27T21:26:10.227   \n",
       "2       3       1.0           2  2015-01-27T21:30:20.953   \n",
       "3       4       NaN           1  2015-01-27T22:31:45.837   \n",
       "4       5       NaN           1  2015-01-27T22:34:21.017   \n",
       "..    ...       ...         ...                      ...   \n",
       "229  1236       NaN           4  2020-04-24T13:33:15.850   \n",
       "230  1237       NaN           1  2020-06-03T08:54:22.113   \n",
       "231  1238    1237.0           2  2020-06-05T04:50:17.800   \n",
       "232  1239       NaN           5  2020-07-26T12:16:54.913   \n",
       "233  1240       NaN           4  2020-07-26T12:16:54.913   \n",
       "\n",
       "                                                 Title  \\\n",
       "0    Should we describe the process of brewing a si...   \n",
       "1               What should go in our main chat feeds?   \n",
       "2                                                  NaN   \n",
       "3      Let's think of a creative name for our chatroom   \n",
       "4          Should product recommendations be on-topic?   \n",
       "..                                                 ...   \n",
       "229                                  product-discovery   \n",
       "230             Do we accept or close recipe requests?   \n",
       "231                                                NaN   \n",
       "232                                                NaN   \n",
       "233                                                NaN   \n",
       "\n",
       "                                                  Body  first_Id  first_sim  \\\n",
       "0    While answering a few of EdChum's questions I ...         6   0.376107   \n",
       "1    Being newly created we have zero feeds appeari...      1223   0.329802   \n",
       "2    It looks like filter coffee has another, diffe...        24   0.307764   \n",
       "3    The chatroom name is so bland. \"Coffee.\" Look ...        84   0.194024   \n",
       "4    On most SE sites, product recommendations are ...        73   0.264509   \n",
       "..                                                 ...       ...        ...   \n",
       "229  Indicates that the post shares product or conf...      1235   0.383766   \n",
       "230  Seasoned Advice has excluded recipe requests f...      1238   0.235186   \n",
       "231  I appreciate the Seasoned Advice stance and th...      1146   0.331666   \n",
       "232                                                NaN      1240   1.000000   \n",
       "233                                                NaN      1239   1.000000   \n",
       "\n",
       "     second_Id  second_sim  third_Id  third_sim  fourth_Id  fourth_sim  \\\n",
       "0           24    0.370205        78   0.254445         77    0.247374   \n",
       "1           55    0.170883      1145   0.119142       1225    0.118048   \n",
       "2            1    0.236814        77   0.172507         83    0.161722   \n",
       "3           49    0.193155      1231   0.187702         75    0.182428   \n",
       "4           10    0.230637        15   0.204680         36    0.199814   \n",
       "..         ...         ...       ...        ...        ...         ...   \n",
       "229         15    0.118638        23   0.118598       1132    0.107572   \n",
       "230       1146    0.204995      1231   0.204621       1155    0.200373   \n",
       "231       1147    0.312759      1155   0.310828       1154    0.290588   \n",
       "232       1120    0.000000        92   0.000000         90    0.000000   \n",
       "233       1120    0.000000        92   0.000000         90    0.000000   \n",
       "\n",
       "     fifth_Id  fifth_sim  \n",
       "0           3   0.236814  \n",
       "1        1154   0.106399  \n",
       "2        1147   0.157606  \n",
       "3          74   0.178000  \n",
       "4        1154   0.198349  \n",
       "..        ...        ...  \n",
       "229        73   0.103453  \n",
       "230        88   0.197876  \n",
       "231      1169   0.271595  \n",
       "232        89   0.000000  \n",
       "233        89   0.000000  \n",
       "\n",
       "[234 rows x 16 columns]"
      ]
     },
     "execution_count": 164,
     "metadata": {},
     "output_type": "execute_result"
    }
   ],
   "source": [
    "data"
   ]
  },
  {
   "cell_type": "code",
   "execution_count": 165,
   "metadata": {},
   "outputs": [],
   "source": [
    "data.to_csv(\"./data/dataset_sklearn_sim.csv\", encoding=\"utf_8\")"
   ]
  },
  {
   "cell_type": "code",
   "execution_count": null,
   "metadata": {},
   "outputs": [],
   "source": []
  }
 ],
 "metadata": {
  "kernelspec": {
   "display_name": "Python 3",
   "language": "python",
   "name": "python3"
  },
  "language_info": {
   "codemirror_mode": {
    "name": "ipython",
    "version": 3
   },
   "file_extension": ".py",
   "mimetype": "text/x-python",
   "name": "python",
   "nbconvert_exporter": "python",
   "pygments_lexer": "ipython3",
   "version": "3.7.9"
  }
 },
 "nbformat": 4,
 "nbformat_minor": 4
}
