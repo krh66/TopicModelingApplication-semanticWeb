{
 "cells": [
  {
   "cell_type": "code",
   "execution_count": 1,
   "metadata": {
    "scrolled": true
   },
   "outputs": [
    {
     "name": "stderr",
     "output_type": "stream",
     "text": [
      "[nltk_data] Downloading package punkt to /Users/Marcushsu/nltk_data...\n",
      "[nltk_data]   Package punkt is already up-to-date!\n",
      "[nltk_data] Downloading package stopwords to\n",
      "[nltk_data]     /Users/Marcushsu/nltk_data...\n",
      "[nltk_data]   Package stopwords is already up-to-date!\n"
     ]
    }
   ],
   "source": [
    "  >>> import nltk\n",
    "  >>> nltk.download('punkt')\n",
    "  >>> nltk.download('stopwords')\n",
    "from nltk.corpus import stopwords\n",
    "from nltk.tokenize import word_tokenize\n",
    "from nltk.tokenize import RegexpTokenizer\n",
    "import pandas as pd"
   ]
  },
  {
   "cell_type": "code",
   "execution_count": 2,
   "metadata": {},
   "outputs": [
    {
     "name": "stdout",
     "output_type": "stream",
     "text": [
      "0      While answering a few of EdChum's questions I ...\n",
      "1      Being newly created we have zero feeds appeari...\n",
      "2      It looks like filter coffee has another, diffe...\n",
      "3      The chatroom name is so bland. \"Coffee.\" Look ...\n",
      "4      On most SE sites, product recommendations are ...\n",
      "                             ...                        \n",
      "225    I see no reason why a different rule should ap...\n",
      "226    This tag is used by staff when sharing concept...\n",
      "227    Indicates that the post shares product or conf...\n",
      "228    Seasoned Advice has excluded recipe requests f...\n",
      "229    I appreciate the Seasoned Advice stance and th...\n",
      "Name: Body, Length: 230, dtype: object\n"
     ]
    }
   ],
   "source": [
    "data = pd.read_csv(\"./data/dataset.csv\", encoding=\"utf_8\")\n",
    "print(data[\"Body\"])"
   ]
  },
  {
   "cell_type": "code",
   "execution_count": 3,
   "metadata": {},
   "outputs": [
    {
     "data": {
      "text/plain": [
       "\"Being newly created we have zero feeds appearing in our main chat right now. What blogs, news sites, or other important coffee related things should appear in our main chat room's feed? Post your suggestions/submissions.  \\n\""
      ]
     },
     "execution_count": 3,
     "metadata": {},
     "output_type": "execute_result"
    }
   ],
   "source": [
    "data[\"Body\"][1]"
   ]
  },
  {
   "cell_type": "code",
   "execution_count": 4,
   "metadata": {},
   "outputs": [],
   "source": [
    "stop_words = set(stopwords.words('english'))\n",
    "def removeStopWords(words):\n",
    "    res = []\n",
    "    for word in words:\n",
    "        if word not in stop_words:\n",
    "            res.append(word)\n",
    "    return res"
   ]
  },
  {
   "cell_type": "code",
   "execution_count": 5,
   "metadata": {},
   "outputs": [],
   "source": [
    "tokenizer = RegexpTokenizer(r\"\\w+\")"
   ]
  },
  {
   "cell_type": "code",
   "execution_count": 6,
   "metadata": {},
   "outputs": [
    {
     "data": {
      "text/plain": [
       "['Being',\n",
       " 'newly',\n",
       " 'created',\n",
       " 'zero',\n",
       " 'feeds',\n",
       " 'appearing',\n",
       " 'main',\n",
       " 'chat',\n",
       " 'right',\n",
       " 'What',\n",
       " 'blogs',\n",
       " 'news',\n",
       " 'sites',\n",
       " 'important',\n",
       " 'coffee',\n",
       " 'related',\n",
       " 'things',\n",
       " 'appear',\n",
       " 'main',\n",
       " 'chat',\n",
       " 'room',\n",
       " 'feed',\n",
       " 'Post',\n",
       " 'suggestions',\n",
       " 'submissions']"
      ]
     },
     "execution_count": 6,
     "metadata": {},
     "output_type": "execute_result"
    }
   ],
   "source": [
    "removeStopWords(tokenizer.tokenize(data[\"Body\"][1]))"
   ]
  },
  {
   "cell_type": "code",
   "execution_count": 7,
   "metadata": {},
   "outputs": [],
   "source": [
    "from sklearn.feature_extraction.text import TfidfVectorizer\n",
    "import numpy as np\n",
    "tfidf = TfidfVectorizer().fit_transform(data[\"Body\"].values.astype('U'))\n",
    "pairwise_similarity = tfidf * tfidf.T"
   ]
  },
  {
   "cell_type": "code",
   "execution_count": 8,
   "metadata": {},
   "outputs": [
    {
     "data": {
      "text/plain": [
       "<230x3226 sparse matrix of type '<class 'numpy.float64'>'\n",
       "\twith 15168 stored elements in Compressed Sparse Row format>"
      ]
     },
     "execution_count": 8,
     "metadata": {},
     "output_type": "execute_result"
    }
   ],
   "source": [
    "tfidf"
   ]
  },
  {
   "cell_type": "code",
   "execution_count": 9,
   "metadata": {},
   "outputs": [
    {
     "data": {
      "text/plain": [
       "array([[1.        , 0.05382515, 0.23655154, ..., 0.05851318, 0.10372858,\n",
       "        0.17422276],\n",
       "       [0.05382515, 1.        , 0.01048055, ..., 0.02391818, 0.08203518,\n",
       "        0.0571341 ],\n",
       "       [0.23655154, 0.01048055, 1.        , ..., 0.02803082, 0.06671451,\n",
       "        0.06267551],\n",
       "       ...,\n",
       "       [0.05851318, 0.02391818, 0.02803082, ..., 1.        , 0.0283705 ,\n",
       "        0.07303407],\n",
       "       [0.10372858, 0.08203518, 0.06671451, ..., 0.0283705 , 1.        ,\n",
       "        0.23424613],\n",
       "       [0.17422276, 0.0571341 , 0.06267551, ..., 0.07303407, 0.23424613,\n",
       "        1.        ]])"
      ]
     },
     "execution_count": 9,
     "metadata": {},
     "output_type": "execute_result"
    }
   ],
   "source": [
    "arr = pairwise_similarity.toarray()\n",
    "arr"
   ]
  },
  {
   "cell_type": "code",
   "execution_count": 10,
   "metadata": {},
   "outputs": [
    {
     "data": {
      "text/plain": [
       "array([       nan, 0.05382515, 0.23655154, 0.11879252, 0.08102271,\n",
       "       0.37444259, 0.04930749, 0.10200311, 0.06282552, 0.08667974,\n",
       "       0.0606944 , 0.11120987, 0.03777115, 0.15400867, 0.12443478,\n",
       "       0.08563501, 0.0624513 , 0.14357261, 0.09994424, 0.11134547,\n",
       "       0.15248838, 0.3693389 , 0.0342535 , 0.0580554 , 0.09357334,\n",
       "       0.08575445, 0.06422833, 0.05225607, 0.06731927, 0.13885924,\n",
       "       0.1739616 , 0.05078207, 0.09836413, 0.09230341, 0.11707718,\n",
       "       0.13853585, 0.06696335, 0.01670716, 0.17113751, 0.04550026,\n",
       "       0.07591267, 0.10484547, 0.11819326, 0.12617622, 0.19284381,\n",
       "       0.14425826, 0.11871889, 0.08255452, 0.1908147 , 0.12138551,\n",
       "       0.07048279, 0.04429987, 0.10425811, 0.17247281, 0.17921799,\n",
       "       0.12446486, 0.17271144, 0.09433897, 0.09083063, 0.        ,\n",
       "       0.098815  , 0.10651782, 0.09527042, 0.10013588, 0.09006429,\n",
       "       0.10985279, 0.10983759, 0.21481199, 0.14025234, 0.08622571,\n",
       "       0.2464738 , 0.25320539, 0.11666824, 0.16696444, 0.10748796,\n",
       "       0.02656246, 0.18044687, 0.1654671 , 0.13269491, 0.06007182,\n",
       "       0.1054279 , 0.21508986, 0.1031864 , 0.22497798, 0.06802238,\n",
       "       0.11432778, 0.01534772, 0.09294548, 0.09873219, 0.0922187 ,\n",
       "       0.09949693, 0.14212021, 0.08233654, 0.0111642 , 0.09574347,\n",
       "       0.10132082, 0.15645809, 0.15631259, 0.09562357, 0.15469456,\n",
       "       0.        , 0.05963597, 0.16995365, 0.15120666, 0.14821404,\n",
       "       0.14508504, 0.09277341, 0.16145534, 0.12741408, 0.05690805,\n",
       "       0.1054921 , 0.08410756, 0.11413935, 0.17023247, 0.04452729,\n",
       "       0.06860416, 0.07562229, 0.17706271, 0.20072944, 0.14520604,\n",
       "       0.16801616, 0.1892305 , 0.07068752, 0.1415601 , 0.16671887,\n",
       "       0.14658687, 0.12484341, 0.12269573, 0.13316119, 0.02287908,\n",
       "       0.10642105, 0.08979612, 0.05865104, 0.11830894, 0.1656201 ,\n",
       "       0.17719103, 0.1296532 , 0.11545959, 0.19349286, 0.18641156,\n",
       "       0.1042125 , 0.11180044, 0.10287447, 0.10504387, 0.11456255,\n",
       "       0.12434433, 0.1900235 , 0.19661522, 0.16612593, 0.17878944,\n",
       "       0.05944861, 0.10797762, 0.0835941 , 0.11697262, 0.11899284,\n",
       "       0.16070787, 0.14940397, 0.07098729, 0.06214846, 0.05858926,\n",
       "       0.13284649, 0.14277545, 0.06866841, 0.06497389, 0.05954271,\n",
       "       0.0425669 , 0.08182696, 0.11154103, 0.0917225 , 0.11247785,\n",
       "       0.13054335, 0.0973967 , 0.09410037, 0.11144109, 0.15716437,\n",
       "       0.11477912, 0.08593898, 0.07862091, 0.07468528, 0.15928475,\n",
       "       0.13904891, 0.10054118, 0.18337402, 0.10678617, 0.06960353,\n",
       "       0.1654511 , 0.10268839, 0.0968261 , 0.0471246 , 0.19507611,\n",
       "       0.07993363, 0.07544581, 0.09242303, 0.15732768, 0.21478206,\n",
       "       0.06048731, 0.05933145, 0.03274985, 0.0747417 , 0.        ,\n",
       "       0.04288817, 0.12274529, 0.09670199, 0.06966202, 0.10700169,\n",
       "       0.08365403, 0.10759971, 0.01475717, 0.0765003 , 0.05201065,\n",
       "       0.05846812, 0.04736564, 0.18206495, 0.07318085, 0.04212912,\n",
       "       0.02399492, 0.12552192, 0.13107946, 0.09339961, 0.12849461,\n",
       "       0.12631944, 0.13760501, 0.12476296, 0.12401359, 0.14474899,\n",
       "       0.11158601, 0.1240279 , 0.05851318, 0.10372858, 0.17422276])"
      ]
     },
     "execution_count": 10,
     "metadata": {},
     "output_type": "execute_result"
    }
   ],
   "source": [
    "np.fill_diagonal(arr, np.nan)\n",
    "input_idx = 0\n",
    "arr[input_idx]"
   ]
  },
  {
   "cell_type": "code",
   "execution_count": 11,
   "metadata": {},
   "outputs": [
    {
     "name": "stdout",
     "output_type": "stream",
     "text": [
      "While answering a few of EdChum's questions I discovered that what I/we in the USA call pour over coffee is referred to as drip coffee in the UK. I added the pour-over tag to both questions I encountered but figured we should decide as a community which tag to use to describe this brewing process and then properly document it because drip-coffee means something different in the US (which is apparently referred to as filter-cofee in the UK). For clarification the method in question is shown in the image below. \n",
      " \n",
      "\n",
      "-----------------------------------------------\n",
      "In the UK and Japan we refer to these:\n",
      "\n",
      "as drip coffee this is a fairly recent thing to invade UK espresso shops but they have been around for a while in Japan.\n",
      "Whilst this:\n",
      "\n",
      "is what we call filter coffee. I'm happy to use both terms but this could turn territorial perhaps as it's unclear what the correct term should be as this is not just a UK-ism.\n",
      "It may be better to just have a tag synonym in this case perhaps?\n",
      "Just to defend my corner a little hario is one of the main sellers of these kinds of products and they seem to be the main brand in use in UK and you can see that drip is the term used in their products.\n",
      "And again here: http://www.hario.co.jp/coffee/hario_coffee/dripdecanter.html although the page is in japanese the url itself uses the term drip.\n",
      "\n",
      "0.37444259447674233\n"
     ]
    }
   ],
   "source": [
    "result_idx = np.nanargmax(arr[input_idx])\n",
    "\n",
    "print(data[\"Body\"][input_idx])\n",
    "print(\"-----------------------------------------------\")\n",
    "print(data[\"Body\"][result_idx])\n",
    "print(arr[input_idx][result_idx])"
   ]
  },
  {
   "cell_type": "code",
   "execution_count": 12,
   "metadata": {},
   "outputs": [
    {
     "data": {
      "text/plain": [
       "array([ 59, 100, 199,  93, 207,  86,  37, 129, 215,  75, 197,  22,  12,\n",
       "       214, 165, 200,  51, 114,  39, 188, 211,   6,  31, 209,  27,   1,\n",
       "       109,  23, 210, 227, 159, 132, 196, 150, 164, 101,  79, 195,  10,\n",
       "       158,  16,   8,  26, 163,  36,  28,  84, 115, 162, 184, 203,  50,\n",
       "       122, 157, 213, 178, 198, 191, 116,  40, 208, 177, 190,   4, 166,\n",
       "        92,  47, 152, 205, 111,  15,  25, 176,  69,   9, 131,  64,  58,\n",
       "       168,  89,  33, 192, 106,  87, 218,  24, 172,  57,  62,  98,  94,\n",
       "       202, 187, 171,  32,  88,  60,  90,  18,  63, 181,  95,   7, 186,\n",
       "       142,  82, 228, 140,  52,  41, 143,  80, 110, 130,  61, 183, 204,\n",
       "        74, 206, 151,  66,  65,  11,  19, 173, 167, 225, 141, 169, 112,\n",
       "        85, 144, 175, 137,  72, 153,  34,  42, 133,  46,   3, 154,  49,\n",
       "       127, 201, 223, 226, 145,  14,  55, 222, 126, 216,  43, 220, 108,\n",
       "       219, 136, 170, 217,  78, 160, 128, 221,  35,  29, 180,  68, 123,\n",
       "        91, 161,  17,  45, 224, 105, 119, 125, 104, 156, 103,  20,  13,\n",
       "        99,  97,  96, 174, 193, 179, 155, 107, 185,  77, 134, 148, 124,\n",
       "        73, 120, 102, 113,  38,  53,  56,  30, 229, 117, 135, 149,  54,\n",
       "        76, 212, 182, 139, 121, 146,  48,  44, 138, 189, 147, 118, 194,\n",
       "        67,  81,  83,   2,  70,  71,  21,   5,   0])"
      ]
     },
     "execution_count": 12,
     "metadata": {},
     "output_type": "execute_result"
    }
   ],
   "source": [
    "np.argsort(arr[input_idx])"
   ]
  },
  {
   "cell_type": "code",
   "execution_count": 13,
   "metadata": {},
   "outputs": [
    {
     "data": {
      "text/plain": [
       "0.37444259447674233"
      ]
     },
     "execution_count": 13,
     "metadata": {},
     "output_type": "execute_result"
    }
   ],
   "source": [
    "arr[input_idx][np.argsort(arr[input_idx])[-2]]"
   ]
  },
  {
   "cell_type": "code",
   "execution_count": 14,
   "metadata": {},
   "outputs": [
    {
     "data": {
      "text/plain": [
       "\"In the UK and Japan we refer to these:\\n\\nas drip coffee this is a fairly recent thing to invade UK espresso shops but they have been around for a while in Japan.\\nWhilst this:\\n\\nis what we call filter coffee. I'm happy to use both terms but this could turn territorial perhaps as it's unclear what the correct term should be as this is not just a UK-ism.\\nIt may be better to just have a tag synonym in this case perhaps?\\nJust to defend my corner a little hario is one of the main sellers of these kinds of products and they seem to be the main brand in use in UK and you can see that drip is the term used in their products.\\nAnd again here: http://www.hario.co.jp/coffee/hario_coffee/dripdecanter.html although the page is in japanese the url itself uses the term drip.\\n\""
      ]
     },
     "execution_count": 14,
     "metadata": {},
     "output_type": "execute_result"
    }
   ],
   "source": [
    "data[\"Body\"][np.argsort(arr[input_idx])[-2]]"
   ]
  },
  {
   "cell_type": "code",
   "execution_count": 15,
   "metadata": {},
   "outputs": [
    {
     "data": {
      "text/plain": [
       "230"
      ]
     },
     "execution_count": 15,
     "metadata": {},
     "output_type": "execute_result"
    }
   ],
   "source": [
    "len(data[\"Body\"])"
   ]
  },
  {
   "cell_type": "code",
   "execution_count": 16,
   "metadata": {},
   "outputs": [
    {
     "data": {
      "text/plain": [
       "\"While answering a few of EdChum's questions I discovered that what I/we in the USA call pour over coffee is referred to as drip coffee in the UK. I added the pour-over tag to both questions I encountered but figured we should decide as a community which tag to use to describe this brewing process and then properly document it because drip-coffee means something different in the US (which is apparently referred to as filter-cofee in the UK). For clarification the method in question is shown in the image below. \\n \\n\""
      ]
     },
     "execution_count": 16,
     "metadata": {},
     "output_type": "execute_result"
    }
   ],
   "source": [
    "data[\"Body\"][0]"
   ]
  },
  {
   "cell_type": "code",
   "execution_count": 17,
   "metadata": {},
   "outputs": [
    {
     "name": "stdout",
     "output_type": "stream",
     "text": [
      "[6, 0.37444259447674233]\n",
      "[24, 0.3693388984030484]\n",
      "[78, 0.2532053924311832]\n",
      "[77, 0.24647379680636444]\n",
      "[3, 0.23655154133293912]\n"
     ]
    }
   ],
   "source": [
    "first = []\n",
    "second = []\n",
    "third = []\n",
    "fourth = []\n",
    "fifth = []\n",
    "for index in range(0,len(data[\"Body\"])):\n",
    "    sim = np.argsort(arr[index])\n",
    "    first.append([data[\"Id\"][sim[-2]],arr[index][sim[-2]]])\n",
    "    second.append([data[\"Id\"][sim[-3]],arr[index][sim[-3]]])\n",
    "    third.append([data[\"Id\"][sim[-4]],arr[index][sim[-4]]])\n",
    "    fourth.append([data[\"Id\"][sim[-5]],arr[index][sim[-5]]])\n",
    "    fifth.append([data[\"Id\"][sim[-6]],arr[index][sim[-6]]])\n",
    "print(first[0])\n",
    "print(second[0])\n",
    "print(third[0])\n",
    "print(fourth[0])\n",
    "print(fifth[0])"
   ]
  },
  {
   "cell_type": "code",
   "execution_count": null,
   "metadata": {},
   "outputs": [],
   "source": []
  },
  {
   "cell_type": "code",
   "execution_count": 18,
   "metadata": {},
   "outputs": [],
   "source": [
    "data[[\"first_Id\",\"first_sim\"]]= pd.DataFrame(first)"
   ]
  },
  {
   "cell_type": "code",
   "execution_count": 19,
   "metadata": {},
   "outputs": [],
   "source": [
    "data[[\"second_Id\",\"second_sim\"]]= pd.DataFrame(second)\n",
    "data[[\"third_Id\",\"third_sim\"]]= pd.DataFrame(third)\n",
    "data[[\"fourth_Id\",\"fourth_sim\"]]= pd.DataFrame(fourth)\n",
    "data[[\"fifth_Id\",\"fifth_sim\"]]= pd.DataFrame(fifth)"
   ]
  },
  {
   "cell_type": "code",
   "execution_count": 20,
   "metadata": {},
   "outputs": [
    {
     "data": {
      "text/html": [
       "<div>\n",
       "<style scoped>\n",
       "    .dataframe tbody tr th:only-of-type {\n",
       "        vertical-align: middle;\n",
       "    }\n",
       "\n",
       "    .dataframe tbody tr th {\n",
       "        vertical-align: top;\n",
       "    }\n",
       "\n",
       "    .dataframe thead th {\n",
       "        text-align: right;\n",
       "    }\n",
       "</style>\n",
       "<table border=\"1\" class=\"dataframe\">\n",
       "  <thead>\n",
       "    <tr style=\"text-align: right;\">\n",
       "      <th></th>\n",
       "      <th>Id</th>\n",
       "      <th>ParentId</th>\n",
       "      <th>PostTypeId</th>\n",
       "      <th>CreationDate</th>\n",
       "      <th>Title</th>\n",
       "      <th>Body</th>\n",
       "      <th>first_Id</th>\n",
       "      <th>first_sim</th>\n",
       "      <th>second_Id</th>\n",
       "      <th>second_sim</th>\n",
       "      <th>third_Id</th>\n",
       "      <th>third_sim</th>\n",
       "      <th>fourth_Id</th>\n",
       "      <th>fourth_sim</th>\n",
       "      <th>fifth_Id</th>\n",
       "      <th>fifth_sim</th>\n",
       "    </tr>\n",
       "  </thead>\n",
       "  <tbody>\n",
       "    <tr>\n",
       "      <th>0</th>\n",
       "      <td>1</td>\n",
       "      <td>NaN</td>\n",
       "      <td>1</td>\n",
       "      <td>2015-01-27T21:23:05.507</td>\n",
       "      <td>Should we describe the process of brewing a si...</td>\n",
       "      <td>While answering a few of EdChum's questions I ...</td>\n",
       "      <td>6</td>\n",
       "      <td>0.374443</td>\n",
       "      <td>24</td>\n",
       "      <td>0.369339</td>\n",
       "      <td>78</td>\n",
       "      <td>0.253205</td>\n",
       "      <td>77</td>\n",
       "      <td>0.246474</td>\n",
       "      <td>3</td>\n",
       "      <td>0.236552</td>\n",
       "    </tr>\n",
       "    <tr>\n",
       "      <th>1</th>\n",
       "      <td>2</td>\n",
       "      <td>NaN</td>\n",
       "      <td>1</td>\n",
       "      <td>2015-01-27T21:26:10.227</td>\n",
       "      <td>What should go in our main chat feeds?</td>\n",
       "      <td>Being newly created we have zero feeds appeari...</td>\n",
       "      <td>1223</td>\n",
       "      <td>0.329917</td>\n",
       "      <td>55</td>\n",
       "      <td>0.170900</td>\n",
       "      <td>1145</td>\n",
       "      <td>0.118607</td>\n",
       "      <td>1225</td>\n",
       "      <td>0.117643</td>\n",
       "      <td>1154</td>\n",
       "      <td>0.106255</td>\n",
       "    </tr>\n",
       "    <tr>\n",
       "      <th>2</th>\n",
       "      <td>3</td>\n",
       "      <td>1.0</td>\n",
       "      <td>2</td>\n",
       "      <td>2015-01-27T21:30:20.953</td>\n",
       "      <td>NaN</td>\n",
       "      <td>It looks like filter coffee has another, diffe...</td>\n",
       "      <td>24</td>\n",
       "      <td>0.307167</td>\n",
       "      <td>1</td>\n",
       "      <td>0.236552</td>\n",
       "      <td>77</td>\n",
       "      <td>0.172021</td>\n",
       "      <td>83</td>\n",
       "      <td>0.160433</td>\n",
       "      <td>1147</td>\n",
       "      <td>0.156460</td>\n",
       "    </tr>\n",
       "    <tr>\n",
       "      <th>3</th>\n",
       "      <td>4</td>\n",
       "      <td>NaN</td>\n",
       "      <td>1</td>\n",
       "      <td>2015-01-27T22:31:45.837</td>\n",
       "      <td>Let's think of a creative name for our chatroom</td>\n",
       "      <td>The chatroom name is so bland. \"Coffee.\" Look ...</td>\n",
       "      <td>84</td>\n",
       "      <td>0.192602</td>\n",
       "      <td>49</td>\n",
       "      <td>0.191323</td>\n",
       "      <td>1231</td>\n",
       "      <td>0.185581</td>\n",
       "      <td>75</td>\n",
       "      <td>0.181131</td>\n",
       "      <td>74</td>\n",
       "      <td>0.176297</td>\n",
       "    </tr>\n",
       "    <tr>\n",
       "      <th>4</th>\n",
       "      <td>5</td>\n",
       "      <td>NaN</td>\n",
       "      <td>1</td>\n",
       "      <td>2015-01-27T22:34:21.017</td>\n",
       "      <td>Should product recommendations be on-topic?</td>\n",
       "      <td>On most SE sites, product recommendations are ...</td>\n",
       "      <td>73</td>\n",
       "      <td>0.263834</td>\n",
       "      <td>10</td>\n",
       "      <td>0.229936</td>\n",
       "      <td>15</td>\n",
       "      <td>0.203908</td>\n",
       "      <td>36</td>\n",
       "      <td>0.198739</td>\n",
       "      <td>1154</td>\n",
       "      <td>0.197365</td>\n",
       "    </tr>\n",
       "    <tr>\n",
       "      <th>...</th>\n",
       "      <td>...</td>\n",
       "      <td>...</td>\n",
       "      <td>...</td>\n",
       "      <td>...</td>\n",
       "      <td>...</td>\n",
       "      <td>...</td>\n",
       "      <td>...</td>\n",
       "      <td>...</td>\n",
       "      <td>...</td>\n",
       "      <td>...</td>\n",
       "      <td>...</td>\n",
       "      <td>...</td>\n",
       "      <td>...</td>\n",
       "      <td>...</td>\n",
       "      <td>...</td>\n",
       "      <td>...</td>\n",
       "    </tr>\n",
       "    <tr>\n",
       "      <th>225</th>\n",
       "      <td>1234</td>\n",
       "      <td>1233.0</td>\n",
       "      <td>2</td>\n",
       "      <td>2020-01-24T17:38:53.693</td>\n",
       "      <td>NaN</td>\n",
       "      <td>I see no reason why a different rule should ap...</td>\n",
       "      <td>1233</td>\n",
       "      <td>0.258547</td>\n",
       "      <td>1120</td>\n",
       "      <td>0.217809</td>\n",
       "      <td>49</td>\n",
       "      <td>0.215037</td>\n",
       "      <td>1147</td>\n",
       "      <td>0.212790</td>\n",
       "      <td>1231</td>\n",
       "      <td>0.202433</td>\n",
       "    </tr>\n",
       "    <tr>\n",
       "      <th>226</th>\n",
       "      <td>1235</td>\n",
       "      <td>NaN</td>\n",
       "      <td>5</td>\n",
       "      <td>2020-04-24T13:33:15.850</td>\n",
       "      <td>NaN</td>\n",
       "      <td>This tag is used by staff when sharing concept...</td>\n",
       "      <td>1236</td>\n",
       "      <td>0.383453</td>\n",
       "      <td>1221</td>\n",
       "      <td>0.184924</td>\n",
       "      <td>59</td>\n",
       "      <td>0.182827</td>\n",
       "      <td>1143</td>\n",
       "      <td>0.174304</td>\n",
       "      <td>1222</td>\n",
       "      <td>0.171976</td>\n",
       "    </tr>\n",
       "    <tr>\n",
       "      <th>227</th>\n",
       "      <td>1236</td>\n",
       "      <td>NaN</td>\n",
       "      <td>4</td>\n",
       "      <td>2020-04-24T13:33:15.850</td>\n",
       "      <td>product-discovery</td>\n",
       "      <td>Indicates that the post shares product or conf...</td>\n",
       "      <td>1235</td>\n",
       "      <td>0.383453</td>\n",
       "      <td>15</td>\n",
       "      <td>0.117611</td>\n",
       "      <td>23</td>\n",
       "      <td>0.117584</td>\n",
       "      <td>1132</td>\n",
       "      <td>0.106515</td>\n",
       "      <td>73</td>\n",
       "      <td>0.102506</td>\n",
       "    </tr>\n",
       "    <tr>\n",
       "      <th>228</th>\n",
       "      <td>1237</td>\n",
       "      <td>NaN</td>\n",
       "      <td>1</td>\n",
       "      <td>2020-06-03T08:54:22.113</td>\n",
       "      <td>Do we accept or close recipe requests?</td>\n",
       "      <td>Seasoned Advice has excluded recipe requests f...</td>\n",
       "      <td>1238</td>\n",
       "      <td>0.234246</td>\n",
       "      <td>1146</td>\n",
       "      <td>0.204441</td>\n",
       "      <td>1231</td>\n",
       "      <td>0.202823</td>\n",
       "      <td>1155</td>\n",
       "      <td>0.199431</td>\n",
       "      <td>88</td>\n",
       "      <td>0.196573</td>\n",
       "    </tr>\n",
       "    <tr>\n",
       "      <th>229</th>\n",
       "      <td>1238</td>\n",
       "      <td>1237.0</td>\n",
       "      <td>2</td>\n",
       "      <td>2020-06-05T04:50:17.800</td>\n",
       "      <td>NaN</td>\n",
       "      <td>I appreciate the Seasoned Advice stance and th...</td>\n",
       "      <td>1146</td>\n",
       "      <td>0.330104</td>\n",
       "      <td>1147</td>\n",
       "      <td>0.311065</td>\n",
       "      <td>1155</td>\n",
       "      <td>0.309993</td>\n",
       "      <td>1154</td>\n",
       "      <td>0.288792</td>\n",
       "      <td>1169</td>\n",
       "      <td>0.270034</td>\n",
       "    </tr>\n",
       "  </tbody>\n",
       "</table>\n",
       "<p>230 rows × 16 columns</p>\n",
       "</div>"
      ],
      "text/plain": [
       "       Id  ParentId  PostTypeId             CreationDate  \\\n",
       "0       1       NaN           1  2015-01-27T21:23:05.507   \n",
       "1       2       NaN           1  2015-01-27T21:26:10.227   \n",
       "2       3       1.0           2  2015-01-27T21:30:20.953   \n",
       "3       4       NaN           1  2015-01-27T22:31:45.837   \n",
       "4       5       NaN           1  2015-01-27T22:34:21.017   \n",
       "..    ...       ...         ...                      ...   \n",
       "225  1234    1233.0           2  2020-01-24T17:38:53.693   \n",
       "226  1235       NaN           5  2020-04-24T13:33:15.850   \n",
       "227  1236       NaN           4  2020-04-24T13:33:15.850   \n",
       "228  1237       NaN           1  2020-06-03T08:54:22.113   \n",
       "229  1238    1237.0           2  2020-06-05T04:50:17.800   \n",
       "\n",
       "                                                 Title  \\\n",
       "0    Should we describe the process of brewing a si...   \n",
       "1               What should go in our main chat feeds?   \n",
       "2                                                  NaN   \n",
       "3      Let's think of a creative name for our chatroom   \n",
       "4          Should product recommendations be on-topic?   \n",
       "..                                                 ...   \n",
       "225                                                NaN   \n",
       "226                                                NaN   \n",
       "227                                  product-discovery   \n",
       "228             Do we accept or close recipe requests?   \n",
       "229                                                NaN   \n",
       "\n",
       "                                                  Body  first_Id  first_sim  \\\n",
       "0    While answering a few of EdChum's questions I ...         6   0.374443   \n",
       "1    Being newly created we have zero feeds appeari...      1223   0.329917   \n",
       "2    It looks like filter coffee has another, diffe...        24   0.307167   \n",
       "3    The chatroom name is so bland. \"Coffee.\" Look ...        84   0.192602   \n",
       "4    On most SE sites, product recommendations are ...        73   0.263834   \n",
       "..                                                 ...       ...        ...   \n",
       "225  I see no reason why a different rule should ap...      1233   0.258547   \n",
       "226  This tag is used by staff when sharing concept...      1236   0.383453   \n",
       "227  Indicates that the post shares product or conf...      1235   0.383453   \n",
       "228  Seasoned Advice has excluded recipe requests f...      1238   0.234246   \n",
       "229  I appreciate the Seasoned Advice stance and th...      1146   0.330104   \n",
       "\n",
       "     second_Id  second_sim  third_Id  third_sim  fourth_Id  fourth_sim  \\\n",
       "0           24    0.369339        78   0.253205         77    0.246474   \n",
       "1           55    0.170900      1145   0.118607       1225    0.117643   \n",
       "2            1    0.236552        77   0.172021         83    0.160433   \n",
       "3           49    0.191323      1231   0.185581         75    0.181131   \n",
       "4           10    0.229936        15   0.203908         36    0.198739   \n",
       "..         ...         ...       ...        ...        ...         ...   \n",
       "225       1120    0.217809        49   0.215037       1147    0.212790   \n",
       "226       1221    0.184924        59   0.182827       1143    0.174304   \n",
       "227         15    0.117611        23   0.117584       1132    0.106515   \n",
       "228       1146    0.204441      1231   0.202823       1155    0.199431   \n",
       "229       1147    0.311065      1155   0.309993       1154    0.288792   \n",
       "\n",
       "     fifth_Id  fifth_sim  \n",
       "0           3   0.236552  \n",
       "1        1154   0.106255  \n",
       "2        1147   0.156460  \n",
       "3          74   0.176297  \n",
       "4        1154   0.197365  \n",
       "..        ...        ...  \n",
       "225      1231   0.202433  \n",
       "226      1222   0.171976  \n",
       "227        73   0.102506  \n",
       "228        88   0.196573  \n",
       "229      1169   0.270034  \n",
       "\n",
       "[230 rows x 16 columns]"
      ]
     },
     "execution_count": 20,
     "metadata": {},
     "output_type": "execute_result"
    }
   ],
   "source": [
    "data"
   ]
  },
  {
   "cell_type": "code",
   "execution_count": 21,
   "metadata": {},
   "outputs": [],
   "source": [
    "data.to_csv(\"./data/dataset_sklearn_sim.csv\", encoding=\"utf_8\")"
   ]
  },
  {
   "cell_type": "code",
   "execution_count": 22,
   "metadata": {},
   "outputs": [],
   "source": [
    "df = pd.read_csv(\"./data/dataset_sklearn_sim.csv\")\n",
    "df.to_excel(\"./data/dataset_sklearn_sim.xlsx\")"
   ]
  },
  {
   "cell_type": "code",
   "execution_count": null,
   "metadata": {},
   "outputs": [],
   "source": []
  }
 ],
 "metadata": {
  "kernelspec": {
   "display_name": "Python 3",
   "language": "python",
   "name": "python3"
  },
  "language_info": {
   "codemirror_mode": {
    "name": "ipython",
    "version": 3
   },
   "file_extension": ".py",
   "mimetype": "text/x-python",
   "name": "python",
   "nbconvert_exporter": "python",
   "pygments_lexer": "ipython3",
   "version": "3.7.9"
  }
 },
 "nbformat": 4,
 "nbformat_minor": 4
}
