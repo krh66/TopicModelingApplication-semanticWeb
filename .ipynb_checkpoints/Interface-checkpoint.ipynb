{
 "cells": [
  {
   "cell_type": "code",
   "execution_count": 11,
   "metadata": {},
   "outputs": [],
   "source": [
    "import rdflib\n",
    "import tkinter as tk\n",
    "from owlready2 import *\n",
    "def search():\n",
    "    result_label.configure(text='hello')\n",
    "\n",
    "win = tk.Tk()\n",
    "win.title('Ser531 Project')\n",
    "win.geometry('800x800')\n",
    "win.configure(background='white')\n",
    "search_panel = tk.Frame(win)\n",
    "search_panel.pack(side=tk.TOP)\n",
    "search_label = tk.Label(search_panel, text='Key/ID')\n",
    "search_label.pack(side=tk.LEFT)\n",
    "search_entry = tk.Entry(search_panel)\n",
    "search_entry.pack(side=tk.LEFT)\n",
    "search_btn = tk.Button(win, text='search', command=search)\n",
    "search_btn.pack()\n",
    "result_label = tk.Label(win)\n",
    "result_label.pack()\n",
    "win.mainloop()\n",
    "    "
   ]
  },
  {
   "cell_type": "code",
   "execution_count": 5,
   "metadata": {},
   "outputs": [],
   "source": [
    "from SPARQLWrapper import SPARQLWrapper as wrapper\n",
    "from SPARQLWrapper import JSON\n",
    "import pandas as pd"
   ]
  },
  {
   "cell_type": "code",
   "execution_count": 89,
   "metadata": {
    "scrolled": true
   },
   "outputs": [],
   "source": [
    "import rdflib\n",
    "g = rdflib.Graph()\n",
    "g.parse(\"test1.owl\")\n",
    "qres = g.query(\n",
    "    \"\"\"PREFIX pro:<http://www.semanticweb.org/marcushsu/ontologies/2020/10/ser531#>\n",
    "        PREFIX xsd:<http://www.w3.org/2001/XMLSchema#>\n",
    "        PREFIX oto:<http://www.semanticweb.org/marcushsu/ontologies/2020/10/untitled-ontology-45#>\n",
    "       SELECT ?a ?id\n",
    "       WHERE {\n",
    "          ?a oto:OWLDataProperty_20656bf1_f57b_40a7_ad5d_7d540bffd59e ?id.\n",
    "       }\n",
    "       LIMIT 10\n",
    "       \"\"\")\n",
    "for row in qres:\n",
    "    print(\"%s\" % row)"
   ]
  },
  {
   "cell_type": "code",
   "execution_count": null,
   "metadata": {},
   "outputs": [],
   "source": []
  },
  {
   "cell_type": "code",
   "execution_count": null,
   "metadata": {},
   "outputs": [],
   "source": []
  }
 ],
 "metadata": {
  "kernelspec": {
   "display_name": "Python 3",
   "language": "python",
   "name": "python3"
  },
  "language_info": {
   "codemirror_mode": {
    "name": "ipython",
    "version": 3
   },
   "file_extension": ".py",
   "mimetype": "text/x-python",
   "name": "python",
   "nbconvert_exporter": "python",
   "pygments_lexer": "ipython3",
   "version": "3.7.9"
  }
 },
 "nbformat": 4,
 "nbformat_minor": 4
}
