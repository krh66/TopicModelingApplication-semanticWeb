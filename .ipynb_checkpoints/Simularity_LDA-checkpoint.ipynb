{
 "cells": [
  {
   "cell_type": "code",
   "execution_count": 46,
   "metadata": {},
   "outputs": [],
   "source": [
    "from sklearn.feature_extraction.text import TfidfVectorizer, CountVectorizer\n",
    "from sklearn.decomposition import NMF, LatentDirichletAllocation\n",
    "import pandas as pd\n",
    "import numpy as np"
   ]
  },
  {
   "cell_type": "code",
   "execution_count": 47,
   "metadata": {},
   "outputs": [],
   "source": [
    "n_samples = 2000\n",
    "n_features = 1000\n",
    "n_components = 100\n",
    "n_top_words = 20"
   ]
  },
  {
   "cell_type": "code",
   "execution_count": 48,
   "metadata": {},
   "outputs": [],
   "source": [
    "def print_top_words(model, feature_names, n_top_words):\n",
    "    for topic_idx, topic in enumerate(model.components_):\n",
    "        message = \"Topic #%d: \" % topic_idx\n",
    "        message += \" \".join([feature_names[i]\n",
    "                             for i in topic.argsort()[:-n_top_words - 1:-1]])\n",
    "        print(message)\n",
    "    print()"
   ]
  },
  {
   "cell_type": "code",
   "execution_count": 49,
   "metadata": {},
   "outputs": [],
   "source": [
    "data = list(pd.read_csv(\"./data/dataset.csv\", encoding=\"utf_8\")[\"Body\"])"
   ]
  },
  {
   "cell_type": "code",
   "execution_count": 50,
   "metadata": {},
   "outputs": [],
   "source": [
    "tfidf_vectorizer = TfidfVectorizer(max_df=0.95, min_df=2,\n",
    "                                   max_features=n_features,\n",
    "                                   stop_words='english')\n",
    "tfidf = tfidf_vectorizer.fit_transform(data)"
   ]
  },
  {
   "cell_type": "code",
   "execution_count": 51,
   "metadata": {},
   "outputs": [],
   "source": [
    "tf_vectorizer = CountVectorizer(max_df=0.95, min_df=2,\n",
    "                                max_features=n_features,\n",
    "                                stop_words='english')\n",
    "tf = tf_vectorizer.fit_transform(data)"
   ]
  },
  {
   "cell_type": "code",
   "execution_count": 52,
   "metadata": {},
   "outputs": [],
   "source": [
    "nmf = NMF(n_components=n_components, random_state=1,\n",
    "          alpha=.1, l1_ratio=.5).fit(tfidf)"
   ]
  },
  {
   "cell_type": "code",
   "execution_count": 53,
   "metadata": {},
   "outputs": [
    {
     "name": "stdout",
     "output_type": "stream",
     "text": [
      "Topic #0: zero fact feedback feed features feature favorite favor far famous fairly fair failure facts factors extent example explanations experts expertise\n",
      "Topic #1: coffee knowledge se grinding beans like variation idea brewing love 2015 real glass talking day bean type suggestions great iced\n",
      "Topic #2: tag tags posts use word related having need wiki suggests exists discourage synonym today recommendation weird specific include ground flavored\n",
      "Topic #3: zero fact feedback feed features feature favorite favor far famous fairly fair failure facts factors extent example explanations experts expertise\n",
      "Topic #4: zero fact feedback feed features feature favorite favor far famous fairly fair failure facts factors extent example explanations experts expertise\n",
      "Topic #5: zero fact feedback feed features feature favorite favor far famous fairly fair failure facts factors extent example explanations experts expertise\n",
      "Topic #6: hats winter bash earn public viewed click soon link year forward opt user network improve available virtual secret certain exchange\n",
      "Topic #7: zero fact feedback feed features feature favorite favor far famous fairly fair failure facts factors extent example explanations experts expertise\n",
      "Topic #8: zero fact feedback feed features feature favorite favor far famous fairly fair failure facts factors extent example explanations experts expertise\n",
      "Topic #9: zero fact feedback feed features feature favorite favor far famous fairly fair failure facts factors extent example explanations experts expertise\n",
      "Topic #10: zero fact feedback feed features feature favorite favor far famous fairly fair failure facts factors extent example explanations experts expertise\n",
      "Topic #11: zero fact feedback feed features feature favorite favor far famous fairly fair failure facts factors extent example explanations experts expertise\n",
      "Topic #12: zero fact feedback feed features feature favorite favor far famous fairly fair failure facts factors extent example explanations experts expertise\n",
      "Topic #13: zero fact feedback feed features feature favorite favor far famous fairly fair failure facts factors extent example explanations experts expertise\n",
      "Topic #14: flags moderation tasks queue posts year users handled comments user close recreated destroyed action flagged includes account new network spam\n",
      "Topic #15: zero fact feedback feed features feature favorite favor far famous fairly fair failure facts factors extent example explanations experts expertise\n",
      "Topic #16: zero fact feedback feed features feature favorite favor far famous fairly fair failure facts factors extent example explanations experts expertise\n",
      "Topic #17: zero fact feedback feed features feature favorite favor far famous fairly fair failure facts factors extent example explanations experts expertise\n",
      "Topic #18: zero fact feedback feed features feature favorite favor far famous fairly fair failure facts factors extent example explanations experts expertise\n",
      "Topic #19: zero fact feedback feed features feature favorite favor far famous fairly fair failure facts factors extent example explanations experts expertise\n",
      "Topic #20: zero fact feedback feed features feature favorite favor far famous fairly fair failure facts factors extent example explanations experts expertise\n",
      "Topic #21: zero fact feedback feed features feature favorite favor far famous fairly fair failure facts factors extent example explanations experts expertise\n",
      "Topic #22: zero fact feedback feed features feature favorite favor far famous fairly fair failure facts factors extent example explanations experts expertise\n",
      "Topic #23: zero fact feedback feed features feature favorite favor far famous fairly fair failure facts factors extent example explanations experts expertise\n",
      "Topic #24: zero fact feedback feed features feature favorite favor far famous fairly fair failure facts factors extent example explanations experts expertise\n",
      "Topic #25: zero fact feedback feed features feature favorite favor far famous fairly fair failure facts factors extent example explanations experts expertise\n",
      "Topic #26: zero fact feedback feed features feature favorite favor far famous fairly fair failure facts factors extent example explanations experts expertise\n",
      "Topic #27: zero fact feedback feed features feature favorite favor far famous fairly fair failure facts factors extent example explanations experts expertise\n",
      "Topic #28: zero fact feedback feed features feature favorite favor far famous fairly fair failure facts factors extent example explanations experts expertise\n",
      "Topic #29: zero fact feedback feed features feature favorite favor far famous fairly fair failure facts factors extent example explanations experts expertise\n",
      "Topic #30: zero fact feedback feed features feature favorite favor far famous fairly fair failure facts factors extent example explanations experts expertise\n",
      "Topic #31: zero fact feedback feed features feature favorite favor far famous fairly fair failure facts factors extent example explanations experts expertise\n",
      "Topic #32: zero fact feedback feed features feature favorite favor far famous fairly fair failure facts factors extent example explanations experts expertise\n",
      "Topic #33: zero fact feedback feed features feature favorite favor far famous fairly fair failure facts factors extent example explanations experts expertise\n",
      "Topic #34: zero fact feedback feed features feature favorite favor far famous fairly fair failure facts factors extent example explanations experts expertise\n",
      "Topic #35: zero fact feedback feed features feature favorite favor far famous fairly fair failure facts factors extent example explanations experts expertise\n",
      "Topic #36: zero fact feedback feed features feature favorite favor far famous fairly fair failure facts factors extent example explanations experts expertise\n",
      "Topic #37: zero fact feedback feed features feature favorite favor far famous fairly fair failure facts factors extent example explanations experts expertise\n",
      "Topic #38: zero fact feedback feed features feature favorite favor far famous fairly fair failure facts factors extent example explanations experts expertise\n",
      "Topic #39: bounty award added answered period answer user follows did came half goes voted created existing thought rep believe process best\n",
      "Topic #40: zero fact feedback feed features feature favorite favor far famous fairly fair failure facts factors extent example explanations experts expertise\n",
      "Topic #41: zero fact feedback feed features feature favorite favor far famous fairly fair failure facts factors extent example explanations experts expertise\n",
      "Topic #42: zero fact feedback feed features feature favorite favor far famous fairly fair failure facts factors extent example explanations experts expertise\n",
      "Topic #43: zero fact feedback feed features feature favorite favor far famous fairly fair failure facts factors extent example explanations experts expertise\n",
      "Topic #44: zero fact feedback feed features feature favorite favor far famous fairly fair failure facts factors extent example explanations experts expertise\n",
      "Topic #45: zero fact feedback feed features feature favorite favor far famous fairly fair failure facts factors extent example explanations experts expertise\n",
      "Topic #46: zero fact feedback feed features feature favorite favor far famous fairly fair failure facts factors extent example explanations experts expertise\n",
      "Topic #47: zero fact feedback feed features feature favorite favor far famous fairly fair failure facts factors extent example explanations experts expertise\n",
      "Topic #48: zero fact feedback feed features feature favorite favor far famous fairly fair failure facts factors extent example explanations experts expertise\n",
      "Topic #49: zero fact feedback feed features feature favorite favor far famous fairly fair failure facts factors extent example explanations experts expertise\n",
      "Topic #50: cooking migrated recipe question migration seasoned topic asking fits experts components technique advice use ingredient mods better expertise think site\n",
      "Topic #51: zero fact feedback feed features feature favorite favor far famous fairly fair failure facts factors extent example explanations experts expertise\n",
      "Topic #52: thing expand worth break questions exactly time coffee different type given fair fairly famous zero far favor facts favorite feature\n",
      "Topic #53: zero fact feedback feed features feature favorite favor far famous fairly fair failure facts factors extent example explanations experts expertise\n",
      "Topic #54: zero fact feedback feed features feature favorite favor far famous fairly fair failure facts factors extent example explanations experts expertise\n",
      "Topic #55: zero fact feedback feed features feature favorite favor far famous fairly fair failure facts factors extent example explanations experts expertise\n",
      "Topic #56: zero fact feedback feed features feature favorite favor far famous fairly fair failure facts factors extent example explanations experts expertise\n",
      "Topic #57: zero fact feedback feed features feature favorite favor far famous fairly fair failure facts factors extent example explanations experts expertise\n",
      "Topic #58: zero fact feedback feed features feature favorite favor far famous fairly fair failure facts factors extent example explanations experts expertise\n",
      "Topic #59: zero fact feedback feed features feature favorite favor far famous fairly fair failure facts factors extent example explanations experts expertise\n",
      "Topic #60: zero fact feedback feed features feature favorite favor far famous fairly fair failure facts factors extent example explanations experts expertise\n",
      "Topic #61: zero fact feedback feed features feature favorite favor far famous fairly fair failure facts factors extent example explanations experts expertise\n",
      "Topic #62: caffeine sources topic tea questions kind contains different apparently mean ask example does health discuss like drug doubt references drinking\n",
      "Topic #63: zero fact feedback feed features feature favorite favor far famous fairly fair failure facts factors extent example explanations experts expertise\n",
      "Topic #64: zero fact feedback feed features feature favorite favor far famous fairly fair failure facts factors extent example explanations experts expertise\n",
      "Topic #65: zero fact feedback feed features feature favorite favor far famous fairly fair failure facts factors extent example explanations experts expertise\n",
      "Topic #66: zero fact feedback feed features feature favorite favor far famous fairly fair failure facts factors extent example explanations experts expertise\n",
      "Topic #67: grounds spent terminology grinds correct refer left thinking brewing talk process think grind cases grinder use person comes sure seen\n",
      "Topic #68: zero fact feedback feed features feature favorite favor far famous fairly fair failure facts factors extent example explanations experts expertise\n",
      "Topic #69: zero fact feedback feed features feature favorite favor far famous fairly fair failure facts factors extent example explanations experts expertise\n",
      "Topic #70: wiki books tag broad strikes history feeling highly putting approach reasonable come canonical change brewing specific topics community quite did\n",
      "Topic #71: zero fact feedback feed features feature favorite favor far famous fairly fair failure facts factors extent example explanations experts expertise\n",
      "Topic #72: zero fact feedback feed features feature favorite favor far famous fairly fair failure facts factors extent example explanations experts expertise\n",
      "Topic #73: discovery feedback community post product change open direction relating includes changes cases goal research likely possible help used time specific\n",
      "Topic #74: roast text gateway brewing drink just application despite level spirit famous far fact fairly favor fair favorite feature failure facts\n",
      "Topic #75: room chat barista created community main feeds feed appear zero important suggestions don things right related variation designed icons standard\n",
      "Topic #76: synonyms think question words stovetop decided merged created current moka ve extent fact facts factors experts failure fair fairly famous\n",
      "Topic #77: term moka trends according google popular suggest people use tag sounds zero failure fair factors fairly famous far favor favorite\n",
      "Topic #78: awesome shop london background sounds bean issues existing moka know interesting coffee expert expect feed features feature favorite favor far\n",
      "Topic #79: effort require accept solve level demonstrates prior asker sort exchange problem stack lot asking sites site far famous fairly examples\n",
      "Topic #80: meta edit edits sites main lot queue rep want suggested proposed point accepted participation suggest post feature directly se high\n",
      "Topic #81: days stats ago chatroom question 90 views weeks daily week pop months reputation following 51 ads area aren rep reviews\n",
      "Topic #82: based opinion types considered questions question bitter beverages primarily stuff huge think says possible broad store examples hot warm confused\n",
      "Topic #83: research high original quality verifiable answering backed facts doesn think bit answers don misleading legitimate opinion know way experience fact\n",
      "Topic #84: proposal 51 area beverages tea ask pages avoid essentially initial page ll bean topics list work want asking types don\n",
      "Topic #85: yes iced challenges knowledge useful say size participation related high moderator fine work look ll cw community mind help job\n",
      "Topic #86: question answer answers questions accepting like ask good better topic community don accepted list answered asked health types received think\n",
      "Topic #87: drink image original scientific fair assume vote actually coffee interface png area51 know gateway click ads ad simply stackexchange wikipedia\n",
      "Topic #88: site questions new stack users community stackexchange need good think answers exchange sites com don make read coffee people ve\n",
      "Topic #89: product recommendations recommendation topic spam specific certain bad products subjective hard just personal want problem spammers rule matter asking different\n",
      "Topic #90: cup steam coming original related answers like think questions coffee standard experience factors exchange favorite favor far famous fairly fair\n",
      "Topic #91: consuming producing oil coffee aspects people interested pure question acceptable guidelines topics topic site ask follows defined exchange machine true\n",
      "Topic #92: advice seasoned people putting coffee good need se questions requests recipe policy sa encourage getting fundamentally migrate various reasons recipes\n",
      "Topic #93: ideas interesting think logo lot okay like funny special usually start sites awesome chatroom meaningful imo fun unique brew contribute\n",
      "Topic #94: luwak kopi tags taste grown thoughts make simple little thinking famous question just rest asked known convention does user sure\n",
      "Topic #95: flavor affect subjective just flavored change taste synonym flavoring merged asking tags coffee including dedicated think field example understanding game\n",
      "Topic #96: percolator https rooms com stackexchange chat moka water stovetop words brewed separate decided different current grounds created storage beginning fairly\n",
      "Topic #97: beta private public 2015 just curious badge wonder thinking kind leave like period 27 weeks open need usually way currently\n",
      "Topic #98: drip pour filter uk coffee use method tag think different coffeemaker traditional brewing looks process half kind term read meta\n",
      "Topic #99: equipment machine machines descaler manual sounds gaggia consider brew specific espresso coffee like separate descaling sage different grinder certainly missing\n",
      "\n"
     ]
    }
   ],
   "source": [
    "tfidf_feature_names = tfidf_vectorizer.get_feature_names()\n",
    "print_top_words(nmf, tfidf_feature_names, n_top_words)"
   ]
  },
  {
   "cell_type": "code",
   "execution_count": 54,
   "metadata": {},
   "outputs": [],
   "source": [
    "nmf = NMF(n_components=n_components, random_state=1,\n",
    "          beta_loss='kullback-leibler', solver='mu', max_iter=1000, alpha=.1,\n",
    "          l1_ratio=.5).fit(tfidf)"
   ]
  },
  {
   "cell_type": "code",
   "execution_count": 55,
   "metadata": {},
   "outputs": [
    {
     "name": "stdout",
     "output_type": "stream",
     "text": [
      "Topic #0: question questions coffee answer answers topic think like site se just does meta related ve really context know example sites\n",
      "Topic #1: coffee se knowledge suggestions serving 2015 official need features feature favorite fact far famous fairly fair failure facts factors favor\n",
      "Topic #2: tag tags flavor wiki word posts edit brewing process use related summary manual brew rep having include approved flavored edited\n",
      "Topic #3: site exchange stack project api sites just write need 10 posts mark particular direct time available read really work use\n",
      "Topic #4: recommendations product recommendation topic specific bad certain spam matter problem products rule want hard different just spammers tend completely quickly\n",
      "Topic #5: product posts spam recommendations asker answer post flagged include links website line link features buy aware provided specific gave espresso\n",
      "Topic #6: hats bash winter earn click public soon viewed forward link year available opt user network improve look virtual secret certain\n",
      "Topic #7: beta like icons ideas just thinking badge public wonder curious themes simple private seen chat designed standard stuff graduated note\n",
      "Topic #8: flavor think bitter seasoned advice change ingredients comment flavoring affect asking policy including taste encourage just subjective dedicated fact recipe\n",
      "Topic #9: room chat percolator stackexchange barista https com main rooms created appear community feeds feed right zero important things suggestions new\n",
      "Topic #10: use tag discourage suggests exists pour method today half recommendation filter drip think question tagging difficult dr tl confused apply\n",
      "Topic #11: based opinion types primarily considered community don possible good says define scientific hot store warm broad confused quite new strikes\n",
      "Topic #12: tea 51 area proposal luwak want apparently famous just contains rest known sure doing fine does tag make se fundamentally\n",
      "Topic #13: meta edit edits sites queue link click main rep lot suggested interface want wikipedia point proposed accepted add stack participation\n",
      "Topic #14: flags moderation tasks queue year users handled posts comments close user destroyed recreated action includes account network new effort votes\n",
      "Topic #15: correct grounds grinds refer left spent wikipedia brewing research use talk person terminology process people verification en just source health\n",
      "Topic #16: community caffeine mean kind discuss way sources good doesn start like different topic early contains got health terms drug tea\n",
      "Topic #17: grounds terminology spent water thinking percolator think moka separate brewed beginning stovetop storage espresso ground brew grind different ambiguous drop\n",
      "Topic #18: accepting ve answer current people accept answers words stovetop accepted decided synonyms percolator meta don moka created thing response different\n",
      "Topic #19: equipment machine machines specific descaler different espresso set gaggia grinder brand certainly like just questions ask example methods want hope\n",
      "Topic #20: idea ask work brewing variation don page avoid ll topics pages essentially initial asking list types questions problem simple flag\n",
      "Topic #21: people drink image original questions hard make describing type place verifiable possibly probably potentially actual excellent clear health scientific sort\n",
      "Topic #22: tags think kopi luwak recommendation open situation maybe thought tag duplicate previously leave better actually need skip don thanks moderator\n",
      "Topic #23: image png area51 ads ad proposal http text stackexchange example com 150 community good fully requirements space proposals standard advertising\n",
      "Topic #24: yes knowledge useful say steam related research question ask possible size breville duplicates thread standard deal variations linked recently essentially\n",
      "Topic #25: roast brewing text drink gateway fun broad think discussion fair feeling feel feeds feedback feed features feature favorite favor far\n",
      "Topic #26: existing issues site know awesome background shop bean stack exact data curious searching contains google allow does related goes come\n",
      "Topic #27: drip uk pour filter use com meta added discovered aside contain decide clarification removed answering properly considered method apparently shown\n",
      "Topic #28: iced beta open leave questions need beverage appropriate differences covered bean preparation specifically broad types coffee factors favorite favor far\n",
      "Topic #29: sounds synonym moka merged awesome taste variations flavour create text used doubt tagged spelling regional potentially currently correct comes created\n",
      "Topic #30: broad beans flavour differences brewed split bean species sub affect factors contribute following question closed storage minimum count large arabica\n",
      "Topic #31: question books community solved rules potentially bit page research author fit end decide imo defined basis share text search obvious\n",
      "Topic #32: expand thing given people got questions site especially moment stuff topics asked encourage new exchange getting stack se posts year\n",
      "Topic #33: beans oil grinder pure beta processed brown dark cold process people uses follows defined using true question structured consuming producing\n",
      "Topic #34: bounty award added answer answered period user follows did half came voted rep created process hours 24 ending believe best\n",
      "Topic #35: luwak kopi press taste french make try looking espresso black prefer does favorite roasts forward diamond worked store tastes dark\n",
      "Topic #36: ll word work polls discussion look high size ones fine exchange isn obvious quickly ads sort pretty make problem attract\n",
      "Topic #37: think interesting ask likely usually topic got love soon consuming ve funny awesome stuff special use yes opinions ideas according\n",
      "Topic #38: beta stackexchange drinking used private public 2015 27 posted barista experiences special exactly weeks period interesting regular wrong various using\n",
      "Topic #39: post discovery feedback change product open changes specific includes direction relating cases goal research possible used help work tag time\n",
      "Topic #40: thing time need exactly worth break coffee rule different hard places clarification refers flavoring leave obvious context general means stackexchange\n",
      "Topic #41: great day love happy post size share previous appropriate good coffee ads exchange stack ve terms think nice hours fredley\n",
      "Topic #42: vote good discussing break london café goes chat vigilant regarding duplicate allow user considered interested able sources point link solutions\n",
      "Topic #43: cooking fits topic recipe components technique popular deserts gist brewing long ingredient common order knowledge wouldn site solid identify stay\n",
      "Topic #44: ideas advice seasoned good putting sources need people voting example doubt references yesterday requests questions far drinking kopi personal response\n",
      "Topic #45: sorry bit misleading quality like high research don text read want funny opinions opinion suggestions points doesn answering away original\n",
      "Topic #46: better general answer unaccepted consider personal accepted machines fairly checked trying asked learned helpful voted posts share french wouldn learn\n",
      "Topic #47: type right product reviews sure asking dozens handle look posted doesn link based alternative suggests sound polls lists fewer brands\n",
      "Topic #48: producing consuming interested aspects happen acceptable new generally discussions reviewing guidelines feeds feed http place brand tea sure machine discuss\n",
      "Topic #49: know similar okay pretty fair broad assume vote drink scientific healthy daily basis actually question coffee ask format result poor\n",
      "Topic #50: migrated cooking migration experts mods better migrate expertise sa asking asked sites point general discussion flag sure push possible mean\n",
      "Topic #51: fun london shop unless especially membership identify count cold sufficient hot various according participation year simply order received self yes\n",
      "Topic #52: particular type drip products somewhat goes proper called fundamental expand like enjoy brew actually meta good help wrote didn process\n",
      "Topic #53: guys did www example previous looks http proposal seen didn similar look users menu dropdown discovered proposals discussions contributed area51\n",
      "Topic #54: health said related okay sorry interface working guidance appreciated tried image says click expertise true drinking shown lot considered likely\n",
      "Topic #55: traffic members sites getting accepted help experience advertising ways ads tried improve looking making seasoned roasting particular advice tastes viewpoints\n",
      "Topic #56: brown new cups background badge 10 got light downvote button upvote hope especially asking black variety steam multiple icons easier\n",
      "Topic #57: grinding grind different tags preparation try learning possible say quality beans approach position won discussing disclaimer science needs hold ones\n",
      "Topic #58: bean descaler basically talk reviewing proposal mind idea called throw sage descaling determine circumstances skip maintain post gaggia having doing\n",
      "Topic #59: famous café late wikipedia place quite instead worded individual disagree properly sorts names answers certainly wiki having way need different\n",
      "Topic #60: app getting read stackexchange allow clear ask application com feed creating feature able course like make answer number possible related\n",
      "Topic #61: coffees haven recipes flavour talking lot drinks look duplicates just overall canonical extent primary thing add people considered likely stuff\n",
      "Topic #62: convention logo lot signatures meaningful imo unique easier brew think contribute simple ideas fun start reason edit does make relevant\n",
      "Topic #63: roasts recommendations useful know don solve subjective problems problem potential actual stack think topic work wiki likely particular forth rooms\n",
      "Topic #64: asking questions set close bitter best food sweet post private seen end subjective certainly know type flavor beta criteria critical\n",
      "Topic #65: used professionals main japan term products use answers follow little resource came participating update overflow account discuss beta espresso turn\n",
      "Topic #66: real science seriously basically flag learn thoughts survive downvote 2015 deleted google fun wikipedia want look try need type types\n",
      "Topic #67: summary discussion early easy need duplicate post primary questions nearly want canonical list lot able ground little based duplicates time\n",
      "Topic #68: difficult format experiences define opinion opt correct fundamentally recipes requests subjective recipe reasons important se site quite rule various fit\n",
      "Topic #69: example talking flag glass generally beans moderator self going promotion guidelines content feel acceptable certain long don post come point\n",
      "Topic #70: specific topic wiki books draw concept length canonical short strikes highly reasonable approach putting come change used food topics point\n",
      "Topic #71: funny votes received drug facts sweet world pure ways internet brand close maybe limit writing available closed open number quite\n",
      "Topic #72: case gave things instead specifically just close unique said company question answerable accomplished survive wanting belong votes brands discussions problems\n",
      "Topic #73: stuff share fact make legitimate wait experiences blog available especially sites reference serving references backed technique facts verifiable beta start\n",
      "Topic #74: meta coffee seasoned specifically users advice red fully issue color close unless text tags questions migrate got days sa new\n",
      "Topic #75: hand field advice subject second tell left health new line person answered scope right looking time know try wrong cooking\n",
      "Topic #76: synonyms think fact short question superfluous signatures takes convention chance member apply linked edited sense appreciate common hand effort simply\n",
      "Topic #77: just minimum broken rest machine term length café trends popular google according line moka suggest scope end old high use\n",
      "Topic #78: home basic comes legitimate regarding know today let completely stackoverflow drinker sort roasting currently proposals prefer expect coming answering game\n",
      "Topic #79: effort require themes week suggestions solve topics level accept demonstrates experts prior asker sites asking sort problem exchange lot stack\n",
      "Topic #80: sources mix speculation providing promotion primary coming possible somewhat approach voting wikipedia value policy self case generally use don ve\n",
      "Topic #81: days stats ago question 90 chatroom weeks views week daily pop reputation months ads 51 following area rep aren reviews\n",
      "Topic #82: challenges does make job suggest don method things types ask sense known preparation reason sites wiki happy list specific different\n",
      "Topic #83: line affect person flavors growing taste differences suggested shouldn include promotion company better data draw information did biology temperature believe\n",
      "Topic #84: beverages attempt situation huge just custom activity mod deal issue necessary thread numbers flag putting thanks regular assume rep sort\n",
      "Topic #85: se cw sites write canonical started failure points used learned proper lead challenges hard code details enjoy changed away short\n",
      "Topic #86: level answer application despite unless spirit skip future question examples opinion content having believe certain accepting broad hope problem viewpoints\n",
      "Topic #87: people way beverage effects food works drink simply main quite reason opinion instead sorts good word fair facts failure does\n",
      "Topic #88: users new help mods message introduce warm welcome old visit similar searching user meaningful tour exact assume looks know don\n",
      "Topic #89: variety welcome mind moderators wrong welcoming folks job really feel bit fewer answers important rules make product things reasons look\n",
      "Topic #90: original cup explanations questions steam coming https stack com stackexchange answers related like year think quality number let solutions electricity\n",
      "Topic #91: migrate posting guidelines doesn going user recent types great drinker years isn cups glass company expertise taking world don shop\n",
      "Topic #92: select menu information long sufficient section welcome clear able research list edit unless answer view button search valid communities blog\n",
      "Topic #93: list lists big stackexchange sites early communities want check close voice lots dropdown shouldn handle comments math cw opinions draw\n",
      "Topic #94: answered site questions user little thinking asked grown thoughts simple kopi ve click don decided reason bit expert expertise favor\n",
      "Topic #95: probably expert chatroom having better perfectly coffee meta belong biology wrote turn code weird mods acceptable names vote water okay\n",
      "Topic #96: bit context lead resource position major makes quickly author hope efforts answerable tend subject guidance easily clarification new background event\n",
      "Topic #97: members day beta moderators healthy area51 zero op comments participation stats site excellent learning good issues read coffeemaker mod multiple\n",
      "Topic #98: kind history read looks like traditional coffeemaker filter wiki did pour generic feeling books asks different obviously gives potential roasting\n",
      "Topic #99: coffee word feel ground removed flavored redundant does relevant ones created links easily couple contain recent second names currently existing\n",
      "\n"
     ]
    }
   ],
   "source": [
    "tfidf_feature_names = tfidf_vectorizer.get_feature_names()\n",
    "print_top_words(nmf, tfidf_feature_names, n_top_words)"
   ]
  },
  {
   "cell_type": "code",
   "execution_count": 56,
   "metadata": {},
   "outputs": [],
   "source": [
    "lda = LatentDirichletAllocation(n_components=n_components, max_iter=5,\n",
    "                                learning_method='online',\n",
    "                                learning_offset=50.,\n",
    "                                random_state=0)"
   ]
  },
  {
   "cell_type": "code",
   "execution_count": 57,
   "metadata": {},
   "outputs": [
    {
     "data": {
      "text/plain": [
       "LatentDirichletAllocation(learning_method='online', learning_offset=50.0,\n",
       "                          max_iter=5, n_components=100, random_state=0)"
      ]
     },
     "execution_count": 57,
     "metadata": {},
     "output_type": "execute_result"
    }
   ],
   "source": [
    "lda.fit(tf)"
   ]
  },
  {
   "cell_type": "code",
   "execution_count": 58,
   "metadata": {},
   "outputs": [
    {
     "name": "stdout",
     "output_type": "stream",
     "text": [
      "Topic #0: coffee don flavor think tags questions topic want sites meta flavored hold little duplicate suggestions good needs just answers different\n",
      "Topic #1: run reputation coffeemaker species site sa variation decide recommendations size proposals award improve removed beverage users including project excellent hoc_age\n",
      "Topic #2: questions question site explanations ingredients stackexchange key possibly did matter merged happen app drug soon situation yes unless existing thinking\n",
      "Topic #3: products uk just term japan drip spurred case future color main light communities edited refers kinds amortize coffee use links\n",
      "Topic #4: topic question product apply bean expect opinion long answers recommendations answer specific bad se interface recommendation disclaimer storage flagged wait\n",
      "Topic #5: differences growing zero line question coffee written worded does related criteria closed drug didn extent maintain suggested wikis list subject\n",
      "Topic #6: site work given welcome time just rest search ve likely answer really grown sorts days regional warm bit mods 24\n",
      "Topic #7: drip coffee consuming unaccepted summary old sweet worth edits tag earning original talking feature brewing website bounty initial traditional moment\n",
      "Topic #8: image area51 ads proposal png ad stackexchange generic 150 simple create space good size standard proposals pretty requirements sites fully\n",
      "Topic #9: confused like result migrate synonyms sweet started flavor favor certain moving unaccepted filter line discussions short dropdown interesting dr 13\n",
      "Topic #10: rep queue user edit users situation posts necessary meta sites custom thing general flags tasks activity year threshold moderation regular\n",
      "Topic #11: question bit context author likely rest guidance answered decide fundamentally leave posting aside sorry methods suspended² considered big deal end\n",
      "Topic #12: acceptable coffee tired event feel generally guidelines self promotion http going like don yes mod glass large long learning answers\n",
      "Topic #13: badge professionals hits ambiguous en canonical gave draw say proposed possible yes aspects policy left blog guidance try earning products\n",
      "Topic #14: question com mod different case standard searched yesterday starting descaler asked prior focus product generic december features pour despite explanations\n",
      "Topic #15: members community moderators learning challenges issues time job moderator site building exactly select welcoming 2015 wish failure excellent yes help\n",
      "Topic #16: voting searched original totally 90 process sorts future easier types png tired minimum interface terms closed serving disagree speculation rule\n",
      "Topic #17: ground created assume goes direct putting describing places automatically software differ sage 150 completely discussion avatar best couple ambiguous possibly\n",
      "Topic #18: product provide page asker sense se disclaimer line policy recommendations beans valid link 13 handled months warrant kopi didn self\n",
      "Topic #19: roast flavor wishing understanding opinions drop fewer field tend wasn don whited thinking daily tour caffeine hope game fun bitter\n",
      "Topic #20: coffeemaker adding way broad includes said ad possible fundamental free effort project area people changed menu works actually suggestion discovery\n",
      "Topic #21: questions close sorry private belong quickly bounty did guys let wish means rest site nearly edit regarding value internet ve\n",
      "Topic #22: bounty answer period award half voted rep ending hours value 24 didn provided 75 start reputation automatically posted question did\n",
      "Topic #23: tag wiki flavor edit content brewing process suggested like history suggest summary wikis edited temperature approved did looks bean taste\n",
      "Topic #24: water percolator grounds moka brewed separate coffee beginning stovetop storage espresso brew terminology goes think ambiguous remain different grind drop\n",
      "Topic #25: logo cup seasoned disagree correct discovery policy value quickly circumstances written award course known worked reason members space spent problematic\n",
      "Topic #26: moderator particular summary filter wishing free sweet putting examples ingredient posted answerable draw cup handle mod overflow suspended² post plain\n",
      "Topic #27: community questions user method process short thought time types meta question length suppose world great value future doesn regarding topics\n",
      "Topic #28: questions summary meta seasoned deserves research kind list asking duplicate blog week drinker learning easy directly refer search based interested\n",
      "Topic #29: coffee stack project exchange topic site text answer tea question disagree allow mark need walled questions sites tell good recreated\n",
      "Topic #30: break goes discussing london chat vote café refers appear seen voted special comments weird products big resource summary highest concept\n",
      "Topic #31: question questions works sounds coffee key answer hope types reviewing descaler feeds systems writing short type interested received stackexchange soon\n",
      "Topic #32: cups appreciate allow indicate clarification did aside thoughts apparently finding blog solid minimum gear major proposals sure break different fits\n",
      "Topic #33: day site good spend like pour misleading beta area51 wonder year means think features migration terminology questions need money spent\n",
      "Topic #34: need downvoted completely canonical wide reputation used experts views 12 edited automated remain belong grind drug unique takes dropdown adding\n",
      "Topic #35: numerous fortunately public quickly misleading look clarification flag cups yesterday intended water far appropriate related frame café gaggia button potential\n",
      "Topic #36: quite posts view mention accomplish sure reasons wanted synonym information famous maintain diamond feedback make critical flavoring turn london 2015\n",
      "Topic #37: grind grinding beans ground disclaimer grounds process grinds certain say past espresso method product result refer appropriate coffee london situation\n",
      "Topic #38: press caffeine data store stuff consider came zero questions moment self moderators immediately thought drinkers thinking wishing fewer 75 covered\n",
      "Topic #39: know does clarification wishing message recipes fundamental en opinions obvious tastes learned issues beta advice make spammers hats mention away\n",
      "Topic #40: spam posts question answer coffee include flagged line specific website product considered hopefully comments solutions company user issue post support\n",
      "Topic #41: questions background author considered issue topic bitter based edit true recommended didn voting feed primarily migrated ones arabica follow goal\n",
      "Topic #42: cooking coffee questions site answer answers make question flag migrated like just asking advice product experts think possible seasoned expertise\n",
      "Topic #43: taste en engine need form descaling best variations looks deleted subjective describing little moving possible drinking flavour suggest walled tags\n",
      "Topic #44: room changing sorry game producing hand affect bit custom question barista bad math appear requests allow makes coffee subjective maybe\n",
      "Topic #45: grounds spent grinds left cases refer grinder seen make correct person comes roasting suggestion brewing enjoy look sure spirit people\n",
      "Topic #46: flavor brewing process tag summary gateway ad drink approved member coffees beverages limit hot special polls ll haven covered famous\n",
      "Topic #47: survive shop december easy old food context obviously flavoring forth primary moderator allow bounty place forever highly distinguishing job common\n",
      "Topic #48: com follows dozens true https virtue user dropdown chat major wrong health needs recently obvious clear asker drink traffic hope\n",
      "Topic #49: filter skip strikes systems background possibly 12 point uk duplicates maintain misleading initial need press points awesome user primary types\n",
      "Topic #50: effort require lot asker google glad dr asking experiences written sources solve exchange means wiki far prior convention extent stop\n",
      "Topic #51: questions coffee author users success position application building sites quickly using major prior short site does zero attract finally posts\n",
      "Topic #52: coffee tea oil beta does steam space roast stovetop circumstances takes true terms exact sure 12 obvious professionals beverages refers\n",
      "Topic #53: tags kopi product skip feedback asking allow did ingredients personal se fits health view topic post coffee called checked virtue\n",
      "Topic #54: gets searching think synonyms chatroom logo merged threshold meaningful lead fun hope favor confused potentially answer expand gateway caffeine unique\n",
      "Topic #55: caffeine place se sure questions way question coffee right tea health better area happen png answer hats discuss logo asking\n",
      "Topic #56: favorite roasting improve describing little called original common upvote direction starting bitter chat reviews discuss home details way automated result\n",
      "Topic #57: diamond tag started feel ambiguous welcome moderator quite unique currently likely coming downvote forth couple deserts word reason considered dark\n",
      "Topic #58: tag wiki just think known merged drinker www luwak iced issues submitted problematic doing left worth does ambiguous say defined\n",
      "Topic #59: post contributions currently community product goal generic appreciated feedback applies activity ago tag fundamental includes specific work moderators questions add\n",
      "Topic #60: thing make known suggest scientific questions exact different action certain potentially verifiable weird convention spent room space future contributed value\n",
      "Topic #61: guys community custom level tried apparently somewhat general preparation avatar going mind discovery area lead member directly potentially wouldn product\n",
      "Topic #62: area 51 proposal beverages tea coffee ask said topic related ve health gets links excellent different numbers 10 taste initial\n",
      "Topic #63: research don legitimate think fact opinion answers high original coffee quality facts backed topic misleading added doesn references 75 site\n",
      "Topic #64: recreated identify processed privileges standard december answered quite tagged migrated flag potentially queue tiny comments source properly developing efforts requests\n",
      "Topic #65: coffee se knowledge don think sense topic know good sound real problem wikis types nature sources recommendations identify chat arabica\n",
      "Topic #66: recommendations needed text descaler weeks solutions forever hard internet reviews names legitimate drop area continue submit based kind previous stovetop\n",
      "Topic #67: question descaler asking answers answer flavor ask questions descaling sage like meta subjective coffee gaggia just stack having searched people\n",
      "Topic #68: coffee tag tags weird based moderator reason perfectly basic meta drinking accomplished provide mods field neatly turn verification providing comments\n",
      "Topic #69: wait issue flags using network identify affect kind upvote 13 interested ones reviewing iced goal similar 2015 understanding 12 case\n",
      "Topic #70: coffee topic question questions opinion based broad site advice seasoned know beans answer bean se think probably people answers example\n",
      "Topic #71: expedient matter efforts features change expertise grinds skip said thread store worded solved famous hot cooking japan type moving allow\n",
      "Topic #72: coffee question does luwak let somewhat taste posts totally similar kopi beans think convention ad linked 75 unless tried example\n",
      "Topic #73: think recipes lot interesting recommended suspended api lead recreated prior opinion frequency examples winter certainly improve editing confused suggests taste\n",
      "Topic #74: coffee question questions site answer like think answers just community se don new people sites users meta stack good tag\n",
      "Topic #75: fun various year write set special flagged changed secret rooms encourage support consider hopefully disagree general polls footnotes starting reasons\n",
      "Topic #76: support brew points aspects explanations drug synonym determine accepted handle directly coffeemaker data count original warm basically coffee changing ll\n",
      "Topic #77: community week suggest stuff users use according people google trends share moka tag ve especially context idea money significant isn\n",
      "Topic #78: having suppose beverage really 75 steam contributions position types discourage potentially format rep tried experts png solved follows tastes known\n",
      "Topic #79: beta ideas public like stack 2015 stuff sites coffee icons slightly exchange private subject start shown relevant moment appreciated polls\n",
      "Topic #80: flags flavoring won happy london wouldn breville active biology thing zero dark folks shouldn variations button big numerous french members\n",
      "Topic #81: questions answer question wikipedia answers opinion sources don wiki quite coffee famous community related original accepting approach late open site\n",
      "Topic #82: lot coffee edits stack accepted ads sites exchange need feature exactly basically intended visit point meta synonym edit good actions\n",
      "Topic #83: coffee se main tea espresso 51 finally sites examples software café press pour important new special shape day zero late\n",
      "Topic #84: minimum removed application continue feed discouraged words icons ve hard exact difference approved london hits distinguishing previously policy add drinkers\n",
      "Topic #85: code idea thought reputation ve hand chatroom ideas like topics meta sage appear working png end suggestion vigilant tasks 90\n",
      "Topic #86: coffee tag method edited pour drip brewing use fine shown think half process terms different hope having signatures removed expert\n",
      "Topic #87: 10 extent intended place decide search bit little happen obvious add suspend meaningful tired submit far ago suggestions actions assume\n",
      "Topic #88: famous café late quite percolator challenges redundant matter says wikipedia created thing relevant differ pop tastes getting suspect tag try\n",
      "Topic #89: new introduce roasts users accomplish mods se way welcome storage help reading don destroyed virtual avatar primary 75 case annual\n",
      "Topic #90: opinion bitter coffee based question community think broad bounty necessarily taste believe know pour press healthy arabica bad added hard\n",
      "Topic #91: awesome written moka nature disclaimer look shape goal matter sounds guys factors actually work en looking honest legitimate site members\n",
      "Topic #92: kopi question does luwak like taste coffee topic discouraged try works little black room usually chat alternative simply recipes way\n",
      "Topic #93: percolator hats consider let diamond view number sub welcome mods subject follows users flavors highly lot search allow menu haven\n",
      "Topic #94: coffee site refers obvious descaling activity true destroyed leave hats period point actually tag searching pure answered thing spam downvoted\n",
      "Topic #95: uses project difficult warrant removed editing flavored growing recommendations fits duplicate press obviously doubt known important chemistry deserves reference solved\n",
      "Topic #96: numbers does necessarily room discovered means mark automated helps zero useful quickly forums improve author multiple suggestion thread place votes\n",
      "Topic #97: questions question room based opinion coffee think seasoned chat use barista like advice policy ingredients merged make comment taste potentially\n",
      "Topic #98: similar caffeine away specifically stuff polls big guidance experiences fair dropdown suggestions favor flavored 24 research dozens little result discussions\n",
      "Topic #99: number feeds menu recommended moving ground sam okay improve beverage obviously makes does accomplished contributed way lists beta popular came\n",
      "\n"
     ]
    }
   ],
   "source": [
    "tf_feature_names = tf_vectorizer.get_feature_names()\n",
    "print_top_words(lda, tf_feature_names, n_top_words)"
   ]
  },
  {
   "cell_type": "code",
   "execution_count": 59,
   "metadata": {},
   "outputs": [],
   "source": [
    "test = tf_vectorizer.transform(\n",
    "    [\"While answering a few of EdChum's questions I discovered that what I/we in the USA call pour over coffee is referred to as drip coffee in the UK. I added the pour-over tag to both questions I encountered but figured we should decide as a community which tag to use to describe this brewing process and then properly document it because drip-coffee means something different in the US (which is apparently referred to as filter-cofee in the UK). For clarification the method in question is shown in the image below. \",\n",
    "    \"Being newly created we have zero feeds appearing in our main chat right now. What blogs, news sites, or other important coffee related things should appear in our main chat room's feed? Post your suggestions/submissions.  \"])"
   ]
  },
  {
   "cell_type": "code",
   "execution_count": 60,
   "metadata": {},
   "outputs": [],
   "source": [
    "doc_topic_dist_unnormalized = np.matrix(lda.transform(test))"
   ]
  },
  {
   "cell_type": "code",
   "execution_count": 61,
   "metadata": {},
   "outputs": [],
   "source": [
    "doc_topic_dist = doc_topic_dist_unnormalized/doc_topic_dist_unnormalized.sum(axis=1)"
   ]
  },
  {
   "cell_type": "code",
   "execution_count": 62,
   "metadata": {},
   "outputs": [
    {
     "name": "stdout",
     "output_type": "stream",
     "text": [
      "[[74]\n",
      " [74]]\n"
     ]
    }
   ],
   "source": [
    "print(doc_topic_dist.argmax(axis=1))"
   ]
  },
  {
   "cell_type": "code",
   "execution_count": 90,
   "metadata": {},
   "outputs": [
    {
     "data": {
      "text/plain": [
       "0.9478947368420876"
      ]
     },
     "execution_count": 90,
     "metadata": {},
     "output_type": "execute_result"
    }
   ],
   "source": [
    "doc_topic_dist[1,74]"
   ]
  },
  {
   "cell_type": "code",
   "execution_count": null,
   "metadata": {},
   "outputs": [],
   "source": []
  }
 ],
 "metadata": {
  "kernelspec": {
   "display_name": "Python 3",
   "language": "python",
   "name": "python3"
  },
  "language_info": {
   "codemirror_mode": {
    "name": "ipython",
    "version": 3
   },
   "file_extension": ".py",
   "mimetype": "text/x-python",
   "name": "python",
   "nbconvert_exporter": "python",
   "pygments_lexer": "ipython3",
   "version": "3.7.9"
  }
 },
 "nbformat": 4,
 "nbformat_minor": 4
}
