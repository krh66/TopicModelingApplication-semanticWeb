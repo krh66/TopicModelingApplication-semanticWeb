{
 "cells": [
  {
   "cell_type": "code",
   "execution_count": 73,
   "metadata": {},
   "outputs": [],
   "source": [
    "from sklearn.feature_extraction.text import TfidfVectorizer, CountVectorizer\n",
    "from sklearn.decomposition import NMF, LatentDirichletAllocation\n",
    "from sklearn.model_selection import GridSearchCV\n",
    "import pandas as pd\n",
    "import numpy as np\n",
    "import nltk\n",
    "from nltk.corpus import stopwords"
   ]
  },
  {
   "cell_type": "code",
   "execution_count": 74,
   "metadata": {},
   "outputs": [],
   "source": [
    "n_samples = 2000\n",
    "n_features = 1000\n",
    "n_components = 10\n",
    "n_top_words = 5"
   ]
  },
  {
   "cell_type": "code",
   "execution_count": 75,
   "metadata": {},
   "outputs": [],
   "source": [
    "def print_top_words(model, feature_names, n_top_words):\n",
    "    for topic_idx, topic in enumerate(model.components_):\n",
    "        message = \"Topic #%d: \" % topic_idx\n",
    "        message += \" \".join([feature_names[i]\n",
    "                             for i in topic.argsort()[:-n_top_words - 1:-1]])\n",
    "        print(message)\n",
    "    print()"
   ]
  },
  {
   "cell_type": "code",
   "execution_count": 80,
   "metadata": {},
   "outputs": [],
   "source": [
    "data = pd.read_csv(\"./data/dataset.csv\", encoding=\"utf_8\")"
   ]
  },
  {
   "cell_type": "code",
   "execution_count": 81,
   "metadata": {},
   "outputs": [],
   "source": [
    "# tfidf_vectorizer = TfidfVectorizer(max_df=0.95, min_df=2,\n",
    "#                                    max_features=n_features,\n",
    "#                                    stop_words='english')\n",
    "# tfidf = tfidf_vectorizer.fit_transform(data)"
   ]
  },
  {
   "cell_type": "code",
   "execution_count": 82,
   "metadata": {},
   "outputs": [],
   "source": [
    "stop_words = set(stopwords.words('english'))\n",
    "stop_words.update([\"coffee\", \"question\",\"questions\",\"answer\"])"
   ]
  },
  {
   "cell_type": "code",
   "execution_count": 83,
   "metadata": {},
   "outputs": [],
   "source": [
    "tf_vectorizer = CountVectorizer(max_df=0.95, min_df=2,\n",
    "                                max_features=n_features,\n",
    "                                stop_words=stop_words)\n",
    "tf = tf_vectorizer.fit_transform(data[\"Body\"])"
   ]
  },
  {
   "cell_type": "code",
   "execution_count": 84,
   "metadata": {},
   "outputs": [],
   "source": [
    "# nmf = NMF(n_components=n_components, random_state=1,\n",
    "#           alpha=.1, l1_ratio=.5).fit(tfidf)"
   ]
  },
  {
   "cell_type": "code",
   "execution_count": 85,
   "metadata": {},
   "outputs": [],
   "source": [
    "# tfidf_feature_names = tfidf_vectorizer.get_feature_names()\n",
    "# print_top_words(nmf, tfidf_feature_names, n_top_words)"
   ]
  },
  {
   "cell_type": "code",
   "execution_count": 86,
   "metadata": {},
   "outputs": [],
   "source": [
    "# nmf = NMF(n_components=n_components, random_state=1,\n",
    "#           beta_loss='kullback-leibler', solver='mu', max_iter=1000, alpha=.1,\n",
    "#           l1_ratio=.5).fit(tfidf)"
   ]
  },
  {
   "cell_type": "code",
   "execution_count": 87,
   "metadata": {},
   "outputs": [],
   "source": [
    "# tfidf_feature_names = tfidf_vectorizer.get_feature_names()\n",
    "# print_top_words(nmf, tfidf_feature_names, n_top_words)"
   ]
  },
  {
   "cell_type": "code",
   "execution_count": 88,
   "metadata": {},
   "outputs": [],
   "source": [
    "search_params = {'n_components': list(range(5,10)), 'learning_decay': np.arange(0.1, 1, 0.2).tolist()}"
   ]
  },
  {
   "cell_type": "code",
   "execution_count": 89,
   "metadata": {},
   "outputs": [],
   "source": [
    "# lda = LatentDirichletAllocation(n_components=n_components, max_iter=5,\n",
    "#                                 learning_method='online',\n",
    "#                                 learning_offset=50.,\n",
    "#                                 random_state=0)\n",
    "# lda = LatentDirichletAllocation()"
   ]
  },
  {
   "cell_type": "code",
   "execution_count": 90,
   "metadata": {},
   "outputs": [],
   "source": [
    "model = GridSearchCV(LatentDirichletAllocation(), param_grid=search_params)"
   ]
  },
  {
   "cell_type": "code",
   "execution_count": 91,
   "metadata": {},
   "outputs": [],
   "source": [
    "# lda.fit(tf)"
   ]
  },
  {
   "cell_type": "code",
   "execution_count": 92,
   "metadata": {},
   "outputs": [
    {
     "data": {
      "text/plain": [
       "GridSearchCV(estimator=LatentDirichletAllocation(),\n",
       "             param_grid={'learning_decay': [0.1, 0.30000000000000004,\n",
       "                                            0.5000000000000001,\n",
       "                                            0.7000000000000001,\n",
       "                                            0.9000000000000001],\n",
       "                         'n_components': [5, 6, 7, 8, 9]})"
      ]
     },
     "execution_count": 92,
     "metadata": {},
     "output_type": "execute_result"
    }
   ],
   "source": [
    "model.fit(tf)"
   ]
  },
  {
   "cell_type": "code",
   "execution_count": 93,
   "metadata": {},
   "outputs": [
    {
     "name": "stdout",
     "output_type": "stream",
     "text": [
      "Best Model's Params:  {'learning_decay': 0.9000000000000001, 'n_components': 5}\n",
      "Best Log Likelihood Score:  -16025.122830314533\n",
      "Model Perplexity:  797.5971510289683\n"
     ]
    }
   ],
   "source": [
    "# Best Model\n",
    "best_lda_model = model.best_estimator_\n",
    "\n",
    "# Model Parameters\n",
    "print(\"Best Model's Params: \", model.best_params_)\n",
    "\n",
    "# Log Likelihood Score\n",
    "print(\"Best Log Likelihood Score: \", model.best_score_)\n",
    "\n",
    "# Perplexity\n",
    "print(\"Model Perplexity: \", best_lda_model.perplexity(tf))"
   ]
  },
  {
   "cell_type": "code",
   "execution_count": 94,
   "metadata": {},
   "outputs": [
    {
     "data": {
      "text/plain": [
       "[{'learning_decay': 0.1, 'n_components': 5},\n",
       " {'learning_decay': 0.1, 'n_components': 6},\n",
       " {'learning_decay': 0.1, 'n_components': 7},\n",
       " {'learning_decay': 0.1, 'n_components': 8},\n",
       " {'learning_decay': 0.1, 'n_components': 9},\n",
       " {'learning_decay': 0.30000000000000004, 'n_components': 5},\n",
       " {'learning_decay': 0.30000000000000004, 'n_components': 6},\n",
       " {'learning_decay': 0.30000000000000004, 'n_components': 7},\n",
       " {'learning_decay': 0.30000000000000004, 'n_components': 8},\n",
       " {'learning_decay': 0.30000000000000004, 'n_components': 9},\n",
       " {'learning_decay': 0.5000000000000001, 'n_components': 5},\n",
       " {'learning_decay': 0.5000000000000001, 'n_components': 6},\n",
       " {'learning_decay': 0.5000000000000001, 'n_components': 7},\n",
       " {'learning_decay': 0.5000000000000001, 'n_components': 8},\n",
       " {'learning_decay': 0.5000000000000001, 'n_components': 9},\n",
       " {'learning_decay': 0.7000000000000001, 'n_components': 5},\n",
       " {'learning_decay': 0.7000000000000001, 'n_components': 6},\n",
       " {'learning_decay': 0.7000000000000001, 'n_components': 7},\n",
       " {'learning_decay': 0.7000000000000001, 'n_components': 8},\n",
       " {'learning_decay': 0.7000000000000001, 'n_components': 9},\n",
       " {'learning_decay': 0.9000000000000001, 'n_components': 5},\n",
       " {'learning_decay': 0.9000000000000001, 'n_components': 6},\n",
       " {'learning_decay': 0.9000000000000001, 'n_components': 7},\n",
       " {'learning_decay': 0.9000000000000001, 'n_components': 8},\n",
       " {'learning_decay': 0.9000000000000001, 'n_components': 9}]"
      ]
     },
     "execution_count": 94,
     "metadata": {},
     "output_type": "execute_result"
    }
   ],
   "source": [
    "model.cv_results_['params']"
   ]
  },
  {
   "cell_type": "code",
   "execution_count": 95,
   "metadata": {},
   "outputs": [
    {
     "data": {
      "text/plain": [
       "array([-16079.57944455, -16719.00408669, -17251.24517447, -17804.88867491,\n",
       "       -18369.78816847, -16063.46194162, -16718.00112263, -17353.53277774,\n",
       "       -17740.62783861, -18229.60251654, -16137.4746758 , -16670.30583887,\n",
       "       -17259.07269974, -17790.61489963, -18295.84619478, -16049.40071569,\n",
       "       -16731.38802733, -17281.16873563, -17845.77387575, -18352.16364661,\n",
       "       -16025.12283031, -16674.59139199, -17275.22674736, -17809.77000526,\n",
       "       -18265.22926197])"
      ]
     },
     "execution_count": 95,
     "metadata": {},
     "output_type": "execute_result"
    }
   ],
   "source": [
    "model.cv_results_['mean_test_score']"
   ]
  },
  {
   "cell_type": "code",
   "execution_count": 96,
   "metadata": {},
   "outputs": [
    {
     "data": {
      "text/plain": [
       "[]"
      ]
     },
     "execution_count": 96,
     "metadata": {},
     "output_type": "execute_result"
    }
   ],
   "source": [
    "[round(model.cv_results_['mean_test_score'][model.cv_results_['params'].index(gscore)]) for gscore in model.cv_results_['params'] if gscore['learning_decay']==0.2]"
   ]
  },
  {
   "cell_type": "code",
   "execution_count": 97,
   "metadata": {},
   "outputs": [
    {
     "data": {
      "image/png": "[encoded data removed]",
      "text/plain": [
       "<Figure size 864x576 with 1 Axes>"
      ]
     },
     "metadata": {
      "needs_background": "light"
     },
     "output_type": "display_data"
    }
   ],
   "source": [
    "import matplotlib.pyplot as plt\n",
    "# Get Log Likelyhoods from Grid Search Output\n",
    "# n_topics = [10, 15, 20, 25, 30]\n",
    "# log_likelyhoods_5 = [round(gscore.mean_validation_score) for gscore in model.grid_scores_ if gscore.parameters['learning_decay']==0.5]\n",
    "# log_likelyhoods_7 = [round(gscore.mean_validation_score) for gscore in model.grid_scores_ if gscore.parameters['learning_decay']==0.7]\n",
    "# log_likelyhoods_9 = [round(gscore.mean_validation_score) for gscore in model.grid_scores_ if gscore.parameters['learning_decay']==0.9]\n",
    "log_likelyhoods = {}\n",
    "plt.figure(figsize=(12, 8))\n",
    "for decay in search_params['learning_decay']:\n",
    "    log_likelyhoods = [round(model.cv_results_['mean_test_score'][model.cv_results_['params'].index(gscore)]) for gscore in model.cv_results_['params'] if gscore['learning_decay']==decay]\n",
    "    plt.plot(search_params['n_components'], log_likelyhoods, label=str(decay))\n",
    "\n",
    "# Show graph\n",
    "# plt.figure(figsize=(12, 8))\n",
    "# plt.plot(n_topics, log_likelyhoods_5, label='0.5')\n",
    "# plt.plot(n_topics, log_likelyhoods_7, label='0.7')\n",
    "# plt.plot(n_topics, log_likelyhoods_9, label='0.9')\n",
    "plt.title(\"Choosing Optimal LDA Model\")\n",
    "plt.xlabel(\"Num Topics\")\n",
    "plt.ylabel(\"Log Likelihood Score\")\n",
    "plt.legend(title='Learning decay', loc='best')\n",
    "plt.show()"
   ]
  },
  {
   "cell_type": "code",
   "execution_count": 98,
   "metadata": {},
   "outputs": [],
   "source": [
    "lda = best_lda_model"
   ]
  },
  {
   "cell_type": "code",
   "execution_count": 99,
   "metadata": {},
   "outputs": [
    {
     "name": "stdout",
     "output_type": "stream",
     "text": [
      "Topic #0: site people sites community users\n",
      "Topic #1: hats bounty beta se winter\n",
      "Topic #2: tag one like answers topic\n",
      "Topic #3: answers site would think topic\n",
      "Topic #4: like flavor think one tags\n",
      "\n"
     ]
    }
   ],
   "source": [
    "tf_feature_names = tf_vectorizer.get_feature_names()\n",
    "print_top_words(lda, tf_feature_names, n_top_words)"
   ]
  },
  {
   "cell_type": "code",
   "execution_count": 100,
   "metadata": {},
   "outputs": [],
   "source": [
    "test = tf_vectorizer.transform(\n",
    "    [\"While answering a few of EdChum's questions I discovered that what I/we in the USA call pour over coffee is referred to as drip coffee in the UK. I added the pour-over tag to both questions I encountered but figured we should decide as a community which tag to use to describe this brewing process and then properly document it because drip-coffee means something different in the US (which is apparently referred to as filter-cofee in the UK). For clarification the method in question is shown in the image below. \",\n",
    "    \"Being newly created we have zero feeds appearing in our main chat right now. What blogs, news sites, or other important coffee related things should appear in our main chat room's feed? Post your suggestions/submissions.  \"])"
   ]
  },
  {
   "cell_type": "code",
   "execution_count": 101,
   "metadata": {},
   "outputs": [],
   "source": [
    "doc_topic_dist_unnormalized = np.matrix(lda.transform(tf))"
   ]
  },
  {
   "cell_type": "code",
   "execution_count": 102,
   "metadata": {},
   "outputs": [],
   "source": [
    "doc_topic_dist = doc_topic_dist_unnormalized/doc_topic_dist_unnormalized.sum(axis=1)"
   ]
  },
  {
   "cell_type": "code",
   "execution_count": 103,
   "metadata": {},
   "outputs": [
    {
     "name": "stdout",
     "output_type": "stream",
     "text": [
      "[[2]\n",
      " [4]\n",
      " [2]\n",
      " [2]\n",
      " [2]\n",
      " [2]\n",
      " [4]\n",
      " [3]\n",
      " [3]\n",
      " [2]\n",
      " [4]\n",
      " [3]\n",
      " [4]\n",
      " [2]\n",
      " [2]\n",
      " [2]\n",
      " [2]\n",
      " [2]\n",
      " [4]\n",
      " [2]\n",
      " [4]\n",
      " [2]\n",
      " [4]\n",
      " [4]\n",
      " [2]\n",
      " [0]\n",
      " [4]\n",
      " [4]\n",
      " [3]\n",
      " [4]\n",
      " [3]\n",
      " [1]\n",
      " [0]\n",
      " [2]\n",
      " [2]\n",
      " [3]\n",
      " [4]\n",
      " [0]\n",
      " [0]\n",
      " [4]\n",
      " [0]\n",
      " [3]\n",
      " [4]\n",
      " [2]\n",
      " [0]\n",
      " [2]\n",
      " [3]\n",
      " [0]\n",
      " [3]\n",
      " [0]\n",
      " [3]\n",
      " [2]\n",
      " [4]\n",
      " [3]\n",
      " [0]\n",
      " [2]\n",
      " [2]\n",
      " [4]\n",
      " [0]\n",
      " [0]\n",
      " [4]\n",
      " [3]\n",
      " [0]\n",
      " [2]\n",
      " [4]\n",
      " [4]\n",
      " [2]\n",
      " [4]\n",
      " [0]\n",
      " [0]\n",
      " [2]\n",
      " [2]\n",
      " [3]\n",
      " [2]\n",
      " [4]\n",
      " [4]\n",
      " [4]\n",
      " [0]\n",
      " [3]\n",
      " [2]\n",
      " [3]\n",
      " [4]\n",
      " [3]\n",
      " [3]\n",
      " [3]\n",
      " [4]\n",
      " [3]\n",
      " [3]\n",
      " [2]\n",
      " [3]\n",
      " [3]\n",
      " [3]\n",
      " [3]\n",
      " [3]\n",
      " [3]\n",
      " [2]\n",
      " [0]\n",
      " [4]\n",
      " [0]\n",
      " [0]\n",
      " [0]\n",
      " [3]\n",
      " [3]\n",
      " [0]\n",
      " [3]\n",
      " [0]\n",
      " [1]\n",
      " [3]\n",
      " [2]\n",
      " [3]\n",
      " [2]\n",
      " [3]\n",
      " [0]\n",
      " [0]\n",
      " [4]\n",
      " [1]\n",
      " [1]\n",
      " [2]\n",
      " [2]\n",
      " [2]\n",
      " [2]\n",
      " [4]\n",
      " [4]\n",
      " [2]\n",
      " [2]\n",
      " [4]\n",
      " [3]\n",
      " [4]\n",
      " [3]\n",
      " [1]\n",
      " [2]\n",
      " [4]\n",
      " [3]\n",
      " [3]\n",
      " [3]\n",
      " [2]\n",
      " [3]\n",
      " [0]\n",
      " [2]\n",
      " [2]\n",
      " [1]\n",
      " [0]\n",
      " [3]\n",
      " [1]\n",
      " [4]\n",
      " [3]\n",
      " [0]\n",
      " [0]\n",
      " [0]\n",
      " [2]\n",
      " [2]\n",
      " [2]\n",
      " [4]\n",
      " [3]\n",
      " [2]\n",
      " [2]\n",
      " [2]\n",
      " [1]\n",
      " [0]\n",
      " [1]\n",
      " [3]\n",
      " [0]\n",
      " [3]\n",
      " [2]\n",
      " [1]\n",
      " [3]\n",
      " [4]\n",
      " [1]\n",
      " [0]\n",
      " [2]\n",
      " [3]\n",
      " [3]\n",
      " [0]\n",
      " [2]\n",
      " [2]\n",
      " [3]\n",
      " [0]\n",
      " [3]\n",
      " [1]\n",
      " [3]\n",
      " [1]\n",
      " [2]\n",
      " [2]\n",
      " [3]\n",
      " [3]\n",
      " [4]\n",
      " [2]\n",
      " [2]\n",
      " [0]\n",
      " [3]\n",
      " [3]\n",
      " [0]\n",
      " [2]\n",
      " [2]\n",
      " [2]\n",
      " [2]\n",
      " [4]\n",
      " [3]\n",
      " [1]\n",
      " [0]\n",
      " [3]\n",
      " [3]\n",
      " [0]\n",
      " [3]\n",
      " [3]\n",
      " [0]\n",
      " [2]\n",
      " [3]\n",
      " [4]\n",
      " [4]\n",
      " [2]\n",
      " [3]\n",
      " [0]\n",
      " [3]\n",
      " [4]\n",
      " [3]\n",
      " [0]\n",
      " [2]\n",
      " [3]\n",
      " [4]\n",
      " [0]\n",
      " [0]\n",
      " [2]\n",
      " [2]\n",
      " [0]\n",
      " [0]\n",
      " [2]\n",
      " [2]\n",
      " [2]\n",
      " [2]]\n"
     ]
    }
   ],
   "source": [
    "print(doc_topic_dist.argmax(axis=1))"
   ]
  },
  {
   "cell_type": "code",
   "execution_count": 104,
   "metadata": {},
   "outputs": [
    {
     "name": "stdout",
     "output_type": "stream",
     "text": [
      "[2, 4, 2, 2, 2, 2, 4, 3, 3, 2, 4, 3, 4, 2, 2, 2, 2, 2, 4, 2, 4, 2, 4, 4, 2, 0, 4, 4, 3, 4, 3, 1, 0, 2, 2, 3, 4, 0, 0, 4, 0, 3, 4, 2, 0, 2, 3, 0, 3, 0, 3, 2, 4, 3, 0, 2, 2, 4, 0, 0, 4, 3, 0, 2, 4, 4, 2, 4, 0, 0, 2, 2, 3, 2, 4, 4, 4, 0, 3, 2, 3, 4, 3, 3, 3, 4, 3, 3, 2, 3, 3, 3, 3, 3, 3, 2, 0, 4, 0, 0, 0, 3, 3, 0, 3, 0, 1, 3, 2, 3, 2, 3, 0, 0, 4, 1, 1, 2, 2, 2, 2, 4, 4, 2, 2, 4, 3, 4, 3, 1, 2, 4, 3, 3, 3, 2, 3, 0, 2, 2, 1, 0, 3, 1, 4, 3, 0, 0, 0, 2, 2, 2, 4, 3, 2, 2, 2, 1, 0, 1, 3, 0, 3, 2, 1, 3, 4, 1, 0, 2, 3, 3, 0, 2, 2, 3, 0, 3, 1, 3, 1, 2, 2, 3, 3, 4, 2, 2, 0, 3, 3, 0, 2, 2, 2, 2, 4, 3, 1, 0, 3, 3, 0, 3, 3, 0, 2, 3, 4, 4, 2, 3, 0, 3, 4, 3, 0, 2, 3, 4, 0, 0, 2, 2, 0, 0, 2, 2, 2, 2]\n"
     ]
    }
   ],
   "source": [
    "topics = []\n",
    "for n in doc_topic_dist.argmax(axis=1):\n",
    "    topics.append(n[0,0])\n",
    "print(topics)"
   ]
  },
  {
   "cell_type": "code",
   "execution_count": 105,
   "metadata": {},
   "outputs": [
    {
     "name": "stdout",
     "output_type": "stream",
     "text": [
      "Log Likelihood:  -59780.30782712932\n"
     ]
    }
   ],
   "source": [
    "print(\"Log Likelihood: \", lda.score(tf))"
   ]
  },
  {
   "cell_type": "code",
   "execution_count": 106,
   "metadata": {},
   "outputs": [
    {
     "name": "stdout",
     "output_type": "stream",
     "text": [
      "Perplexity:  797.5971510289683\n"
     ]
    }
   ],
   "source": [
    "print(\"Perplexity: \", lda.perplexity(tf))"
   ]
  },
  {
   "cell_type": "code",
   "execution_count": 107,
   "metadata": {},
   "outputs": [],
   "source": [
    "data['Topic']=pd.DataFrame(topics)"
   ]
  },
  {
   "cell_type": "code",
   "execution_count": 108,
   "metadata": {},
   "outputs": [
    {
     "data": {
      "text/html": [
       "<div>\n",
       "<style scoped>\n",
       "    .dataframe tbody tr th:only-of-type {\n",
       "        vertical-align: middle;\n",
       "    }\n",
       "\n",
       "    .dataframe tbody tr th {\n",
       "        vertical-align: top;\n",
       "    }\n",
       "\n",
       "    .dataframe thead th {\n",
       "        text-align: right;\n",
       "    }\n",
       "</style>\n",
       "<table border=\"1\" class=\"dataframe\">\n",
       "  <thead>\n",
       "    <tr style=\"text-align: right;\">\n",
       "      <th></th>\n",
       "      <th>Id</th>\n",
       "      <th>ParentId</th>\n",
       "      <th>PostTypeId</th>\n",
       "      <th>CreationDate</th>\n",
       "      <th>Title</th>\n",
       "      <th>Body</th>\n",
       "      <th>Topic</th>\n",
       "    </tr>\n",
       "  </thead>\n",
       "  <tbody>\n",
       "    <tr>\n",
       "      <th>0</th>\n",
       "      <td>1</td>\n",
       "      <td>NaN</td>\n",
       "      <td>1</td>\n",
       "      <td>2015-01-27T21:23:05.507</td>\n",
       "      <td>Should we describe the process of brewing a si...</td>\n",
       "      <td>While answering a few of EdChum's questions I ...</td>\n",
       "      <td>2</td>\n",
       "    </tr>\n",
       "    <tr>\n",
       "      <th>1</th>\n",
       "      <td>2</td>\n",
       "      <td>NaN</td>\n",
       "      <td>1</td>\n",
       "      <td>2015-01-27T21:26:10.227</td>\n",
       "      <td>What should go in our main chat feeds?</td>\n",
       "      <td>Being newly created we have zero feeds appeari...</td>\n",
       "      <td>4</td>\n",
       "    </tr>\n",
       "    <tr>\n",
       "      <th>2</th>\n",
       "      <td>3</td>\n",
       "      <td>1.0</td>\n",
       "      <td>2</td>\n",
       "      <td>2015-01-27T21:30:20.953</td>\n",
       "      <td>NaN</td>\n",
       "      <td>It looks like filter coffee has another, diffe...</td>\n",
       "      <td>2</td>\n",
       "    </tr>\n",
       "    <tr>\n",
       "      <th>3</th>\n",
       "      <td>4</td>\n",
       "      <td>NaN</td>\n",
       "      <td>1</td>\n",
       "      <td>2015-01-27T22:31:45.837</td>\n",
       "      <td>Let's think of a creative name for our chatroom</td>\n",
       "      <td>The chatroom name is so bland. \"Coffee.\" Look ...</td>\n",
       "      <td>2</td>\n",
       "    </tr>\n",
       "    <tr>\n",
       "      <th>4</th>\n",
       "      <td>5</td>\n",
       "      <td>NaN</td>\n",
       "      <td>1</td>\n",
       "      <td>2015-01-27T22:34:21.017</td>\n",
       "      <td>Should product recommendations be on-topic?</td>\n",
       "      <td>On most SE sites, product recommendations are ...</td>\n",
       "      <td>2</td>\n",
       "    </tr>\n",
       "    <tr>\n",
       "      <th>...</th>\n",
       "      <td>...</td>\n",
       "      <td>...</td>\n",
       "      <td>...</td>\n",
       "      <td>...</td>\n",
       "      <td>...</td>\n",
       "      <td>...</td>\n",
       "      <td>...</td>\n",
       "    </tr>\n",
       "    <tr>\n",
       "      <th>225</th>\n",
       "      <td>1234</td>\n",
       "      <td>1233.0</td>\n",
       "      <td>2</td>\n",
       "      <td>2020-01-24T17:38:53.693</td>\n",
       "      <td>NaN</td>\n",
       "      <td>I see no reason why a different rule should ap...</td>\n",
       "      <td>0</td>\n",
       "    </tr>\n",
       "    <tr>\n",
       "      <th>226</th>\n",
       "      <td>1235</td>\n",
       "      <td>NaN</td>\n",
       "      <td>5</td>\n",
       "      <td>2020-04-24T13:33:15.850</td>\n",
       "      <td>NaN</td>\n",
       "      <td>This tag is used by staff when sharing concept...</td>\n",
       "      <td>2</td>\n",
       "    </tr>\n",
       "    <tr>\n",
       "      <th>227</th>\n",
       "      <td>1236</td>\n",
       "      <td>NaN</td>\n",
       "      <td>4</td>\n",
       "      <td>2020-04-24T13:33:15.850</td>\n",
       "      <td>product-discovery</td>\n",
       "      <td>Indicates that the post shares product or conf...</td>\n",
       "      <td>2</td>\n",
       "    </tr>\n",
       "    <tr>\n",
       "      <th>228</th>\n",
       "      <td>1237</td>\n",
       "      <td>NaN</td>\n",
       "      <td>1</td>\n",
       "      <td>2020-06-03T08:54:22.113</td>\n",
       "      <td>Do we accept or close recipe requests?</td>\n",
       "      <td>Seasoned Advice has excluded recipe requests f...</td>\n",
       "      <td>2</td>\n",
       "    </tr>\n",
       "    <tr>\n",
       "      <th>229</th>\n",
       "      <td>1238</td>\n",
       "      <td>1237.0</td>\n",
       "      <td>2</td>\n",
       "      <td>2020-06-05T04:50:17.800</td>\n",
       "      <td>NaN</td>\n",
       "      <td>I appreciate the Seasoned Advice stance and th...</td>\n",
       "      <td>2</td>\n",
       "    </tr>\n",
       "  </tbody>\n",
       "</table>\n",
       "<p>230 rows × 7 columns</p>\n",
       "</div>"
      ],
      "text/plain": [
       "       Id  ParentId  PostTypeId             CreationDate  \\\n",
       "0       1       NaN           1  2015-01-27T21:23:05.507   \n",
       "1       2       NaN           1  2015-01-27T21:26:10.227   \n",
       "2       3       1.0           2  2015-01-27T21:30:20.953   \n",
       "3       4       NaN           1  2015-01-27T22:31:45.837   \n",
       "4       5       NaN           1  2015-01-27T22:34:21.017   \n",
       "..    ...       ...         ...                      ...   \n",
       "225  1234    1233.0           2  2020-01-24T17:38:53.693   \n",
       "226  1235       NaN           5  2020-04-24T13:33:15.850   \n",
       "227  1236       NaN           4  2020-04-24T13:33:15.850   \n",
       "228  1237       NaN           1  2020-06-03T08:54:22.113   \n",
       "229  1238    1237.0           2  2020-06-05T04:50:17.800   \n",
       "\n",
       "                                                 Title  \\\n",
       "0    Should we describe the process of brewing a si...   \n",
       "1               What should go in our main chat feeds?   \n",
       "2                                                  NaN   \n",
       "3      Let's think of a creative name for our chatroom   \n",
       "4          Should product recommendations be on-topic?   \n",
       "..                                                 ...   \n",
       "225                                                NaN   \n",
       "226                                                NaN   \n",
       "227                                  product-discovery   \n",
       "228             Do we accept or close recipe requests?   \n",
       "229                                                NaN   \n",
       "\n",
       "                                                  Body  Topic  \n",
       "0    While answering a few of EdChum's questions I ...      2  \n",
       "1    Being newly created we have zero feeds appeari...      4  \n",
       "2    It looks like filter coffee has another, diffe...      2  \n",
       "3    The chatroom name is so bland. \"Coffee.\" Look ...      2  \n",
       "4    On most SE sites, product recommendations are ...      2  \n",
       "..                                                 ...    ...  \n",
       "225  I see no reason why a different rule should ap...      0  \n",
       "226  This tag is used by staff when sharing concept...      2  \n",
       "227  Indicates that the post shares product or conf...      2  \n",
       "228  Seasoned Advice has excluded recipe requests f...      2  \n",
       "229  I appreciate the Seasoned Advice stance and th...      2  \n",
       "\n",
       "[230 rows x 7 columns]"
      ]
     },
     "execution_count": 108,
     "metadata": {},
     "output_type": "execute_result"
    }
   ],
   "source": [
    "data"
   ]
  },
  {
   "cell_type": "code",
   "execution_count": 109,
   "metadata": {},
   "outputs": [],
   "source": [
    "data.to_csv(\"./data/dataset_sklearn_LDA.csv\", encoding=\"utf_8\")"
   ]
  },
  {
   "cell_type": "code",
   "execution_count": 115,
   "metadata": {},
   "outputs": [
    {
     "name": "stdout",
     "output_type": "stream",
     "text": [
      "[0, 1, 2, 3, 4]\n",
      "[['site', 'people', 'sites', 'community', 'users'], ['hats', 'bounty', 'beta', 'se', 'winter'], ['tag', 'one', 'like', 'answers', 'topic'], ['answers', 'site', 'would', 'think', 'topic'], ['like', 'flavor', 'think', 'one', 'tags']]\n"
     ]
    }
   ],
   "source": [
    "topic_num = []\n",
    "top_words = []\n",
    "for topic_idx, topic in enumerate(lda.components_):\n",
    "        topic_num.append(\"Topic topic_idx)\n",
    "        top_words.append([tf_feature_names[i]\n",
    "                             for i in topic.argsort()[:-n_top_words - 1:-1]])\n",
    "print(topic_num)\n",
    "print(top_words)"
   ]
  },
  {
   "cell_type": "code",
   "execution_count": 116,
   "metadata": {},
   "outputs": [],
   "source": [
    "topic_top_words = pd.DataFrame()\n",
    "topic_top_words[topic_num] = pd.DataFrame(top_words)"
   ]
  },
  {
   "cell_type": "code",
   "execution_count": 117,
   "metadata": {},
   "outputs": [
    {
     "data": {
      "text/html": [
       "<div>\n",
       "<style scoped>\n",
       "    .dataframe tbody tr th:only-of-type {\n",
       "        vertical-align: middle;\n",
       "    }\n",
       "\n",
       "    .dataframe tbody tr th {\n",
       "        vertical-align: top;\n",
       "    }\n",
       "\n",
       "    .dataframe thead th {\n",
       "        text-align: right;\n",
       "    }\n",
       "</style>\n",
       "<table border=\"1\" class=\"dataframe\">\n",
       "  <thead>\n",
       "    <tr style=\"text-align: right;\">\n",
       "      <th></th>\n",
       "      <th>0</th>\n",
       "      <th>1</th>\n",
       "      <th>2</th>\n",
       "      <th>3</th>\n",
       "      <th>4</th>\n",
       "    </tr>\n",
       "  </thead>\n",
       "  <tbody>\n",
       "    <tr>\n",
       "      <th>0</th>\n",
       "      <td>site</td>\n",
       "      <td>people</td>\n",
       "      <td>sites</td>\n",
       "      <td>community</td>\n",
       "      <td>users</td>\n",
       "    </tr>\n",
       "    <tr>\n",
       "      <th>1</th>\n",
       "      <td>hats</td>\n",
       "      <td>bounty</td>\n",
       "      <td>beta</td>\n",
       "      <td>se</td>\n",
       "      <td>winter</td>\n",
       "    </tr>\n",
       "    <tr>\n",
       "      <th>2</th>\n",
       "      <td>tag</td>\n",
       "      <td>one</td>\n",
       "      <td>like</td>\n",
       "      <td>answers</td>\n",
       "      <td>topic</td>\n",
       "    </tr>\n",
       "    <tr>\n",
       "      <th>3</th>\n",
       "      <td>answers</td>\n",
       "      <td>site</td>\n",
       "      <td>would</td>\n",
       "      <td>think</td>\n",
       "      <td>topic</td>\n",
       "    </tr>\n",
       "    <tr>\n",
       "      <th>4</th>\n",
       "      <td>like</td>\n",
       "      <td>flavor</td>\n",
       "      <td>think</td>\n",
       "      <td>one</td>\n",
       "      <td>tags</td>\n",
       "    </tr>\n",
       "  </tbody>\n",
       "</table>\n",
       "</div>"
      ],
      "text/plain": [
       "         0       1      2          3       4\n",
       "0     site  people  sites  community   users\n",
       "1     hats  bounty   beta         se  winter\n",
       "2      tag     one   like    answers   topic\n",
       "3  answers    site  would      think   topic\n",
       "4     like  flavor  think        one    tags"
      ]
     },
     "execution_count": 117,
     "metadata": {},
     "output_type": "execute_result"
    }
   ],
   "source": [
    "topic_top_words"
   ]
  },
  {
   "cell_type": "code",
   "execution_count": null,
   "metadata": {},
   "outputs": [],
   "source": []
  }
 ],
 "metadata": {
  "kernelspec": {
   "display_name": "Python 3",
   "language": "python",
   "name": "python3"
  },
  "language_info": {
   "codemirror_mode": {
    "name": "ipython",
    "version": 3
   },
   "file_extension": ".py",
   "mimetype": "text/x-python",
   "name": "python",
   "nbconvert_exporter": "python",
   "pygments_lexer": "ipython3",
   "version": "3.7.9"
  }
 },
 "nbformat": 4,
 "nbformat_minor": 4
}
