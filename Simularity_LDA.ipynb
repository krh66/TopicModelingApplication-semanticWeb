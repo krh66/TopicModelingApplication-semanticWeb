{
 "cells": [
  {
   "cell_type": "code",
   "execution_count": 9,
   "metadata": {},
   "outputs": [],
   "source": [
    "from sklearn.feature_extraction.text import TfidfVectorizer, CountVectorizer\n",
    "from sklearn.decomposition import NMF, LatentDirichletAllocation\n",
    "import pandas as pd"
   ]
  },
  {
   "cell_type": "code",
   "execution_count": 10,
   "metadata": {},
   "outputs": [],
   "source": [
    "n_samples = 2000\n",
    "n_features = 1000\n",
    "n_components = 10\n",
    "n_top_words = 20"
   ]
  },
  {
   "cell_type": "code",
   "execution_count": 11,
   "metadata": {},
   "outputs": [],
   "source": [
    "def print_top_words(model, feature_names, n_top_words):\n",
    "    for topic_idx, topic in enumerate(model.components_):\n",
    "        message = \"Topic #%d: \" % topic_idx\n",
    "        message += \" \".join([feature_names[i]\n",
    "                             for i in topic.argsort()[:-n_top_words - 1:-1]])\n",
    "        print(message)\n",
    "    print()"
   ]
  },
  {
   "cell_type": "code",
   "execution_count": 12,
   "metadata": {},
   "outputs": [],
   "source": [
    "data = list(pd.read_csv(\"./data/dataset.csv\", encoding=\"utf_8\")[\"Body\"])"
   ]
  },
  {
   "cell_type": "code",
   "execution_count": 13,
   "metadata": {},
   "outputs": [],
   "source": [
    "tfidf_vectorizer = TfidfVectorizer(max_df=0.95, min_df=2,\n",
    "                                   max_features=n_features,\n",
    "                                   stop_words='english')\n",
    "tfidf = tfidf_vectorizer.fit_transform(data)"
   ]
  },
  {
   "cell_type": "code",
   "execution_count": 14,
   "metadata": {},
   "outputs": [],
   "source": [
    "tf_vectorizer = CountVectorizer(max_df=0.95, min_df=2,\n",
    "                                max_features=n_features,\n",
    "                                stop_words='english')\n",
    "tf = tf_vectorizer.fit_transform(data)"
   ]
  },
  {
   "cell_type": "code",
   "execution_count": 15,
   "metadata": {},
   "outputs": [],
   "source": [
    "nmf = NMF(n_components=n_components, random_state=1,\n",
    "          alpha=.1, l1_ratio=.5).fit(tfidf)"
   ]
  },
  {
   "cell_type": "code",
   "execution_count": 16,
   "metadata": {},
   "outputs": [
    {
     "name": "stdout",
     "output_type": "stream",
     "text": [
      "Topic #0: question answer questions answers topic think opinion ask caffeine like based don coffee good types better community know asked research\n",
      "Topic #1: coffee iced grinding brewing people beans like idea variation love bean advice yes questions consuming glass shop drink seasoned talking\n",
      "Topic #2: tag tags drip use wiki posts equipment moka pour related process uk word having brew synonym meta filter machines method\n",
      "Topic #3: site questions beta stack users sites new exchange need community people just meta ve post like good edit time make\n",
      "Topic #4: product recommendations recommendation spam topic specific certain bad products based post hard subjective want personal problem just asker spammers espresso\n",
      "Topic #5: knowledge se coffee yes useful serving official 2015 suggestions say related challenges traffic getting cw help fact famous fairly fair\n",
      "Topic #6: hats winter bash earn public viewed click soon link forward opt year network user improve available secret virtual certain particular\n",
      "Topic #7: proposal 51 area beverages tea ask pages avoid essentially page initial topics bean oil ll based work list types want\n",
      "Topic #8: flavor affect flavored subjective tags just change taste synonym merged flavoring wiki asking including dedicated field bitter understanding fair game\n",
      "Topic #9: room chat barista created community main feeds feed appear zero important suggestions don things right related rooms com percolator variation\n",
      "\n"
     ]
    }
   ],
   "source": [
    "tfidf_feature_names = tfidf_vectorizer.get_feature_names()\n",
    "print_top_words(nmf, tfidf_feature_names, n_top_words)"
   ]
  },
  {
   "cell_type": "code",
   "execution_count": 17,
   "metadata": {},
   "outputs": [],
   "source": [
    "nmf = NMF(n_components=n_components, random_state=1,\n",
    "          beta_loss='kullback-leibler', solver='mu', max_iter=1000, alpha=.1,\n",
    "          l1_ratio=.5).fit(tfidf)"
   ]
  },
  {
   "cell_type": "code",
   "execution_count": 18,
   "metadata": {},
   "outputs": [
    {
     "name": "stdout",
     "output_type": "stream",
     "text": [
      "Topic #0: questions question coffee answers answer topic community think site good caffeine ask like asked does related sources don people health\n",
      "Topic #1: coffee knowledge grinding iced se beans shop yes bean love need grind original flavored related ground drink grinder talking coffees\n",
      "Topic #2: tag tags drip use different wiki flavor having equipment machine pour synonym specific machines method uk filter descaler luwak question\n",
      "Topic #3: site meta ve users time new edit post sites people se getting participation help beta community looking traffic need ads\n",
      "Topic #4: product questions recommendations opinion based recommendation site don topic thing subjective just asking flavor types open specific want spam post\n",
      "Topic #5: answer bounty just yes high better se type work look information rest feel long share machine challenges cw fine job\n",
      "Topic #6: hats stack exchange like posts sorry public beta question user coffee flags users bash winter tried click tasks issue year\n",
      "Topic #7: brewing broad proposal area idea 51 roast grounds correct quite books question consuming oil differences spent bean interested text work\n",
      "Topic #8: advice think seasoned know opinion based okay ideas cooking general better recipe fact flavor pretty bit science migrated putting situation\n",
      "Topic #9: chat percolator room image com stackexchange think https kopi synonyms moka luwak similar barista simple logo http main feed guys\n",
      "\n"
     ]
    }
   ],
   "source": [
    "tfidf_feature_names = tfidf_vectorizer.get_feature_names()\n",
    "print_top_words(nmf, tfidf_feature_names, n_top_words)"
   ]
  },
  {
   "cell_type": "code",
   "execution_count": 19,
   "metadata": {},
   "outputs": [],
   "source": [
    "lda = LatentDirichletAllocation(n_components=n_components, max_iter=5,\n",
    "                                learning_method='online',\n",
    "                                learning_offset=50.,\n",
    "                                random_state=0)"
   ]
  },
  {
   "cell_type": "code",
   "execution_count": 20,
   "metadata": {},
   "outputs": [
    {
     "data": {
      "text/plain": [
       "LatentDirichletAllocation(learning_method='online', learning_offset=50.0,\n",
       "                          max_iter=5, random_state=0)"
      ]
     },
     "execution_count": 20,
     "metadata": {},
     "output_type": "execute_result"
    }
   ],
   "source": [
    "lda.fit(tf)"
   ]
  },
  {
   "cell_type": "code",
   "execution_count": 21,
   "metadata": {},
   "outputs": [
    {
     "name": "stdout",
     "output_type": "stream",
     "text": [
      "Topic #0: coffee question questions site answer think like answers topic se don just community people tag new good make sites know\n",
      "Topic #1: chat room community members area 51 moderators created proposal percolator site don stackexchange beverages rooms main https com barista learning\n",
      "Topic #2: grounds questions grinds correct spent refer left terminology make chat sure seen question london brewing site person discussing vote isn\n",
      "Topic #3: question grind text roast community sources generally future spurred products case somewhat color light search potentially communities let grounds users\n",
      "Topic #4: grind coffee water grounds percolator moka grinding like beans espresso separate question brewed storage disclaimer stovetop awesome think beginning grinds\n",
      "Topic #5: question answer coffee questions know think don bounty example votes like topic caffeine half related closed extent zero didn wikis\n",
      "Topic #6: answer question hats user site posts users stack exchange questions queue like tasks bash winter coffee edit bounty flags sites\n",
      "Topic #7: coffee uk term original just correct brewing like answers summary drip answer japan edit tag bounty main thing wrong opinion\n",
      "Topic #8: image area51 ads png ad proposal stackexchange sites questions good 150 generic simple create standard size space com ideas pretty\n",
      "Topic #9: tag wiki flavor content edit like suggested history suggest did temperature bean wikis looks brewing process product short standard recommendations\n",
      "\n"
     ]
    }
   ],
   "source": [
    "tf_feature_names = tf_vectorizer.get_feature_names()\n",
    "print_top_words(lda, tf_feature_names, n_top_words)"
   ]
  },
  {
   "cell_type": "code",
   "execution_count": null,
   "metadata": {},
   "outputs": [],
   "source": []
  }
 ],
 "metadata": {
  "kernelspec": {
   "display_name": "Python 3",
   "language": "python",
   "name": "python3"
  },
  "language_info": {
   "codemirror_mode": {
    "name": "ipython",
    "version": 3
   },
   "file_extension": ".py",
   "mimetype": "text/x-python",
   "name": "python",
   "nbconvert_exporter": "python",
   "pygments_lexer": "ipython3",
   "version": "3.7.9"
  }
 },
 "nbformat": 4,
 "nbformat_minor": 4
}
