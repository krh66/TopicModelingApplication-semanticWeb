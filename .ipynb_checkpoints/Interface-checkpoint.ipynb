{
 "cells": [
  {
   "cell_type": "code",
   "execution_count": 104,
   "metadata": {},
   "outputs": [
    {
     "name": "stdout",
     "output_type": "stream",
     "text": [
      "r\n"
     ]
    }
   ],
   "source": [
    "import rdflib\n",
    "import rdflib.plugins.sparql as sparql\n",
    "import tkinter as tk\n",
    "import pandas as pd\n",
    "def search(id):\n",
    "    try:\n",
    "        val = int(id)\n",
    "        print(\"it is id\")\n",
    "        OTO = rdflib.URIRef(\"http://www.semanticweb.org/marcushsu/ontologies/2020/10/untitled-ontology-45#\")\n",
    "        XMLNS = rdflib.URIRef(\"http://www.semanticweb.org/marcushsu/ontologies/2020/10/ser531#\")\n",
    "        PRO = rdflib.URIRef(\"http://www.semanticweb.org/marcushsu/ontologies/2020/10/ser531#\")\n",
    "        XSD = rdflib.URIRef(\"http://www.w3.org/2001/XMLSchema#\")\n",
    "        RDF = rdflib.URIRef(\"http://www.w3.org/1999/02/22-rdf-syntax-ns#\")\n",
    "        q = sparql.prepareQuery(\n",
    "            'SELECT ?a ?content WHERE { ?a xmlns:hasID ?v . ?a oto:hasBody ?body . ?body xmlns:BodyContent ?content} LIMIT 50', \n",
    "            initNs = {\"oto\":OTO, \"xmlns\": XMLNS,\"xsd\":XSD,\"pro\":PRO})\n",
    "        g = rdflib.Graph()\n",
    "        g.parse(\"test1.owl\")\n",
    "        h = rdflib.URIRef(\"http://www.semanticweb.org/marcushsu/ontologies/2020/10/ser531#OWLNamedIndividual_0fa8cf3f_ab95_4e68_a468_b9424c4249d8\")\n",
    "        v = rdflib.term.Literal(id)\n",
    "        qres = g.query(q,initBindings = {'v' : v})\n",
    "        for row in qres:\n",
    "            print(row[1])\n",
    "    except ValueError:\n",
    "        print(id)\n",
    "        \n",
    "win = tk.Tk()\n",
    "win.title('Ser531 Project')\n",
    "win.geometry('800x800')\n",
    "win.configure(background='white')\n",
    "search_panel = tk.Frame(win)\n",
    "search_panel.pack(side=tk.TOP)\n",
    "search_label = tk.Label(search_panel, text='Key/ID')\n",
    "search_label.pack(side=tk.LEFT)\n",
    "search_entry = tk.Entry(search_panel)\n",
    "search_entry.pack(side=tk.LEFT)\n",
    "\n",
    "search_btn = tk.Button(win, text='search', command= lambda: search(search_entry.get()))\n",
    "search_btn.pack()\n",
    "result_label = tk.Label(win)\n",
    "result_label.pack()\n",
    "win.mainloop()\n",
    "   "
   ]
  },
  {
   "cell_type": "code",
   "execution_count": null,
   "metadata": {},
   "outputs": [],
   "source": []
  },
  {
   "cell_type": "code",
   "execution_count": null,
   "metadata": {
    "scrolled": true
   },
   "outputs": [],
   "source": []
  },
  {
   "cell_type": "code",
   "execution_count": null,
   "metadata": {},
   "outputs": [],
   "source": []
  },
  {
   "cell_type": "code",
   "execution_count": null,
   "metadata": {},
   "outputs": [],
   "source": []
  }
 ],
 "metadata": {
  "kernelspec": {
   "display_name": "Python 3",
   "language": "python",
   "name": "python3"
  },
  "language_info": {
   "codemirror_mode": {
    "name": "ipython",
    "version": 3
   },
   "file_extension": ".py",
   "mimetype": "text/x-python",
   "name": "python",
   "nbconvert_exporter": "python",
   "pygments_lexer": "ipython3",
   "version": "3.8.3"
  }
 },
 "nbformat": 4,
 "nbformat_minor": 4
}
