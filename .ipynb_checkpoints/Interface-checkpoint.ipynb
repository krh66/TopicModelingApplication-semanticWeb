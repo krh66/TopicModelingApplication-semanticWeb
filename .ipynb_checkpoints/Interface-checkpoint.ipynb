{
 "cells": [
  {
   "cell_type": "code",
   "execution_count": 11,
   "metadata": {},
   "outputs": [],
   "source": [
    "import rdflib\n",
    "import tkinter as tk\n",
    "from owlready2 import *\n",
    "def search():\n",
    "    result_label.configure(text='hello')\n",
    "\n",
    "win = tk.Tk()\n",
    "win.title('Ser531 Project')\n",
    "win.geometry('800x800')\n",
    "win.configure(background='white')\n",
    "search_panel = tk.Frame(win)\n",
    "search_panel.pack(side=tk.TOP)\n",
    "search_label = tk.Label(search_panel, text='Key/ID')\n",
    "search_label.pack(side=tk.LEFT)\n",
    "search_entry = tk.Entry(search_panel)\n",
    "search_entry.pack(side=tk.LEFT)\n",
    "search_btn = tk.Button(win, text='search', command=search)\n",
    "search_btn.pack()\n",
    "result_label = tk.Label(win)\n",
    "result_label.pack()\n",
    "win.mainloop()\n",
    "    "
   ]
  },
  {
   "cell_type": "code",
   "execution_count": 9,
   "metadata": {},
   "outputs": [
    {
     "ename": "OwlReadyOntologyParsingError",
     "evalue": "RDF/XML parsing error in file http://localhost:8890/login?next=%2Fedit%2FSER531TEAM%2FowlRules.owl, line 111, column 2.",
     "output_type": "error",
     "traceback": [
      "\u001b[1;31m---------------------------------------------------------------------------\u001b[0m",
      "\u001b[1;31mExpatError\u001b[0m                                Traceback (most recent call last)",
      "\u001b[1;32m~\\.conda\\envs\\ser531\\lib\\site-packages\\owlready2\\rdfxml_2_ntriples.py\u001b[0m in \u001b[0;36mparse\u001b[1;34m(f, on_prepare_obj, on_prepare_data, new_blank, default_base)\u001b[0m\n\u001b[0;32m    314\u001b[0m     \u001b[1;32melse\u001b[0m\u001b[1;33m:\u001b[0m\u001b[1;33m\u001b[0m\u001b[1;33m\u001b[0m\u001b[0m\n\u001b[1;32m--> 315\u001b[1;33m       \u001b[0mparser\u001b[0m\u001b[1;33m.\u001b[0m\u001b[0mParseFile\u001b[0m\u001b[1;33m(\u001b[0m\u001b[0mf\u001b[0m\u001b[1;33m)\u001b[0m\u001b[1;33m\u001b[0m\u001b[1;33m\u001b[0m\u001b[0m\n\u001b[0m\u001b[0;32m    316\u001b[0m   \u001b[1;32mexcept\u001b[0m \u001b[0mException\u001b[0m \u001b[1;32mas\u001b[0m \u001b[0me\u001b[0m\u001b[1;33m:\u001b[0m\u001b[1;33m\u001b[0m\u001b[1;33m\u001b[0m\u001b[0m\n",
      "\u001b[1;31mExpatError\u001b[0m: mismatched tag: line 111, column 2",
      "\nThe above exception was the direct cause of the following exception:\n",
      "\u001b[1;31mOwlReadyOntologyParsingError\u001b[0m              Traceback (most recent call last)",
      "\u001b[1;32m<ipython-input-9-7254d16273ac>\u001b[0m in \u001b[0;36m<module>\u001b[1;34m\u001b[0m\n\u001b[0;32m     19\u001b[0m \u001b[1;31m#         print(\"hello\")\u001b[0m\u001b[1;33m\u001b[0m\u001b[1;33m\u001b[0m\u001b[1;33m\u001b[0m\u001b[0m\n\u001b[0;32m     20\u001b[0m \u001b[1;31m#         return 1\u001b[0m\u001b[1;33m\u001b[0m\u001b[1;33m\u001b[0m\u001b[1;33m\u001b[0m\u001b[0m\n\u001b[1;32m---> 21\u001b[1;33m \u001b[0mrunQuery\u001b[0m \u001b[1;33m=\u001b[0m \u001b[0mSparqlQueries\u001b[0m\u001b[1;33m(\u001b[0m\u001b[1;33m)\u001b[0m\u001b[1;33m\u001b[0m\u001b[1;33m\u001b[0m\u001b[0m\n\u001b[0m\u001b[0;32m     22\u001b[0m \u001b[0mrunQuery\u001b[0m\u001b[1;33m.\u001b[0m\u001b[0msearch\u001b[0m\u001b[1;33m(\u001b[0m\u001b[1;33m)\u001b[0m\u001b[1;33m\u001b[0m\u001b[1;33m\u001b[0m\u001b[0m\n",
      "\u001b[1;32m<ipython-input-9-7254d16273ac>\u001b[0m in \u001b[0;36m__init__\u001b[1;34m(self)\u001b[0m\n\u001b[0;32m      5\u001b[0m     \u001b[1;32mdef\u001b[0m \u001b[0m__init__\u001b[0m\u001b[1;33m(\u001b[0m\u001b[0mself\u001b[0m\u001b[1;33m)\u001b[0m\u001b[1;33m:\u001b[0m\u001b[1;33m\u001b[0m\u001b[1;33m\u001b[0m\u001b[0m\n\u001b[0;32m      6\u001b[0m         \u001b[0mmy_world\u001b[0m \u001b[1;33m=\u001b[0m \u001b[0mWorld\u001b[0m\u001b[1;33m(\u001b[0m\u001b[1;33m)\u001b[0m\u001b[1;33m\u001b[0m\u001b[1;33m\u001b[0m\u001b[0m\n\u001b[1;32m----> 7\u001b[1;33m         \u001b[0mmy_world\u001b[0m\u001b[1;33m.\u001b[0m\u001b[0mget_ontology\u001b[0m\u001b[1;33m(\u001b[0m\u001b[1;34m\"http://localhost:8890/edit/SER531TEAM/owlRules.owl\"\u001b[0m\u001b[1;33m)\u001b[0m\u001b[1;33m.\u001b[0m\u001b[0mload\u001b[0m\u001b[1;33m(\u001b[0m\u001b[1;33m)\u001b[0m\u001b[1;33m\u001b[0m\u001b[1;33m\u001b[0m\u001b[0m\n\u001b[0m\u001b[0;32m      8\u001b[0m \u001b[1;31m#         sync_reasoner(my_world)\u001b[0m\u001b[1;33m\u001b[0m\u001b[1;33m\u001b[0m\u001b[1;33m\u001b[0m\u001b[0m\n\u001b[0;32m      9\u001b[0m         \u001b[0mself\u001b[0m\u001b[1;33m.\u001b[0m\u001b[0mgraph\u001b[0m \u001b[1;33m=\u001b[0m \u001b[1;34m\"ddd\"\u001b[0m\u001b[1;33m\u001b[0m\u001b[1;33m\u001b[0m\u001b[0m\n",
      "\u001b[1;32m~\\.conda\\envs\\ser531\\lib\\site-packages\\owlready2\\namespace.py\u001b[0m in \u001b[0;36mload\u001b[1;34m(self, only_local, fileobj, reload, reload_if_newer, **args)\u001b[0m\n\u001b[0;32m    772\u001b[0m         \u001b[1;32mtry\u001b[0m\u001b[1;33m:\u001b[0m     \u001b[0mfileobj\u001b[0m \u001b[1;33m=\u001b[0m \u001b[0murllib\u001b[0m\u001b[1;33m.\u001b[0m\u001b[0mrequest\u001b[0m\u001b[1;33m.\u001b[0m\u001b[0murlopen\u001b[0m\u001b[1;33m(\u001b[0m\u001b[0mf\u001b[0m\u001b[1;33m)\u001b[0m\u001b[1;33m\u001b[0m\u001b[1;33m\u001b[0m\u001b[0m\n\u001b[0;32m    773\u001b[0m         \u001b[1;32mexcept\u001b[0m\u001b[1;33m:\u001b[0m  \u001b[1;32mraise\u001b[0m \u001b[0mOwlReadyOntologyParsingError\u001b[0m\u001b[1;33m(\u001b[0m\u001b[1;34m\"Cannot download '%s'!\"\u001b[0m \u001b[1;33m%\u001b[0m \u001b[0mf\u001b[0m\u001b[1;33m)\u001b[0m\u001b[1;33m\u001b[0m\u001b[1;33m\u001b[0m\u001b[0m\n\u001b[1;32m--> 774\u001b[1;33m         \u001b[1;32mtry\u001b[0m\u001b[1;33m:\u001b[0m     \u001b[0mnew_base_iri\u001b[0m \u001b[1;33m=\u001b[0m \u001b[0mself\u001b[0m\u001b[1;33m.\u001b[0m\u001b[0mgraph\u001b[0m\u001b[1;33m.\u001b[0m\u001b[0mparse\u001b[0m\u001b[1;33m(\u001b[0m\u001b[0mfileobj\u001b[0m\u001b[1;33m,\u001b[0m \u001b[0mdefault_base\u001b[0m \u001b[1;33m=\u001b[0m \u001b[0mself\u001b[0m\u001b[1;33m.\u001b[0m\u001b[0mbase_iri\u001b[0m\u001b[1;33m,\u001b[0m \u001b[1;33m**\u001b[0m\u001b[0margs\u001b[0m\u001b[1;33m)\u001b[0m\u001b[1;33m\u001b[0m\u001b[1;33m\u001b[0m\u001b[0m\n\u001b[0m\u001b[0;32m    775\u001b[0m         \u001b[1;32mfinally\u001b[0m\u001b[1;33m:\u001b[0m \u001b[0mfileobj\u001b[0m\u001b[1;33m.\u001b[0m\u001b[0mclose\u001b[0m\u001b[1;33m(\u001b[0m\u001b[1;33m)\u001b[0m\u001b[1;33m\u001b[0m\u001b[1;33m\u001b[0m\u001b[0m\n\u001b[0;32m    776\u001b[0m     \u001b[1;32melif\u001b[0m \u001b[0mfileobj\u001b[0m\u001b[1;33m:\u001b[0m\u001b[1;33m\u001b[0m\u001b[1;33m\u001b[0m\u001b[0m\n",
      "\u001b[1;32m~\\.conda\\envs\\ser531\\lib\\site-packages\\owlready2\\driver.py\u001b[0m in \u001b[0;36mparse\u001b[1;34m(self, f, format, delete_existing_triples, default_base)\u001b[0m\n\u001b[0;32m    195\u001b[0m       \u001b[1;32mexcept\u001b[0m \u001b[0mOwlReadyOntologyParsingError\u001b[0m \u001b[1;32mas\u001b[0m \u001b[0me\u001b[0m\u001b[1;33m:\u001b[0m\u001b[1;33m\u001b[0m\u001b[1;33m\u001b[0m\u001b[0m\n\u001b[0;32m    196\u001b[0m         \u001b[1;32mif\u001b[0m \u001b[0mlen\u001b[0m\u001b[1;33m(\u001b[0m\u001b[0mself\u001b[0m\u001b[1;33m)\u001b[0m \u001b[1;33m==\u001b[0m \u001b[1;36m0\u001b[0m\u001b[1;33m:\u001b[0m \u001b[0mself\u001b[0m\u001b[1;33m.\u001b[0m\u001b[0m_add_obj_triple_raw_spo\u001b[0m\u001b[1;33m(\u001b[0m\u001b[0mself\u001b[0m\u001b[1;33m.\u001b[0m\u001b[0monto\u001b[0m\u001b[1;33m.\u001b[0m\u001b[0mstorid\u001b[0m\u001b[1;33m,\u001b[0m \u001b[0mrdf_type\u001b[0m\u001b[1;33m,\u001b[0m \u001b[0mowl_ontology\u001b[0m\u001b[1;33m)\u001b[0m\u001b[1;33m\u001b[0m\u001b[1;33m\u001b[0m\u001b[0m\n\u001b[1;32m--> 197\u001b[1;33m         \u001b[1;32mraise\u001b[0m \u001b[0me\u001b[0m\u001b[1;33m\u001b[0m\u001b[1;33m\u001b[0m\u001b[0m\n\u001b[0m\u001b[0;32m    198\u001b[0m \u001b[1;33m\u001b[0m\u001b[0m\n\u001b[0;32m    199\u001b[0m     \u001b[1;32melif\u001b[0m \u001b[0mformat\u001b[0m \u001b[1;33m==\u001b[0m \u001b[1;34m\"owlxml\"\u001b[0m\u001b[1;33m:\u001b[0m\u001b[1;33m\u001b[0m\u001b[1;33m\u001b[0m\u001b[0m\n",
      "\u001b[1;32m~\\.conda\\envs\\ser531\\lib\\site-packages\\owlready2\\driver.py\u001b[0m in \u001b[0;36mparse\u001b[1;34m(self, f, format, delete_existing_triples, default_base)\u001b[0m\n\u001b[0;32m    191\u001b[0m         \u001b[1;32melse\u001b[0m\u001b[1;33m:\u001b[0m\u001b[1;33m\u001b[0m\u001b[1;33m\u001b[0m\u001b[0m\n\u001b[0;32m    192\u001b[0m           \u001b[1;32mimport\u001b[0m \u001b[0mowlready2\u001b[0m\u001b[1;33m.\u001b[0m\u001b[0mrdfxml_2_ntriples\u001b[0m\u001b[1;33m\u001b[0m\u001b[1;33m\u001b[0m\u001b[0m\n\u001b[1;32m--> 193\u001b[1;33m           \u001b[0mowlready2\u001b[0m\u001b[1;33m.\u001b[0m\u001b[0mrdfxml_2_ntriples\u001b[0m\u001b[1;33m.\u001b[0m\u001b[0mparse\u001b[0m\u001b[1;33m(\u001b[0m\u001b[0mf\u001b[0m\u001b[1;33m,\u001b[0m \u001b[0mon_prepare_obj\u001b[0m\u001b[1;33m,\u001b[0m \u001b[0mon_prepare_data\u001b[0m\u001b[1;33m,\u001b[0m \u001b[0mnew_blank\u001b[0m\u001b[1;33m,\u001b[0m \u001b[0mdefault_base\u001b[0m\u001b[1;33m)\u001b[0m\u001b[1;33m\u001b[0m\u001b[1;33m\u001b[0m\u001b[0m\n\u001b[0m\u001b[0;32m    194\u001b[0m         \u001b[0monto_base_iri\u001b[0m \u001b[1;33m=\u001b[0m \u001b[0mon_finish\u001b[0m\u001b[1;33m(\u001b[0m\u001b[1;33m)\u001b[0m\u001b[1;33m\u001b[0m\u001b[1;33m\u001b[0m\u001b[0m\n\u001b[0;32m    195\u001b[0m       \u001b[1;32mexcept\u001b[0m \u001b[0mOwlReadyOntologyParsingError\u001b[0m \u001b[1;32mas\u001b[0m \u001b[0me\u001b[0m\u001b[1;33m:\u001b[0m\u001b[1;33m\u001b[0m\u001b[1;33m\u001b[0m\u001b[0m\n",
      "\u001b[1;32m~\\.conda\\envs\\ser531\\lib\\site-packages\\owlready2\\rdfxml_2_ntriples.py\u001b[0m in \u001b[0;36mparse\u001b[1;34m(f, on_prepare_obj, on_prepare_data, new_blank, default_base)\u001b[0m\n\u001b[0;32m    315\u001b[0m       \u001b[0mparser\u001b[0m\u001b[1;33m.\u001b[0m\u001b[0mParseFile\u001b[0m\u001b[1;33m(\u001b[0m\u001b[0mf\u001b[0m\u001b[1;33m)\u001b[0m\u001b[1;33m\u001b[0m\u001b[1;33m\u001b[0m\u001b[0m\n\u001b[0;32m    316\u001b[0m   \u001b[1;32mexcept\u001b[0m \u001b[0mException\u001b[0m \u001b[1;32mas\u001b[0m \u001b[0me\u001b[0m\u001b[1;33m:\u001b[0m\u001b[1;33m\u001b[0m\u001b[1;33m\u001b[0m\u001b[0m\n\u001b[1;32m--> 317\u001b[1;33m     \u001b[1;32mraise\u001b[0m \u001b[0mOwlReadyOntologyParsingError\u001b[0m\u001b[1;33m(\u001b[0m\u001b[1;34m\"RDF/XML parsing error in file %s, line %s, column %s.\"\u001b[0m \u001b[1;33m%\u001b[0m \u001b[1;33m(\u001b[0m\u001b[0mgetattr\u001b[0m\u001b[1;33m(\u001b[0m\u001b[0mf\u001b[0m\u001b[1;33m,\u001b[0m \u001b[1;34m\"name\"\u001b[0m\u001b[1;33m,\u001b[0m \u001b[0mgetattr\u001b[0m\u001b[1;33m(\u001b[0m\u001b[0mf\u001b[0m\u001b[1;33m,\u001b[0m \u001b[1;34m\"url\"\u001b[0m\u001b[1;33m,\u001b[0m \u001b[1;34m\"???\"\u001b[0m\u001b[1;33m)\u001b[0m\u001b[1;33m)\u001b[0m\u001b[1;33m,\u001b[0m \u001b[0mparser\u001b[0m\u001b[1;33m.\u001b[0m\u001b[0mCurrentLineNumber\u001b[0m\u001b[1;33m,\u001b[0m \u001b[0mparser\u001b[0m\u001b[1;33m.\u001b[0m\u001b[0mCurrentColumnNumber\u001b[0m\u001b[1;33m)\u001b[0m\u001b[1;33m)\u001b[0m \u001b[1;32mfrom\u001b[0m \u001b[0me\u001b[0m\u001b[1;33m\u001b[0m\u001b[1;33m\u001b[0m\u001b[0m\n\u001b[0m\u001b[0;32m    318\u001b[0m \u001b[1;33m\u001b[0m\u001b[0m\n\u001b[0;32m    319\u001b[0m \u001b[1;33m\u001b[0m\u001b[0m\n",
      "\u001b[1;31mOwlReadyOntologyParsingError\u001b[0m: RDF/XML parsing error in file http://localhost:8890/login?next=%2Fedit%2FSER531TEAM%2FowlRules.owl, line 111, column 2."
     ]
    }
   ],
   "source": [
    "import rdflib\n",
    "import tkinter as tk\n",
    "from owlready2 import *\n",
    "class SparqlQueries:\n",
    "    def __init__(self):\n",
    "        my_world = World()\n",
    "        my_world.get_ontology(\"http://localhost:8890/edit/SER531TEAM/owlRules.owl\").load()\n",
    "#         sync_reasoner(my_world)\n",
    "        self.graph = \"ddd\"\n",
    "        \n",
    "    def search(self):\n",
    "        print(self.graph)\n",
    "#         query = \"base <http://localhost:8890/edit/SER531TEAM/owlRules.owl>\"\\\n",
    "#                 \"SELECT ?s\"\\\n",
    "#                 \"WHERE{\"\\\n",
    "#                 \"?s rdf:about ?o .\"\\\n",
    "#                 \"}\"\n",
    "#         resultsList = self.graph.query(query)\n",
    "#         print(\"hello\")\n",
    "#         return 1\n",
    "runQuery = SparqlQueries()\n",
    "runQuery.search()"
   ]
  },
  {
   "cell_type": "code",
   "execution_count": null,
   "metadata": {},
   "outputs": [],
   "source": []
  },
  {
   "cell_type": "code",
   "execution_count": null,
   "metadata": {},
   "outputs": [],
   "source": []
  }
 ],
 "metadata": {
  "kernelspec": {
   "display_name": "Python 3",
   "language": "python",
   "name": "python3"
  },
  "language_info": {
   "codemirror_mode": {
    "name": "ipython",
    "version": 3
   },
   "file_extension": ".py",
   "mimetype": "text/x-python",
   "name": "python",
   "nbconvert_exporter": "python",
   "pygments_lexer": "ipython3",
   "version": "3.7.9"
  }
 },
 "nbformat": 4,
 "nbformat_minor": 4
}
