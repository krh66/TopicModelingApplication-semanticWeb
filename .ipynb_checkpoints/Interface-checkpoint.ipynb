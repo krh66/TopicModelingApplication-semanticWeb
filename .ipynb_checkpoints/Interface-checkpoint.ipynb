{
 "cells": [
  {
   "cell_type": "code",
   "execution_count": 12,
   "metadata": {},
   "outputs": [],
   "source": [
    "import tkinter as tk\n",
    "win = tk.Tk()\n",
    "\n",
    "win.title('Ser531 Project')\n",
    "win.geometry('800x800')\n",
    "win.configure(background='white')\n",
    "\n",
    "def search():\n",
    "    result_label.configure(text='hello')\n",
    "    \n",
    "search_panel = tk.Frame(win)\n",
    "search_panel.pack(side=tk.TOP)\n",
    "search_label = tk.Label(search_panel, text='Key/ID')\n",
    "search_label.pack(side=tk.LEFT)\n",
    "search_entry = tk.Entry(search_panel)\n",
    "search_entry.pack(side=tk.LEFT)\n",
    "\n",
    "search_btn = tk.Button(win, text='search', command=search)\n",
    "search_btn.pack()\n",
    "result_label = tk.Label(win)\n",
    "result_label.pack()\n",
    "win.mainloop()"
   ]
  },
  {
   "cell_type": "code",
   "execution_count": null,
   "metadata": {},
   "outputs": [],
   "source": []
  },
  {
   "cell_type": "code",
   "execution_count": null,
   "metadata": {},
   "outputs": [],
   "source": []
  }
 ],
 "metadata": {
  "kernelspec": {
   "display_name": "Python 3",
   "language": "python",
   "name": "python3"
  },
  "language_info": {
   "codemirror_mode": {
    "name": "ipython",
    "version": 3
   },
   "file_extension": ".py",
   "mimetype": "text/x-python",
   "name": "python",
   "nbconvert_exporter": "python",
   "pygments_lexer": "ipython3",
   "version": "3.8.3"
  }
 },
 "nbformat": 4,
 "nbformat_minor": 4
}
