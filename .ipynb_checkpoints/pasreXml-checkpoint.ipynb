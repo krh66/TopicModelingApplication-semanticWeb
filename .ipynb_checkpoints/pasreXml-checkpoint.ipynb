{
 "cells": [
  {
   "cell_type": "code",
   "execution_count": 5,
   "metadata": {
    "scrolled": true
   },
   "outputs": [],
   "source": [
    "import csv \n",
    "import requests \n",
    "import xml.etree.ElementTree as ET \n",
    "from bs4 import BeautifulSoup as Soup"
   ]
  },
  {
   "cell_type": "code",
   "execution_count": 12,
   "metadata": {},
   "outputs": [],
   "source": [
    "def parseXML(xmlfile): \n",
    "    # create element tree object \n",
    "    tree = ET.parse(xmlfile) \n",
    "    \n",
    "    # get root element \n",
    "    root = tree.getroot() \n",
    "    \n",
    "    # create empty list for news items \n",
    "    coffeePosts = [] \n",
    "    \n",
    "    # iterate news items \n",
    "    for item in root.findall('./row'): \n",
    "    \n",
    "        # empty news dictionary \n",
    "        post = {} \n",
    "        #remove html tags in body\n",
    "        subroot = Soup(item.attrib['Body'], 'lxml')\n",
    "        #if body doesn't have any context, don't write into the file\n",
    "        if subroot.text != \"\" and subroot.text != \"\\n\":\n",
    "            post['Body'] = subroot.text\n",
    "            post['Id'] = item.attrib['Id']\n",
    "            post['PostTypeId'] = item.attrib['PostTypeId']\n",
    "            post['CreationDate'] = item.attrib['CreationDate']\n",
    "            if 'ParentId' in item.attrib:\n",
    "                post['ParentId'] = item.attrib['ParentId']\n",
    "            if 'Title' in item.attrib:\n",
    "                post['Title'] = item.attrib['Title']\n",
    "\n",
    "            # append news dictionary to news items list \n",
    "            coffeePosts.append(post)\n",
    "    \n",
    "    # return coffee post list \n",
    "    return coffeePosts "
   ]
  },
  {
   "cell_type": "code",
   "execution_count": 7,
   "metadata": {
    "scrolled": true
   },
   "outputs": [],
   "source": [
    "def savetoCSV(coffeePosts, filename): \n",
    "  \n",
    "    # specifying the fields for csv file \n",
    "    fields = ['Id', 'ParentId', 'PostTypeId','CreationDate', 'Title', 'Body'] \n",
    "  \n",
    "    # writing to csv file \n",
    "    with open(filename, 'w') as csvfile: \n",
    "  \n",
    "        # creating a csv dict writer object \n",
    "        writer = csv.DictWriter(csvfile, fieldnames = fields) \n",
    "  \n",
    "        # writing headers (field names) \n",
    "        writer.writeheader() \n",
    "  \n",
    "        # writing data rows \n",
    "        writer.writerows(coffeePosts) "
   ]
  },
  {
   "cell_type": "code",
   "execution_count": 8,
   "metadata": {
    "scrolled": true
   },
   "outputs": [],
   "source": [
    "dataSource = open(\"../SER531TEAM/Data/Posts.xml\")\n",
    "coffeePosts = parseXML(dataSource)\n",
    "savetoCSV(coffeePosts, \"./data/dataset.csv\")"
   ]
  },
  {
   "cell_type": "code",
   "execution_count": 30,
   "metadata": {},
   "outputs": [],
   "source": []
  },
  {
   "cell_type": "code",
   "execution_count": null,
   "metadata": {},
   "outputs": [],
   "source": []
  }
 ],
 "metadata": {
  "kernelspec": {
   "display_name": "Python 3",
   "language": "python",
   "name": "python3"
  },
  "language_info": {
   "codemirror_mode": {
    "name": "ipython",
    "version": 3
   },
   "file_extension": ".py",
   "mimetype": "text/x-python",
   "name": "python",
   "nbconvert_exporter": "python",
   "pygments_lexer": "ipython3",
   "version": "3.8.3"
  }
 },
 "nbformat": 4,
 "nbformat_minor": 4
}
